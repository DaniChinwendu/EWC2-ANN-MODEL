{
  "cells": [
    {
      "cell_type": "markdown",
      "metadata": {
        "id": "view-in-github",
        "colab_type": "text"
      },
      "source": [
        "<a href=\"https://colab.research.google.com/github/DaniChinwendu/EWC2-ANN-MODEL/blob/main/EWC_2_DPRA%2Ch_CLAT%2CARE.ipynb\" target=\"_parent\"><img src=\"https://colab.research.google.com/assets/colab-badge.svg\" alt=\"Open In Colab\"/></a>"
      ]
    },
    {
      "cell_type": "code",
      "execution_count": 1,
      "metadata": {
        "colab": {
          "base_uri": "https://localhost:8080/",
          "height": 427
        },
        "id": "hR2R72VeT1c4",
        "outputId": "ce981e6f-31ab-4022-87d2-062057a9fbab"
      },
      "outputs": [
        {
          "output_type": "display_data",
          "data": {
            "text/plain": [
              "<IPython.core.display.HTML object>"
            ],
            "text/html": [
              "\n",
              "     <input type=\"file\" id=\"files-d218fde0-163c-457f-bd0b-ede9abb38088\" name=\"files[]\" multiple disabled\n",
              "        style=\"border:none\" />\n",
              "     <output id=\"result-d218fde0-163c-457f-bd0b-ede9abb38088\">\n",
              "      Upload widget is only available when the cell has been executed in the\n",
              "      current browser session. Please rerun this cell to enable.\n",
              "      </output>\n",
              "      <script>// Copyright 2017 Google LLC\n",
              "//\n",
              "// Licensed under the Apache License, Version 2.0 (the \"License\");\n",
              "// you may not use this file except in compliance with the License.\n",
              "// You may obtain a copy of the License at\n",
              "//\n",
              "//      http://www.apache.org/licenses/LICENSE-2.0\n",
              "//\n",
              "// Unless required by applicable law or agreed to in writing, software\n",
              "// distributed under the License is distributed on an \"AS IS\" BASIS,\n",
              "// WITHOUT WARRANTIES OR CONDITIONS OF ANY KIND, either express or implied.\n",
              "// See the License for the specific language governing permissions and\n",
              "// limitations under the License.\n",
              "\n",
              "/**\n",
              " * @fileoverview Helpers for google.colab Python module.\n",
              " */\n",
              "(function(scope) {\n",
              "function span(text, styleAttributes = {}) {\n",
              "  const element = document.createElement('span');\n",
              "  element.textContent = text;\n",
              "  for (const key of Object.keys(styleAttributes)) {\n",
              "    element.style[key] = styleAttributes[key];\n",
              "  }\n",
              "  return element;\n",
              "}\n",
              "\n",
              "// Max number of bytes which will be uploaded at a time.\n",
              "const MAX_PAYLOAD_SIZE = 100 * 1024;\n",
              "\n",
              "function _uploadFiles(inputId, outputId) {\n",
              "  const steps = uploadFilesStep(inputId, outputId);\n",
              "  const outputElement = document.getElementById(outputId);\n",
              "  // Cache steps on the outputElement to make it available for the next call\n",
              "  // to uploadFilesContinue from Python.\n",
              "  outputElement.steps = steps;\n",
              "\n",
              "  return _uploadFilesContinue(outputId);\n",
              "}\n",
              "\n",
              "// This is roughly an async generator (not supported in the browser yet),\n",
              "// where there are multiple asynchronous steps and the Python side is going\n",
              "// to poll for completion of each step.\n",
              "// This uses a Promise to block the python side on completion of each step,\n",
              "// then passes the result of the previous step as the input to the next step.\n",
              "function _uploadFilesContinue(outputId) {\n",
              "  const outputElement = document.getElementById(outputId);\n",
              "  const steps = outputElement.steps;\n",
              "\n",
              "  const next = steps.next(outputElement.lastPromiseValue);\n",
              "  return Promise.resolve(next.value.promise).then((value) => {\n",
              "    // Cache the last promise value to make it available to the next\n",
              "    // step of the generator.\n",
              "    outputElement.lastPromiseValue = value;\n",
              "    return next.value.response;\n",
              "  });\n",
              "}\n",
              "\n",
              "/**\n",
              " * Generator function which is called between each async step of the upload\n",
              " * process.\n",
              " * @param {string} inputId Element ID of the input file picker element.\n",
              " * @param {string} outputId Element ID of the output display.\n",
              " * @return {!Iterable<!Object>} Iterable of next steps.\n",
              " */\n",
              "function* uploadFilesStep(inputId, outputId) {\n",
              "  const inputElement = document.getElementById(inputId);\n",
              "  inputElement.disabled = false;\n",
              "\n",
              "  const outputElement = document.getElementById(outputId);\n",
              "  outputElement.innerHTML = '';\n",
              "\n",
              "  const pickedPromise = new Promise((resolve) => {\n",
              "    inputElement.addEventListener('change', (e) => {\n",
              "      resolve(e.target.files);\n",
              "    });\n",
              "  });\n",
              "\n",
              "  const cancel = document.createElement('button');\n",
              "  inputElement.parentElement.appendChild(cancel);\n",
              "  cancel.textContent = 'Cancel upload';\n",
              "  const cancelPromise = new Promise((resolve) => {\n",
              "    cancel.onclick = () => {\n",
              "      resolve(null);\n",
              "    };\n",
              "  });\n",
              "\n",
              "  // Wait for the user to pick the files.\n",
              "  const files = yield {\n",
              "    promise: Promise.race([pickedPromise, cancelPromise]),\n",
              "    response: {\n",
              "      action: 'starting',\n",
              "    }\n",
              "  };\n",
              "\n",
              "  cancel.remove();\n",
              "\n",
              "  // Disable the input element since further picks are not allowed.\n",
              "  inputElement.disabled = true;\n",
              "\n",
              "  if (!files) {\n",
              "    return {\n",
              "      response: {\n",
              "        action: 'complete',\n",
              "      }\n",
              "    };\n",
              "  }\n",
              "\n",
              "  for (const file of files) {\n",
              "    const li = document.createElement('li');\n",
              "    li.append(span(file.name, {fontWeight: 'bold'}));\n",
              "    li.append(span(\n",
              "        `(${file.type || 'n/a'}) - ${file.size} bytes, ` +\n",
              "        `last modified: ${\n",
              "            file.lastModifiedDate ? file.lastModifiedDate.toLocaleDateString() :\n",
              "                                    'n/a'} - `));\n",
              "    const percent = span('0% done');\n",
              "    li.appendChild(percent);\n",
              "\n",
              "    outputElement.appendChild(li);\n",
              "\n",
              "    const fileDataPromise = new Promise((resolve) => {\n",
              "      const reader = new FileReader();\n",
              "      reader.onload = (e) => {\n",
              "        resolve(e.target.result);\n",
              "      };\n",
              "      reader.readAsArrayBuffer(file);\n",
              "    });\n",
              "    // Wait for the data to be ready.\n",
              "    let fileData = yield {\n",
              "      promise: fileDataPromise,\n",
              "      response: {\n",
              "        action: 'continue',\n",
              "      }\n",
              "    };\n",
              "\n",
              "    // Use a chunked sending to avoid message size limits. See b/62115660.\n",
              "    let position = 0;\n",
              "    do {\n",
              "      const length = Math.min(fileData.byteLength - position, MAX_PAYLOAD_SIZE);\n",
              "      const chunk = new Uint8Array(fileData, position, length);\n",
              "      position += length;\n",
              "\n",
              "      const base64 = btoa(String.fromCharCode.apply(null, chunk));\n",
              "      yield {\n",
              "        response: {\n",
              "          action: 'append',\n",
              "          file: file.name,\n",
              "          data: base64,\n",
              "        },\n",
              "      };\n",
              "\n",
              "      let percentDone = fileData.byteLength === 0 ?\n",
              "          100 :\n",
              "          Math.round((position / fileData.byteLength) * 100);\n",
              "      percent.textContent = `${percentDone}% done`;\n",
              "\n",
              "    } while (position < fileData.byteLength);\n",
              "  }\n",
              "\n",
              "  // All done.\n",
              "  yield {\n",
              "    response: {\n",
              "      action: 'complete',\n",
              "    }\n",
              "  };\n",
              "}\n",
              "\n",
              "scope.google = scope.google || {};\n",
              "scope.google.colab = scope.google.colab || {};\n",
              "scope.google.colab._files = {\n",
              "  _uploadFiles,\n",
              "  _uploadFilesContinue,\n",
              "};\n",
              "})(self);\n",
              "</script> "
            ]
          },
          "metadata": {}
        },
        {
          "output_type": "stream",
          "name": "stdout",
          "text": [
            "Saving Hirota_2015_Updated_Clean_092515 (2).csv to Hirota_2015_Updated_Clean_092515 (2).csv\n"
          ]
        },
        {
          "output_type": "execute_result",
          "data": {
            "text/plain": [
              "                 CASRN                Chemical LLNAthreshold  \\\n",
              "CASRN                                                          \n",
              "886-38-4      886-38-4  Diphenylcyclopropenone         0.003   \n",
              "15646-46-5  15646-46-5               Oxazolone         0.003   \n",
              "1897-45-6    1897-45-6          Chlorothalonil         0.004   \n",
              "mixture        mixture                  MCI/MI         0.005   \n",
              "106-51-4      106-51-4        1,4-Benzoquinone          0.01   \n",
              "\n",
              "            logLLNAthreshold  logMinhCLAT  logDPRA  logImax  logMAC    EC3  \\\n",
              "CASRN                                                                        \n",
              "886-38-4             -2.5229        0.593   1.7118   1.2281   2.666  0.003   \n",
              "15646-46-5           -2.5229        0.433   1.6390   0.2086   1.765  0.003   \n",
              "1897-45-6            -2.3979       -0.678   1.7071   1.2956   1.702  0.004   \n",
              "mixture              -2.3010        0.344   1.7292   0.4691   1.794  0.005   \n",
              "106-51-4             -2.0044        0.350   1.9680   1.7092   1.614   0.01   \n",
              "\n",
              "           LLNA_Threshold GHS_Category hCLAT_Call DPRA_Call ARE_Call SH_Call  \\\n",
              "CASRN                                                                          \n",
              "886-38-4            0.003           1A          P         P        P       P   \n",
              "15646-46-5          0.003           1A          P         P        P       P   \n",
              "1897-45-6           0.004           1A          P         P        P       P   \n",
              "mixture             0.005           1A          P         P        P       P   \n",
              "106-51-4             0.01           1A          P         P        P       P   \n",
              "\n",
              "            Pred_LLNAthreshold Pred_PotencyCategory LLNA_Category  \n",
              "CASRN                                                              \n",
              "886-38-4                  0.35    Extreme or Strong       Extreme  \n",
              "15646-46-5                0.20    Extreme or Strong       Extreme  \n",
              "1897-45-6                 0.02    Extreme or Strong       Extreme  \n",
              "mixture                   0.13    Extreme or Strong       Extreme  \n",
              "106-51-4                  0.13    Extreme or Strong       Extreme  "
            ],
            "text/html": [
              "\n",
              "  <div id=\"df-71508cb5-ee96-4fa6-a703-dc686407b345\">\n",
              "    <div class=\"colab-df-container\">\n",
              "      <div>\n",
              "<style scoped>\n",
              "    .dataframe tbody tr th:only-of-type {\n",
              "        vertical-align: middle;\n",
              "    }\n",
              "\n",
              "    .dataframe tbody tr th {\n",
              "        vertical-align: top;\n",
              "    }\n",
              "\n",
              "    .dataframe thead th {\n",
              "        text-align: right;\n",
              "    }\n",
              "</style>\n",
              "<table border=\"1\" class=\"dataframe\">\n",
              "  <thead>\n",
              "    <tr style=\"text-align: right;\">\n",
              "      <th></th>\n",
              "      <th>CASRN</th>\n",
              "      <th>Chemical</th>\n",
              "      <th>LLNAthreshold</th>\n",
              "      <th>logLLNAthreshold</th>\n",
              "      <th>logMinhCLAT</th>\n",
              "      <th>logDPRA</th>\n",
              "      <th>logImax</th>\n",
              "      <th>logMAC</th>\n",
              "      <th>EC3</th>\n",
              "      <th>LLNA_Threshold</th>\n",
              "      <th>GHS_Category</th>\n",
              "      <th>hCLAT_Call</th>\n",
              "      <th>DPRA_Call</th>\n",
              "      <th>ARE_Call</th>\n",
              "      <th>SH_Call</th>\n",
              "      <th>Pred_LLNAthreshold</th>\n",
              "      <th>Pred_PotencyCategory</th>\n",
              "      <th>LLNA_Category</th>\n",
              "    </tr>\n",
              "    <tr>\n",
              "      <th>CASRN</th>\n",
              "      <th></th>\n",
              "      <th></th>\n",
              "      <th></th>\n",
              "      <th></th>\n",
              "      <th></th>\n",
              "      <th></th>\n",
              "      <th></th>\n",
              "      <th></th>\n",
              "      <th></th>\n",
              "      <th></th>\n",
              "      <th></th>\n",
              "      <th></th>\n",
              "      <th></th>\n",
              "      <th></th>\n",
              "      <th></th>\n",
              "      <th></th>\n",
              "      <th></th>\n",
              "      <th></th>\n",
              "    </tr>\n",
              "  </thead>\n",
              "  <tbody>\n",
              "    <tr>\n",
              "      <th>886-38-4</th>\n",
              "      <td>886-38-4</td>\n",
              "      <td>Diphenylcyclopropenone</td>\n",
              "      <td>0.003</td>\n",
              "      <td>-2.5229</td>\n",
              "      <td>0.593</td>\n",
              "      <td>1.7118</td>\n",
              "      <td>1.2281</td>\n",
              "      <td>2.666</td>\n",
              "      <td>0.003</td>\n",
              "      <td>0.003</td>\n",
              "      <td>1A</td>\n",
              "      <td>P</td>\n",
              "      <td>P</td>\n",
              "      <td>P</td>\n",
              "      <td>P</td>\n",
              "      <td>0.35</td>\n",
              "      <td>Extreme or Strong</td>\n",
              "      <td>Extreme</td>\n",
              "    </tr>\n",
              "    <tr>\n",
              "      <th>15646-46-5</th>\n",
              "      <td>15646-46-5</td>\n",
              "      <td>Oxazolone</td>\n",
              "      <td>0.003</td>\n",
              "      <td>-2.5229</td>\n",
              "      <td>0.433</td>\n",
              "      <td>1.6390</td>\n",
              "      <td>0.2086</td>\n",
              "      <td>1.765</td>\n",
              "      <td>0.003</td>\n",
              "      <td>0.003</td>\n",
              "      <td>1A</td>\n",
              "      <td>P</td>\n",
              "      <td>P</td>\n",
              "      <td>P</td>\n",
              "      <td>P</td>\n",
              "      <td>0.20</td>\n",
              "      <td>Extreme or Strong</td>\n",
              "      <td>Extreme</td>\n",
              "    </tr>\n",
              "    <tr>\n",
              "      <th>1897-45-6</th>\n",
              "      <td>1897-45-6</td>\n",
              "      <td>Chlorothalonil</td>\n",
              "      <td>0.004</td>\n",
              "      <td>-2.3979</td>\n",
              "      <td>-0.678</td>\n",
              "      <td>1.7071</td>\n",
              "      <td>1.2956</td>\n",
              "      <td>1.702</td>\n",
              "      <td>0.004</td>\n",
              "      <td>0.004</td>\n",
              "      <td>1A</td>\n",
              "      <td>P</td>\n",
              "      <td>P</td>\n",
              "      <td>P</td>\n",
              "      <td>P</td>\n",
              "      <td>0.02</td>\n",
              "      <td>Extreme or Strong</td>\n",
              "      <td>Extreme</td>\n",
              "    </tr>\n",
              "    <tr>\n",
              "      <th>mixture</th>\n",
              "      <td>mixture</td>\n",
              "      <td>MCI/MI</td>\n",
              "      <td>0.005</td>\n",
              "      <td>-2.3010</td>\n",
              "      <td>0.344</td>\n",
              "      <td>1.7292</td>\n",
              "      <td>0.4691</td>\n",
              "      <td>1.794</td>\n",
              "      <td>0.005</td>\n",
              "      <td>0.005</td>\n",
              "      <td>1A</td>\n",
              "      <td>P</td>\n",
              "      <td>P</td>\n",
              "      <td>P</td>\n",
              "      <td>P</td>\n",
              "      <td>0.13</td>\n",
              "      <td>Extreme or Strong</td>\n",
              "      <td>Extreme</td>\n",
              "    </tr>\n",
              "    <tr>\n",
              "      <th>106-51-4</th>\n",
              "      <td>106-51-4</td>\n",
              "      <td>1,4-Benzoquinone</td>\n",
              "      <td>0.01</td>\n",
              "      <td>-2.0044</td>\n",
              "      <td>0.350</td>\n",
              "      <td>1.9680</td>\n",
              "      <td>1.7092</td>\n",
              "      <td>1.614</td>\n",
              "      <td>0.01</td>\n",
              "      <td>0.01</td>\n",
              "      <td>1A</td>\n",
              "      <td>P</td>\n",
              "      <td>P</td>\n",
              "      <td>P</td>\n",
              "      <td>P</td>\n",
              "      <td>0.13</td>\n",
              "      <td>Extreme or Strong</td>\n",
              "      <td>Extreme</td>\n",
              "    </tr>\n",
              "  </tbody>\n",
              "</table>\n",
              "</div>\n",
              "      <button class=\"colab-df-convert\" onclick=\"convertToInteractive('df-71508cb5-ee96-4fa6-a703-dc686407b345')\"\n",
              "              title=\"Convert this dataframe to an interactive table.\"\n",
              "              style=\"display:none;\">\n",
              "        \n",
              "  <svg xmlns=\"http://www.w3.org/2000/svg\" height=\"24px\"viewBox=\"0 0 24 24\"\n",
              "       width=\"24px\">\n",
              "    <path d=\"M0 0h24v24H0V0z\" fill=\"none\"/>\n",
              "    <path d=\"M18.56 5.44l.94 2.06.94-2.06 2.06-.94-2.06-.94-.94-2.06-.94 2.06-2.06.94zm-11 1L8.5 8.5l.94-2.06 2.06-.94-2.06-.94L8.5 2.5l-.94 2.06-2.06.94zm10 10l.94 2.06.94-2.06 2.06-.94-2.06-.94-.94-2.06-.94 2.06-2.06.94z\"/><path d=\"M17.41 7.96l-1.37-1.37c-.4-.4-.92-.59-1.43-.59-.52 0-1.04.2-1.43.59L10.3 9.45l-7.72 7.72c-.78.78-.78 2.05 0 2.83L4 21.41c.39.39.9.59 1.41.59.51 0 1.02-.2 1.41-.59l7.78-7.78 2.81-2.81c.8-.78.8-2.07 0-2.86zM5.41 20L4 18.59l7.72-7.72 1.47 1.35L5.41 20z\"/>\n",
              "  </svg>\n",
              "      </button>\n",
              "      \n",
              "  <style>\n",
              "    .colab-df-container {\n",
              "      display:flex;\n",
              "      flex-wrap:wrap;\n",
              "      gap: 12px;\n",
              "    }\n",
              "\n",
              "    .colab-df-convert {\n",
              "      background-color: #E8F0FE;\n",
              "      border: none;\n",
              "      border-radius: 50%;\n",
              "      cursor: pointer;\n",
              "      display: none;\n",
              "      fill: #1967D2;\n",
              "      height: 32px;\n",
              "      padding: 0 0 0 0;\n",
              "      width: 32px;\n",
              "    }\n",
              "\n",
              "    .colab-df-convert:hover {\n",
              "      background-color: #E2EBFA;\n",
              "      box-shadow: 0px 1px 2px rgba(60, 64, 67, 0.3), 0px 1px 3px 1px rgba(60, 64, 67, 0.15);\n",
              "      fill: #174EA6;\n",
              "    }\n",
              "\n",
              "    [theme=dark] .colab-df-convert {\n",
              "      background-color: #3B4455;\n",
              "      fill: #D2E3FC;\n",
              "    }\n",
              "\n",
              "    [theme=dark] .colab-df-convert:hover {\n",
              "      background-color: #434B5C;\n",
              "      box-shadow: 0px 1px 3px 1px rgba(0, 0, 0, 0.15);\n",
              "      filter: drop-shadow(0px 1px 2px rgba(0, 0, 0, 0.3));\n",
              "      fill: #FFFFFF;\n",
              "    }\n",
              "  </style>\n",
              "\n",
              "      <script>\n",
              "        const buttonEl =\n",
              "          document.querySelector('#df-71508cb5-ee96-4fa6-a703-dc686407b345 button.colab-df-convert');\n",
              "        buttonEl.style.display =\n",
              "          google.colab.kernel.accessAllowed ? 'block' : 'none';\n",
              "\n",
              "        async function convertToInteractive(key) {\n",
              "          const element = document.querySelector('#df-71508cb5-ee96-4fa6-a703-dc686407b345');\n",
              "          const dataTable =\n",
              "            await google.colab.kernel.invokeFunction('convertToInteractive',\n",
              "                                                     [key], {});\n",
              "          if (!dataTable) return;\n",
              "\n",
              "          const docLinkHtml = 'Like what you see? Visit the ' +\n",
              "            '<a target=\"_blank\" href=https://colab.research.google.com/notebooks/data_table.ipynb>data table notebook</a>'\n",
              "            + ' to learn more about interactive tables.';\n",
              "          element.innerHTML = '';\n",
              "          dataTable['output_type'] = 'display_data';\n",
              "          await google.colab.output.renderOutput(dataTable, element);\n",
              "          const docLink = document.createElement('div');\n",
              "          docLink.innerHTML = docLinkHtml;\n",
              "          element.appendChild(docLink);\n",
              "        }\n",
              "      </script>\n",
              "    </div>\n",
              "  </div>\n",
              "  "
            ]
          },
          "metadata": {},
          "execution_count": 1
        }
      ],
      "source": [
        "import io\n",
        "from google.colab import files\n",
        "uploaded=files.upload()\n",
        "import pandas as pd\n",
        "import numpy as np\n",
        "df=pd.read_csv(io.BytesIO(uploaded['Hirota_2015_Updated_Clean_092515 (2).csv']))\n",
        "df[\"CASRN\"] = df[\"CASRN\"].astype(str)\n",
        "df.index = df[\"CASRN\"]\n",
        "df.head()"
      ]
    },
    {
      "cell_type": "code",
      "execution_count": 2,
      "metadata": {
        "id": "q_UQxBeJUbZt"
      },
      "outputs": [],
      "source": [
        "import matplotlib.pyplot as plt \n",
        "import seaborn as sns\n",
        "from sklearn.neural_network import MLPRegressor\n",
        "from sklearn.model_selection import train_test_split\n",
        "from sklearn.preprocessing import StandardScaler\n",
        "from sklearn.preprocessing import MinMaxScaler\n",
        "from sklearn.metrics import r2_score\n",
        "from sklearn.metrics import mean_squared_error\n",
        "from sklearn.model_selection import cross_validate,LeaveOneOut,cross_val_predict\n",
        "from sklearn.model_selection import KFold\n",
        "from sklearn.model_selection import cross_val_score\n",
        "from sklearn.feature_selection import RFE\n",
        "from sklearn.model_selection import GridSearchCV\n",
        "import warnings # supress warnings\n",
        "from sklearn import metrics\n",
        "from numpy import mean\n",
        "from numpy import absolute\n",
        "from numpy import sqrt\n",
        "warnings.filterwarnings('ignore')"
      ]
    },
    {
      "cell_type": "code",
      "execution_count": 3,
      "metadata": {
        "colab": {
          "base_uri": "https://localhost:8080/",
          "height": 371
        },
        "id": "P_vAAz-xUCBh",
        "outputId": "f8931662-cda8-43e8-e35c-fa501d1d6195"
      },
      "outputs": [
        {
          "output_type": "execute_result",
          "data": {
            "text/plain": [
              "                 CASRN                Chemical LLNAthreshold  \\\n",
              "CASRN                                                          \n",
              "886-38-4      886-38-4  Diphenylcyclopropenone         0.003   \n",
              "15646-46-5  15646-46-5               Oxazolone         0.003   \n",
              "1897-45-6    1897-45-6          Chlorothalonil         0.004   \n",
              "mixture        mixture                  MCI/MI         0.005   \n",
              "106-51-4      106-51-4        1,4-Benzoquinone          0.01   \n",
              "\n",
              "            logLLNAthreshold  logMinhCLAT  logDPRA  logImax  logMAC    EC3  \\\n",
              "CASRN                                                                        \n",
              "886-38-4             -2.5229        0.593   1.7118   1.2281   2.666  0.003   \n",
              "15646-46-5           -2.5229        0.433   1.6390   0.2086   1.765  0.003   \n",
              "1897-45-6            -2.3979       -0.678   1.7071   1.2956   1.702  0.004   \n",
              "mixture              -2.3010        0.344   1.7292   0.4691   1.794  0.005   \n",
              "106-51-4             -2.0044        0.350   1.9680   1.7092   1.614   0.01   \n",
              "\n",
              "           LLNA_Threshold GHS_Category hCLAT_Call DPRA_Call ARE_Call SH_Call  \\\n",
              "CASRN                                                                          \n",
              "886-38-4            0.003           1A          P         P        P       P   \n",
              "15646-46-5          0.003           1A          P         P        P       P   \n",
              "1897-45-6           0.004           1A          P         P        P       P   \n",
              "mixture             0.005           1A          P         P        P       P   \n",
              "106-51-4             0.01           1A          P         P        P       P   \n",
              "\n",
              "            Pred_LLNAthreshold Pred_PotencyCategory LLNA_Category  \n",
              "CASRN                                                              \n",
              "886-38-4                  0.35    Extreme or Strong       Extreme  \n",
              "15646-46-5                0.20    Extreme or Strong       Extreme  \n",
              "1897-45-6                 0.02    Extreme or Strong       Extreme  \n",
              "mixture                   0.13    Extreme or Strong       Extreme  \n",
              "106-51-4                  0.13    Extreme or Strong       Extreme  "
            ],
            "text/html": [
              "\n",
              "  <div id=\"df-a17709e6-5041-4cfe-97ad-aa2acf5a8fc4\">\n",
              "    <div class=\"colab-df-container\">\n",
              "      <div>\n",
              "<style scoped>\n",
              "    .dataframe tbody tr th:only-of-type {\n",
              "        vertical-align: middle;\n",
              "    }\n",
              "\n",
              "    .dataframe tbody tr th {\n",
              "        vertical-align: top;\n",
              "    }\n",
              "\n",
              "    .dataframe thead th {\n",
              "        text-align: right;\n",
              "    }\n",
              "</style>\n",
              "<table border=\"1\" class=\"dataframe\">\n",
              "  <thead>\n",
              "    <tr style=\"text-align: right;\">\n",
              "      <th></th>\n",
              "      <th>CASRN</th>\n",
              "      <th>Chemical</th>\n",
              "      <th>LLNAthreshold</th>\n",
              "      <th>logLLNAthreshold</th>\n",
              "      <th>logMinhCLAT</th>\n",
              "      <th>logDPRA</th>\n",
              "      <th>logImax</th>\n",
              "      <th>logMAC</th>\n",
              "      <th>EC3</th>\n",
              "      <th>LLNA_Threshold</th>\n",
              "      <th>GHS_Category</th>\n",
              "      <th>hCLAT_Call</th>\n",
              "      <th>DPRA_Call</th>\n",
              "      <th>ARE_Call</th>\n",
              "      <th>SH_Call</th>\n",
              "      <th>Pred_LLNAthreshold</th>\n",
              "      <th>Pred_PotencyCategory</th>\n",
              "      <th>LLNA_Category</th>\n",
              "    </tr>\n",
              "    <tr>\n",
              "      <th>CASRN</th>\n",
              "      <th></th>\n",
              "      <th></th>\n",
              "      <th></th>\n",
              "      <th></th>\n",
              "      <th></th>\n",
              "      <th></th>\n",
              "      <th></th>\n",
              "      <th></th>\n",
              "      <th></th>\n",
              "      <th></th>\n",
              "      <th></th>\n",
              "      <th></th>\n",
              "      <th></th>\n",
              "      <th></th>\n",
              "      <th></th>\n",
              "      <th></th>\n",
              "      <th></th>\n",
              "      <th></th>\n",
              "    </tr>\n",
              "  </thead>\n",
              "  <tbody>\n",
              "    <tr>\n",
              "      <th>886-38-4</th>\n",
              "      <td>886-38-4</td>\n",
              "      <td>Diphenylcyclopropenone</td>\n",
              "      <td>0.003</td>\n",
              "      <td>-2.5229</td>\n",
              "      <td>0.593</td>\n",
              "      <td>1.7118</td>\n",
              "      <td>1.2281</td>\n",
              "      <td>2.666</td>\n",
              "      <td>0.003</td>\n",
              "      <td>0.003</td>\n",
              "      <td>1A</td>\n",
              "      <td>P</td>\n",
              "      <td>P</td>\n",
              "      <td>P</td>\n",
              "      <td>P</td>\n",
              "      <td>0.35</td>\n",
              "      <td>Extreme or Strong</td>\n",
              "      <td>Extreme</td>\n",
              "    </tr>\n",
              "    <tr>\n",
              "      <th>15646-46-5</th>\n",
              "      <td>15646-46-5</td>\n",
              "      <td>Oxazolone</td>\n",
              "      <td>0.003</td>\n",
              "      <td>-2.5229</td>\n",
              "      <td>0.433</td>\n",
              "      <td>1.6390</td>\n",
              "      <td>0.2086</td>\n",
              "      <td>1.765</td>\n",
              "      <td>0.003</td>\n",
              "      <td>0.003</td>\n",
              "      <td>1A</td>\n",
              "      <td>P</td>\n",
              "      <td>P</td>\n",
              "      <td>P</td>\n",
              "      <td>P</td>\n",
              "      <td>0.20</td>\n",
              "      <td>Extreme or Strong</td>\n",
              "      <td>Extreme</td>\n",
              "    </tr>\n",
              "    <tr>\n",
              "      <th>1897-45-6</th>\n",
              "      <td>1897-45-6</td>\n",
              "      <td>Chlorothalonil</td>\n",
              "      <td>0.004</td>\n",
              "      <td>-2.3979</td>\n",
              "      <td>-0.678</td>\n",
              "      <td>1.7071</td>\n",
              "      <td>1.2956</td>\n",
              "      <td>1.702</td>\n",
              "      <td>0.004</td>\n",
              "      <td>0.004</td>\n",
              "      <td>1A</td>\n",
              "      <td>P</td>\n",
              "      <td>P</td>\n",
              "      <td>P</td>\n",
              "      <td>P</td>\n",
              "      <td>0.02</td>\n",
              "      <td>Extreme or Strong</td>\n",
              "      <td>Extreme</td>\n",
              "    </tr>\n",
              "    <tr>\n",
              "      <th>mixture</th>\n",
              "      <td>mixture</td>\n",
              "      <td>MCI/MI</td>\n",
              "      <td>0.005</td>\n",
              "      <td>-2.3010</td>\n",
              "      <td>0.344</td>\n",
              "      <td>1.7292</td>\n",
              "      <td>0.4691</td>\n",
              "      <td>1.794</td>\n",
              "      <td>0.005</td>\n",
              "      <td>0.005</td>\n",
              "      <td>1A</td>\n",
              "      <td>P</td>\n",
              "      <td>P</td>\n",
              "      <td>P</td>\n",
              "      <td>P</td>\n",
              "      <td>0.13</td>\n",
              "      <td>Extreme or Strong</td>\n",
              "      <td>Extreme</td>\n",
              "    </tr>\n",
              "    <tr>\n",
              "      <th>106-51-4</th>\n",
              "      <td>106-51-4</td>\n",
              "      <td>1,4-Benzoquinone</td>\n",
              "      <td>0.01</td>\n",
              "      <td>-2.0044</td>\n",
              "      <td>0.350</td>\n",
              "      <td>1.9680</td>\n",
              "      <td>1.7092</td>\n",
              "      <td>1.614</td>\n",
              "      <td>0.01</td>\n",
              "      <td>0.01</td>\n",
              "      <td>1A</td>\n",
              "      <td>P</td>\n",
              "      <td>P</td>\n",
              "      <td>P</td>\n",
              "      <td>P</td>\n",
              "      <td>0.13</td>\n",
              "      <td>Extreme or Strong</td>\n",
              "      <td>Extreme</td>\n",
              "    </tr>\n",
              "  </tbody>\n",
              "</table>\n",
              "</div>\n",
              "      <button class=\"colab-df-convert\" onclick=\"convertToInteractive('df-a17709e6-5041-4cfe-97ad-aa2acf5a8fc4')\"\n",
              "              title=\"Convert this dataframe to an interactive table.\"\n",
              "              style=\"display:none;\">\n",
              "        \n",
              "  <svg xmlns=\"http://www.w3.org/2000/svg\" height=\"24px\"viewBox=\"0 0 24 24\"\n",
              "       width=\"24px\">\n",
              "    <path d=\"M0 0h24v24H0V0z\" fill=\"none\"/>\n",
              "    <path d=\"M18.56 5.44l.94 2.06.94-2.06 2.06-.94-2.06-.94-.94-2.06-.94 2.06-2.06.94zm-11 1L8.5 8.5l.94-2.06 2.06-.94-2.06-.94L8.5 2.5l-.94 2.06-2.06.94zm10 10l.94 2.06.94-2.06 2.06-.94-2.06-.94-.94-2.06-.94 2.06-2.06.94z\"/><path d=\"M17.41 7.96l-1.37-1.37c-.4-.4-.92-.59-1.43-.59-.52 0-1.04.2-1.43.59L10.3 9.45l-7.72 7.72c-.78.78-.78 2.05 0 2.83L4 21.41c.39.39.9.59 1.41.59.51 0 1.02-.2 1.41-.59l7.78-7.78 2.81-2.81c.8-.78.8-2.07 0-2.86zM5.41 20L4 18.59l7.72-7.72 1.47 1.35L5.41 20z\"/>\n",
              "  </svg>\n",
              "      </button>\n",
              "      \n",
              "  <style>\n",
              "    .colab-df-container {\n",
              "      display:flex;\n",
              "      flex-wrap:wrap;\n",
              "      gap: 12px;\n",
              "    }\n",
              "\n",
              "    .colab-df-convert {\n",
              "      background-color: #E8F0FE;\n",
              "      border: none;\n",
              "      border-radius: 50%;\n",
              "      cursor: pointer;\n",
              "      display: none;\n",
              "      fill: #1967D2;\n",
              "      height: 32px;\n",
              "      padding: 0 0 0 0;\n",
              "      width: 32px;\n",
              "    }\n",
              "\n",
              "    .colab-df-convert:hover {\n",
              "      background-color: #E2EBFA;\n",
              "      box-shadow: 0px 1px 2px rgba(60, 64, 67, 0.3), 0px 1px 3px 1px rgba(60, 64, 67, 0.15);\n",
              "      fill: #174EA6;\n",
              "    }\n",
              "\n",
              "    [theme=dark] .colab-df-convert {\n",
              "      background-color: #3B4455;\n",
              "      fill: #D2E3FC;\n",
              "    }\n",
              "\n",
              "    [theme=dark] .colab-df-convert:hover {\n",
              "      background-color: #434B5C;\n",
              "      box-shadow: 0px 1px 3px 1px rgba(0, 0, 0, 0.15);\n",
              "      filter: drop-shadow(0px 1px 2px rgba(0, 0, 0, 0.3));\n",
              "      fill: #FFFFFF;\n",
              "    }\n",
              "  </style>\n",
              "\n",
              "      <script>\n",
              "        const buttonEl =\n",
              "          document.querySelector('#df-a17709e6-5041-4cfe-97ad-aa2acf5a8fc4 button.colab-df-convert');\n",
              "        buttonEl.style.display =\n",
              "          google.colab.kernel.accessAllowed ? 'block' : 'none';\n",
              "\n",
              "        async function convertToInteractive(key) {\n",
              "          const element = document.querySelector('#df-a17709e6-5041-4cfe-97ad-aa2acf5a8fc4');\n",
              "          const dataTable =\n",
              "            await google.colab.kernel.invokeFunction('convertToInteractive',\n",
              "                                                     [key], {});\n",
              "          if (!dataTable) return;\n",
              "\n",
              "          const docLinkHtml = 'Like what you see? Visit the ' +\n",
              "            '<a target=\"_blank\" href=https://colab.research.google.com/notebooks/data_table.ipynb>data table notebook</a>'\n",
              "            + ' to learn more about interactive tables.';\n",
              "          element.innerHTML = '';\n",
              "          dataTable['output_type'] = 'display_data';\n",
              "          await google.colab.output.renderOutput(dataTable, element);\n",
              "          const docLink = document.createElement('div');\n",
              "          docLink.innerHTML = docLinkHtml;\n",
              "          element.appendChild(docLink);\n",
              "        }\n",
              "      </script>\n",
              "    </div>\n",
              "  </div>\n",
              "  "
            ]
          },
          "metadata": {},
          "execution_count": 3
        }
      ],
      "source": [
        "df.head()"
      ]
    },
    {
      "cell_type": "code",
      "execution_count": 4,
      "metadata": {
        "colab": {
          "base_uri": "https://localhost:8080/"
        },
        "id": "Hr0mGTJOUHnI",
        "outputId": "c7078a4b-b674-4a4c-ffe7-a49de60c7e0f"
      },
      "outputs": [
        {
          "output_type": "execute_result",
          "data": {
            "text/plain": [
              "69"
            ]
          },
          "metadata": {},
          "execution_count": 4
        }
      ],
      "source": [
        "df1=df.dropna(subset=['logDPRA','logImax'])\n",
        "len(df1)"
      ]
    },
    {
      "cell_type": "code",
      "execution_count": 5,
      "metadata": {
        "id": "GCgpyf-xzQU1"
      },
      "outputs": [],
      "source": [
        "#Defining target and predictors\n",
        "TargetVariable=['logLLNAthreshold']\n",
        "Predictors=['logMinhCLAT','logDPRA','logImax']\n",
        "X=df1[Predictors].values\n",
        "y=df1[TargetVariable].values\n",
        "PredictorScaler=MinMaxScaler()\n",
        "TargetVarScaler=MinMaxScaler()\n",
        " \n",
        "# Storing the fit object for later reference\n",
        "PredictorScalerFit=PredictorScaler.fit(X)\n",
        "TargetVarScalerFit=TargetVarScaler.fit(y)\n",
        " \n"
      ]
    },
    {
      "cell_type": "code",
      "execution_count": 6,
      "metadata": {
        "id": "SRDpJDxtu1cY"
      },
      "outputs": [],
      "source": [
        "# Generating the standardized values of X and y\n",
        "scaled_X=PredictorScalerFit.transform(X)\n",
        "scaled_y=TargetVarScalerFit.transform(y)"
      ]
    },
    {
      "cell_type": "code",
      "execution_count": 7,
      "metadata": {
        "colab": {
          "base_uri": "https://localhost:8080/"
        },
        "id": "krvy69E7wLfk",
        "outputId": "cbe75b15-93fa-4904-9bca-fc660d984f57"
      },
      "outputs": [
        {
          "output_type": "stream",
          "name": "stdout",
          "text": [
            "(55, 3)\n",
            "(55, 1)\n",
            "(14, 3)\n",
            "(14, 1)\n"
          ]
        }
      ],
      "source": [
        "X_train, X_test, y_train, y_test = train_test_split(scaled_X, scaled_y, test_size=0.2, random_state=0)\n",
        "print(X_train.shape)\n",
        "print(y_train.shape)\n",
        "print(X_test.shape)\n",
        "print(y_test.shape)"
      ]
    },
    {
      "cell_type": "code",
      "execution_count": 8,
      "metadata": {
        "colab": {
          "base_uri": "https://localhost:8080/",
          "height": 73
        },
        "id": "VSQ6xLSZauo_",
        "outputId": "6622799b-a8ec-4a03-c7f9-8fdc65bb3cdc"
      },
      "outputs": [
        {
          "output_type": "display_data",
          "data": {
            "text/plain": [
              "<IPython.core.display.HTML object>"
            ],
            "text/html": [
              "\n",
              "     <input type=\"file\" id=\"files-f6f0dc12-f420-438d-bc41-095d22e56856\" name=\"files[]\" multiple disabled\n",
              "        style=\"border:none\" />\n",
              "     <output id=\"result-f6f0dc12-f420-438d-bc41-095d22e56856\">\n",
              "      Upload widget is only available when the cell has been executed in the\n",
              "      current browser session. Please rerun this cell to enable.\n",
              "      </output>\n",
              "      <script>// Copyright 2017 Google LLC\n",
              "//\n",
              "// Licensed under the Apache License, Version 2.0 (the \"License\");\n",
              "// you may not use this file except in compliance with the License.\n",
              "// You may obtain a copy of the License at\n",
              "//\n",
              "//      http://www.apache.org/licenses/LICENSE-2.0\n",
              "//\n",
              "// Unless required by applicable law or agreed to in writing, software\n",
              "// distributed under the License is distributed on an \"AS IS\" BASIS,\n",
              "// WITHOUT WARRANTIES OR CONDITIONS OF ANY KIND, either express or implied.\n",
              "// See the License for the specific language governing permissions and\n",
              "// limitations under the License.\n",
              "\n",
              "/**\n",
              " * @fileoverview Helpers for google.colab Python module.\n",
              " */\n",
              "(function(scope) {\n",
              "function span(text, styleAttributes = {}) {\n",
              "  const element = document.createElement('span');\n",
              "  element.textContent = text;\n",
              "  for (const key of Object.keys(styleAttributes)) {\n",
              "    element.style[key] = styleAttributes[key];\n",
              "  }\n",
              "  return element;\n",
              "}\n",
              "\n",
              "// Max number of bytes which will be uploaded at a time.\n",
              "const MAX_PAYLOAD_SIZE = 100 * 1024;\n",
              "\n",
              "function _uploadFiles(inputId, outputId) {\n",
              "  const steps = uploadFilesStep(inputId, outputId);\n",
              "  const outputElement = document.getElementById(outputId);\n",
              "  // Cache steps on the outputElement to make it available for the next call\n",
              "  // to uploadFilesContinue from Python.\n",
              "  outputElement.steps = steps;\n",
              "\n",
              "  return _uploadFilesContinue(outputId);\n",
              "}\n",
              "\n",
              "// This is roughly an async generator (not supported in the browser yet),\n",
              "// where there are multiple asynchronous steps and the Python side is going\n",
              "// to poll for completion of each step.\n",
              "// This uses a Promise to block the python side on completion of each step,\n",
              "// then passes the result of the previous step as the input to the next step.\n",
              "function _uploadFilesContinue(outputId) {\n",
              "  const outputElement = document.getElementById(outputId);\n",
              "  const steps = outputElement.steps;\n",
              "\n",
              "  const next = steps.next(outputElement.lastPromiseValue);\n",
              "  return Promise.resolve(next.value.promise).then((value) => {\n",
              "    // Cache the last promise value to make it available to the next\n",
              "    // step of the generator.\n",
              "    outputElement.lastPromiseValue = value;\n",
              "    return next.value.response;\n",
              "  });\n",
              "}\n",
              "\n",
              "/**\n",
              " * Generator function which is called between each async step of the upload\n",
              " * process.\n",
              " * @param {string} inputId Element ID of the input file picker element.\n",
              " * @param {string} outputId Element ID of the output display.\n",
              " * @return {!Iterable<!Object>} Iterable of next steps.\n",
              " */\n",
              "function* uploadFilesStep(inputId, outputId) {\n",
              "  const inputElement = document.getElementById(inputId);\n",
              "  inputElement.disabled = false;\n",
              "\n",
              "  const outputElement = document.getElementById(outputId);\n",
              "  outputElement.innerHTML = '';\n",
              "\n",
              "  const pickedPromise = new Promise((resolve) => {\n",
              "    inputElement.addEventListener('change', (e) => {\n",
              "      resolve(e.target.files);\n",
              "    });\n",
              "  });\n",
              "\n",
              "  const cancel = document.createElement('button');\n",
              "  inputElement.parentElement.appendChild(cancel);\n",
              "  cancel.textContent = 'Cancel upload';\n",
              "  const cancelPromise = new Promise((resolve) => {\n",
              "    cancel.onclick = () => {\n",
              "      resolve(null);\n",
              "    };\n",
              "  });\n",
              "\n",
              "  // Wait for the user to pick the files.\n",
              "  const files = yield {\n",
              "    promise: Promise.race([pickedPromise, cancelPromise]),\n",
              "    response: {\n",
              "      action: 'starting',\n",
              "    }\n",
              "  };\n",
              "\n",
              "  cancel.remove();\n",
              "\n",
              "  // Disable the input element since further picks are not allowed.\n",
              "  inputElement.disabled = true;\n",
              "\n",
              "  if (!files) {\n",
              "    return {\n",
              "      response: {\n",
              "        action: 'complete',\n",
              "      }\n",
              "    };\n",
              "  }\n",
              "\n",
              "  for (const file of files) {\n",
              "    const li = document.createElement('li');\n",
              "    li.append(span(file.name, {fontWeight: 'bold'}));\n",
              "    li.append(span(\n",
              "        `(${file.type || 'n/a'}) - ${file.size} bytes, ` +\n",
              "        `last modified: ${\n",
              "            file.lastModifiedDate ? file.lastModifiedDate.toLocaleDateString() :\n",
              "                                    'n/a'} - `));\n",
              "    const percent = span('0% done');\n",
              "    li.appendChild(percent);\n",
              "\n",
              "    outputElement.appendChild(li);\n",
              "\n",
              "    const fileDataPromise = new Promise((resolve) => {\n",
              "      const reader = new FileReader();\n",
              "      reader.onload = (e) => {\n",
              "        resolve(e.target.result);\n",
              "      };\n",
              "      reader.readAsArrayBuffer(file);\n",
              "    });\n",
              "    // Wait for the data to be ready.\n",
              "    let fileData = yield {\n",
              "      promise: fileDataPromise,\n",
              "      response: {\n",
              "        action: 'continue',\n",
              "      }\n",
              "    };\n",
              "\n",
              "    // Use a chunked sending to avoid message size limits. See b/62115660.\n",
              "    let position = 0;\n",
              "    do {\n",
              "      const length = Math.min(fileData.byteLength - position, MAX_PAYLOAD_SIZE);\n",
              "      const chunk = new Uint8Array(fileData, position, length);\n",
              "      position += length;\n",
              "\n",
              "      const base64 = btoa(String.fromCharCode.apply(null, chunk));\n",
              "      yield {\n",
              "        response: {\n",
              "          action: 'append',\n",
              "          file: file.name,\n",
              "          data: base64,\n",
              "        },\n",
              "      };\n",
              "\n",
              "      let percentDone = fileData.byteLength === 0 ?\n",
              "          100 :\n",
              "          Math.round((position / fileData.byteLength) * 100);\n",
              "      percent.textContent = `${percentDone}% done`;\n",
              "\n",
              "    } while (position < fileData.byteLength);\n",
              "  }\n",
              "\n",
              "  // All done.\n",
              "  yield {\n",
              "    response: {\n",
              "      action: 'complete',\n",
              "    }\n",
              "  };\n",
              "}\n",
              "\n",
              "scope.google = scope.google || {};\n",
              "scope.google.colab = scope.google.colab || {};\n",
              "scope.google.colab._files = {\n",
              "  _uploadFiles,\n",
              "  _uploadFilesContinue,\n",
              "};\n",
              "})(self);\n",
              "</script> "
            ]
          },
          "metadata": {}
        },
        {
          "output_type": "stream",
          "name": "stdout",
          "text": [
            "Saving CosEu_invitro_insilico_128chems_Jan2017.csv to CosEu_invitro_insilico_128chems_Jan2017.csv\n"
          ]
        }
      ],
      "source": [
        "#Read Cosmetic Europe in vitro data, physchem properties, OECD Toolbox predictions\n",
        "uploaded=files.upload()\n",
        "df2=pd.read_csv(io.BytesIO(uploaded['CosEu_invitro_insilico_128chems_Jan2017.csv']))\n",
        "df2[\"CASRN\"] = df2[\"CASRN\"].str.strip()\n",
        "df2 = df2.sort_values(by=\"Num\")\n",
        "df2=df2"
      ]
    },
    {
      "cell_type": "code",
      "execution_count": 9,
      "metadata": {
        "id": "Wl2yst8Sa4r5"
      },
      "outputs": [],
      "source": [
        "df2['DPRA.mean']=df2['DPRA.mean'].clip(lower=0)\n",
        "df2.dropna(subset=['DPRA.Call','hCLAT.Call'],inplace=True)\n"
      ]
    },
    {
      "cell_type": "code",
      "execution_count": 10,
      "metadata": {
        "colab": {
          "base_uri": "https://localhost:8080/",
          "height": 73
        },
        "id": "ko0FrExOa_z1",
        "outputId": "0edf652c-a5fd-4567-8ee3-e437da0e9d4b"
      },
      "outputs": [
        {
          "output_type": "display_data",
          "data": {
            "text/plain": [
              "<IPython.core.display.HTML object>"
            ],
            "text/html": [
              "\n",
              "     <input type=\"file\" id=\"files-aeef3182-eb28-4f41-b5e6-dfd08e57a34f\" name=\"files[]\" multiple disabled\n",
              "        style=\"border:none\" />\n",
              "     <output id=\"result-aeef3182-eb28-4f41-b5e6-dfd08e57a34f\">\n",
              "      Upload widget is only available when the cell has been executed in the\n",
              "      current browser session. Please rerun this cell to enable.\n",
              "      </output>\n",
              "      <script>// Copyright 2017 Google LLC\n",
              "//\n",
              "// Licensed under the Apache License, Version 2.0 (the \"License\");\n",
              "// you may not use this file except in compliance with the License.\n",
              "// You may obtain a copy of the License at\n",
              "//\n",
              "//      http://www.apache.org/licenses/LICENSE-2.0\n",
              "//\n",
              "// Unless required by applicable law or agreed to in writing, software\n",
              "// distributed under the License is distributed on an \"AS IS\" BASIS,\n",
              "// WITHOUT WARRANTIES OR CONDITIONS OF ANY KIND, either express or implied.\n",
              "// See the License for the specific language governing permissions and\n",
              "// limitations under the License.\n",
              "\n",
              "/**\n",
              " * @fileoverview Helpers for google.colab Python module.\n",
              " */\n",
              "(function(scope) {\n",
              "function span(text, styleAttributes = {}) {\n",
              "  const element = document.createElement('span');\n",
              "  element.textContent = text;\n",
              "  for (const key of Object.keys(styleAttributes)) {\n",
              "    element.style[key] = styleAttributes[key];\n",
              "  }\n",
              "  return element;\n",
              "}\n",
              "\n",
              "// Max number of bytes which will be uploaded at a time.\n",
              "const MAX_PAYLOAD_SIZE = 100 * 1024;\n",
              "\n",
              "function _uploadFiles(inputId, outputId) {\n",
              "  const steps = uploadFilesStep(inputId, outputId);\n",
              "  const outputElement = document.getElementById(outputId);\n",
              "  // Cache steps on the outputElement to make it available for the next call\n",
              "  // to uploadFilesContinue from Python.\n",
              "  outputElement.steps = steps;\n",
              "\n",
              "  return _uploadFilesContinue(outputId);\n",
              "}\n",
              "\n",
              "// This is roughly an async generator (not supported in the browser yet),\n",
              "// where there are multiple asynchronous steps and the Python side is going\n",
              "// to poll for completion of each step.\n",
              "// This uses a Promise to block the python side on completion of each step,\n",
              "// then passes the result of the previous step as the input to the next step.\n",
              "function _uploadFilesContinue(outputId) {\n",
              "  const outputElement = document.getElementById(outputId);\n",
              "  const steps = outputElement.steps;\n",
              "\n",
              "  const next = steps.next(outputElement.lastPromiseValue);\n",
              "  return Promise.resolve(next.value.promise).then((value) => {\n",
              "    // Cache the last promise value to make it available to the next\n",
              "    // step of the generator.\n",
              "    outputElement.lastPromiseValue = value;\n",
              "    return next.value.response;\n",
              "  });\n",
              "}\n",
              "\n",
              "/**\n",
              " * Generator function which is called between each async step of the upload\n",
              " * process.\n",
              " * @param {string} inputId Element ID of the input file picker element.\n",
              " * @param {string} outputId Element ID of the output display.\n",
              " * @return {!Iterable<!Object>} Iterable of next steps.\n",
              " */\n",
              "function* uploadFilesStep(inputId, outputId) {\n",
              "  const inputElement = document.getElementById(inputId);\n",
              "  inputElement.disabled = false;\n",
              "\n",
              "  const outputElement = document.getElementById(outputId);\n",
              "  outputElement.innerHTML = '';\n",
              "\n",
              "  const pickedPromise = new Promise((resolve) => {\n",
              "    inputElement.addEventListener('change', (e) => {\n",
              "      resolve(e.target.files);\n",
              "    });\n",
              "  });\n",
              "\n",
              "  const cancel = document.createElement('button');\n",
              "  inputElement.parentElement.appendChild(cancel);\n",
              "  cancel.textContent = 'Cancel upload';\n",
              "  const cancelPromise = new Promise((resolve) => {\n",
              "    cancel.onclick = () => {\n",
              "      resolve(null);\n",
              "    };\n",
              "  });\n",
              "\n",
              "  // Wait for the user to pick the files.\n",
              "  const files = yield {\n",
              "    promise: Promise.race([pickedPromise, cancelPromise]),\n",
              "    response: {\n",
              "      action: 'starting',\n",
              "    }\n",
              "  };\n",
              "\n",
              "  cancel.remove();\n",
              "\n",
              "  // Disable the input element since further picks are not allowed.\n",
              "  inputElement.disabled = true;\n",
              "\n",
              "  if (!files) {\n",
              "    return {\n",
              "      response: {\n",
              "        action: 'complete',\n",
              "      }\n",
              "    };\n",
              "  }\n",
              "\n",
              "  for (const file of files) {\n",
              "    const li = document.createElement('li');\n",
              "    li.append(span(file.name, {fontWeight: 'bold'}));\n",
              "    li.append(span(\n",
              "        `(${file.type || 'n/a'}) - ${file.size} bytes, ` +\n",
              "        `last modified: ${\n",
              "            file.lastModifiedDate ? file.lastModifiedDate.toLocaleDateString() :\n",
              "                                    'n/a'} - `));\n",
              "    const percent = span('0% done');\n",
              "    li.appendChild(percent);\n",
              "\n",
              "    outputElement.appendChild(li);\n",
              "\n",
              "    const fileDataPromise = new Promise((resolve) => {\n",
              "      const reader = new FileReader();\n",
              "      reader.onload = (e) => {\n",
              "        resolve(e.target.result);\n",
              "      };\n",
              "      reader.readAsArrayBuffer(file);\n",
              "    });\n",
              "    // Wait for the data to be ready.\n",
              "    let fileData = yield {\n",
              "      promise: fileDataPromise,\n",
              "      response: {\n",
              "        action: 'continue',\n",
              "      }\n",
              "    };\n",
              "\n",
              "    // Use a chunked sending to avoid message size limits. See b/62115660.\n",
              "    let position = 0;\n",
              "    do {\n",
              "      const length = Math.min(fileData.byteLength - position, MAX_PAYLOAD_SIZE);\n",
              "      const chunk = new Uint8Array(fileData, position, length);\n",
              "      position += length;\n",
              "\n",
              "      const base64 = btoa(String.fromCharCode.apply(null, chunk));\n",
              "      yield {\n",
              "        response: {\n",
              "          action: 'append',\n",
              "          file: file.name,\n",
              "          data: base64,\n",
              "        },\n",
              "      };\n",
              "\n",
              "      let percentDone = fileData.byteLength === 0 ?\n",
              "          100 :\n",
              "          Math.round((position / fileData.byteLength) * 100);\n",
              "      percent.textContent = `${percentDone}% done`;\n",
              "\n",
              "    } while (position < fileData.byteLength);\n",
              "  }\n",
              "\n",
              "  // All done.\n",
              "  yield {\n",
              "    response: {\n",
              "      action: 'complete',\n",
              "    }\n",
              "  };\n",
              "}\n",
              "\n",
              "scope.google = scope.google || {};\n",
              "scope.google.colab = scope.google.colab || {};\n",
              "scope.google.colab._files = {\n",
              "  _uploadFiles,\n",
              "  _uploadFilesContinue,\n",
              "};\n",
              "})(self);\n",
              "</script> "
            ]
          },
          "metadata": {}
        },
        {
          "output_type": "stream",
          "name": "stdout",
          "text": [
            "Saving CosEu_invivo_128chems_March2017.csv to CosEu_invivo_128chems_March2017.csv\n"
          ]
        }
      ],
      "source": [
        "#Read in vivo LLNA and human data\n",
        "uploaded=files.upload()\n",
        "df3=pd.read_csv(io.BytesIO(uploaded['CosEu_invivo_128chems_March2017.csv']))"
      ]
    },
    {
      "cell_type": "code",
      "execution_count": 11,
      "metadata": {
        "colab": {
          "base_uri": "https://localhost:8080/",
          "height": 374
        },
        "id": "nxrSorVHbI5L",
        "outputId": "c54469e9-b4cb-4db6-f18f-18cf42107319"
      },
      "outputs": [
        {
          "output_type": "execute_result",
          "data": {
            "text/plain": [
              "     Num                                      Chemical       CASRN  \\\n",
              "123  327                    ?-Methyl cinnamic aldehyde    101-39-3   \n",
              "124  328  Methyl 2-nonynoate (Methyl octine carbonate)    111-80-8   \n",
              "125  329                      2-Methoxy-4-methylphenol     93-51-6   \n",
              "126  330                            Phenylacetaldehyde    122-78-1   \n",
              "127  331                        3-Propylidenephthalide  17369-59-4   \n",
              "\n",
              "     Arith.Mean.EC3  Geo.Mean.EC3  Median.EC3  Median_NC.EC3  Min.EC3  \\\n",
              "123             4.5          4.50         4.5            4.5      4.5   \n",
              "124             2.5          2.50         2.5            2.5      2.5   \n",
              "125             5.6          5.60         5.6            5.6      5.4   \n",
              "126             5.5          4.99         4.7            4.7      3.0   \n",
              "127             3.4          3.39         3.4            3.4      3.1   \n",
              "\n",
              "    LLNA.potency.MNC LLNA.potency.3class.MNC  LLNA.Call.MNC  \\\n",
              "123         Moderate                    Weak              1   \n",
              "124         Moderate                    Weak              1   \n",
              "125         Moderate                    Weak              1   \n",
              "126         Moderate                    Weak              1   \n",
              "127         Moderate                    Weak              1   \n",
              "\n",
              "     Basketter.human.potency  human.Call human.potency.3class  \\\n",
              "123                        4           1                 Weak   \n",
              "124                        2           1               Strong   \n",
              "125                        2           1               Strong   \n",
              "126                        3           1                 Weak   \n",
              "127                        3           1                 Weak   \n",
              "\n",
              "    human.potency.5class  \n",
              "123                 Weak  \n",
              "124               Strong  \n",
              "125               Strong  \n",
              "126             Moderate  \n",
              "127             Moderate  "
            ],
            "text/html": [
              "\n",
              "  <div id=\"df-deed0972-909e-4583-91cc-ad1fbdde7478\">\n",
              "    <div class=\"colab-df-container\">\n",
              "      <div>\n",
              "<style scoped>\n",
              "    .dataframe tbody tr th:only-of-type {\n",
              "        vertical-align: middle;\n",
              "    }\n",
              "\n",
              "    .dataframe tbody tr th {\n",
              "        vertical-align: top;\n",
              "    }\n",
              "\n",
              "    .dataframe thead th {\n",
              "        text-align: right;\n",
              "    }\n",
              "</style>\n",
              "<table border=\"1\" class=\"dataframe\">\n",
              "  <thead>\n",
              "    <tr style=\"text-align: right;\">\n",
              "      <th></th>\n",
              "      <th>Num</th>\n",
              "      <th>Chemical</th>\n",
              "      <th>CASRN</th>\n",
              "      <th>Arith.Mean.EC3</th>\n",
              "      <th>Geo.Mean.EC3</th>\n",
              "      <th>Median.EC3</th>\n",
              "      <th>Median_NC.EC3</th>\n",
              "      <th>Min.EC3</th>\n",
              "      <th>LLNA.potency.MNC</th>\n",
              "      <th>LLNA.potency.3class.MNC</th>\n",
              "      <th>LLNA.Call.MNC</th>\n",
              "      <th>Basketter.human.potency</th>\n",
              "      <th>human.Call</th>\n",
              "      <th>human.potency.3class</th>\n",
              "      <th>human.potency.5class</th>\n",
              "    </tr>\n",
              "  </thead>\n",
              "  <tbody>\n",
              "    <tr>\n",
              "      <th>123</th>\n",
              "      <td>327</td>\n",
              "      <td>?-Methyl cinnamic aldehyde</td>\n",
              "      <td>101-39-3</td>\n",
              "      <td>4.5</td>\n",
              "      <td>4.50</td>\n",
              "      <td>4.5</td>\n",
              "      <td>4.5</td>\n",
              "      <td>4.5</td>\n",
              "      <td>Moderate</td>\n",
              "      <td>Weak</td>\n",
              "      <td>1</td>\n",
              "      <td>4</td>\n",
              "      <td>1</td>\n",
              "      <td>Weak</td>\n",
              "      <td>Weak</td>\n",
              "    </tr>\n",
              "    <tr>\n",
              "      <th>124</th>\n",
              "      <td>328</td>\n",
              "      <td>Methyl 2-nonynoate (Methyl octine carbonate)</td>\n",
              "      <td>111-80-8</td>\n",
              "      <td>2.5</td>\n",
              "      <td>2.50</td>\n",
              "      <td>2.5</td>\n",
              "      <td>2.5</td>\n",
              "      <td>2.5</td>\n",
              "      <td>Moderate</td>\n",
              "      <td>Weak</td>\n",
              "      <td>1</td>\n",
              "      <td>2</td>\n",
              "      <td>1</td>\n",
              "      <td>Strong</td>\n",
              "      <td>Strong</td>\n",
              "    </tr>\n",
              "    <tr>\n",
              "      <th>125</th>\n",
              "      <td>329</td>\n",
              "      <td>2-Methoxy-4-methylphenol</td>\n",
              "      <td>93-51-6</td>\n",
              "      <td>5.6</td>\n",
              "      <td>5.60</td>\n",
              "      <td>5.6</td>\n",
              "      <td>5.6</td>\n",
              "      <td>5.4</td>\n",
              "      <td>Moderate</td>\n",
              "      <td>Weak</td>\n",
              "      <td>1</td>\n",
              "      <td>2</td>\n",
              "      <td>1</td>\n",
              "      <td>Strong</td>\n",
              "      <td>Strong</td>\n",
              "    </tr>\n",
              "    <tr>\n",
              "      <th>126</th>\n",
              "      <td>330</td>\n",
              "      <td>Phenylacetaldehyde</td>\n",
              "      <td>122-78-1</td>\n",
              "      <td>5.5</td>\n",
              "      <td>4.99</td>\n",
              "      <td>4.7</td>\n",
              "      <td>4.7</td>\n",
              "      <td>3.0</td>\n",
              "      <td>Moderate</td>\n",
              "      <td>Weak</td>\n",
              "      <td>1</td>\n",
              "      <td>3</td>\n",
              "      <td>1</td>\n",
              "      <td>Weak</td>\n",
              "      <td>Moderate</td>\n",
              "    </tr>\n",
              "    <tr>\n",
              "      <th>127</th>\n",
              "      <td>331</td>\n",
              "      <td>3-Propylidenephthalide</td>\n",
              "      <td>17369-59-4</td>\n",
              "      <td>3.4</td>\n",
              "      <td>3.39</td>\n",
              "      <td>3.4</td>\n",
              "      <td>3.4</td>\n",
              "      <td>3.1</td>\n",
              "      <td>Moderate</td>\n",
              "      <td>Weak</td>\n",
              "      <td>1</td>\n",
              "      <td>3</td>\n",
              "      <td>1</td>\n",
              "      <td>Weak</td>\n",
              "      <td>Moderate</td>\n",
              "    </tr>\n",
              "  </tbody>\n",
              "</table>\n",
              "</div>\n",
              "      <button class=\"colab-df-convert\" onclick=\"convertToInteractive('df-deed0972-909e-4583-91cc-ad1fbdde7478')\"\n",
              "              title=\"Convert this dataframe to an interactive table.\"\n",
              "              style=\"display:none;\">\n",
              "        \n",
              "  <svg xmlns=\"http://www.w3.org/2000/svg\" height=\"24px\"viewBox=\"0 0 24 24\"\n",
              "       width=\"24px\">\n",
              "    <path d=\"M0 0h24v24H0V0z\" fill=\"none\"/>\n",
              "    <path d=\"M18.56 5.44l.94 2.06.94-2.06 2.06-.94-2.06-.94-.94-2.06-.94 2.06-2.06.94zm-11 1L8.5 8.5l.94-2.06 2.06-.94-2.06-.94L8.5 2.5l-.94 2.06-2.06.94zm10 10l.94 2.06.94-2.06 2.06-.94-2.06-.94-.94-2.06-.94 2.06-2.06.94z\"/><path d=\"M17.41 7.96l-1.37-1.37c-.4-.4-.92-.59-1.43-.59-.52 0-1.04.2-1.43.59L10.3 9.45l-7.72 7.72c-.78.78-.78 2.05 0 2.83L4 21.41c.39.39.9.59 1.41.59.51 0 1.02-.2 1.41-.59l7.78-7.78 2.81-2.81c.8-.78.8-2.07 0-2.86zM5.41 20L4 18.59l7.72-7.72 1.47 1.35L5.41 20z\"/>\n",
              "  </svg>\n",
              "      </button>\n",
              "      \n",
              "  <style>\n",
              "    .colab-df-container {\n",
              "      display:flex;\n",
              "      flex-wrap:wrap;\n",
              "      gap: 12px;\n",
              "    }\n",
              "\n",
              "    .colab-df-convert {\n",
              "      background-color: #E8F0FE;\n",
              "      border: none;\n",
              "      border-radius: 50%;\n",
              "      cursor: pointer;\n",
              "      display: none;\n",
              "      fill: #1967D2;\n",
              "      height: 32px;\n",
              "      padding: 0 0 0 0;\n",
              "      width: 32px;\n",
              "    }\n",
              "\n",
              "    .colab-df-convert:hover {\n",
              "      background-color: #E2EBFA;\n",
              "      box-shadow: 0px 1px 2px rgba(60, 64, 67, 0.3), 0px 1px 3px 1px rgba(60, 64, 67, 0.15);\n",
              "      fill: #174EA6;\n",
              "    }\n",
              "\n",
              "    [theme=dark] .colab-df-convert {\n",
              "      background-color: #3B4455;\n",
              "      fill: #D2E3FC;\n",
              "    }\n",
              "\n",
              "    [theme=dark] .colab-df-convert:hover {\n",
              "      background-color: #434B5C;\n",
              "      box-shadow: 0px 1px 3px 1px rgba(0, 0, 0, 0.15);\n",
              "      filter: drop-shadow(0px 1px 2px rgba(0, 0, 0, 0.3));\n",
              "      fill: #FFFFFF;\n",
              "    }\n",
              "  </style>\n",
              "\n",
              "      <script>\n",
              "        const buttonEl =\n",
              "          document.querySelector('#df-deed0972-909e-4583-91cc-ad1fbdde7478 button.colab-df-convert');\n",
              "        buttonEl.style.display =\n",
              "          google.colab.kernel.accessAllowed ? 'block' : 'none';\n",
              "\n",
              "        async function convertToInteractive(key) {\n",
              "          const element = document.querySelector('#df-deed0972-909e-4583-91cc-ad1fbdde7478');\n",
              "          const dataTable =\n",
              "            await google.colab.kernel.invokeFunction('convertToInteractive',\n",
              "                                                     [key], {});\n",
              "          if (!dataTable) return;\n",
              "\n",
              "          const docLinkHtml = 'Like what you see? Visit the ' +\n",
              "            '<a target=\"_blank\" href=https://colab.research.google.com/notebooks/data_table.ipynb>data table notebook</a>'\n",
              "            + ' to learn more about interactive tables.';\n",
              "          element.innerHTML = '';\n",
              "          dataTable['output_type'] = 'display_data';\n",
              "          await google.colab.output.renderOutput(dataTable, element);\n",
              "          const docLink = document.createElement('div');\n",
              "          docLink.innerHTML = docLinkHtml;\n",
              "          element.appendChild(docLink);\n",
              "        }\n",
              "      </script>\n",
              "    </div>\n",
              "  </div>\n",
              "  "
            ]
          },
          "metadata": {},
          "execution_count": 11
        }
      ],
      "source": [
        "df3['Median_NC.EC3'].fillna(0, inplace=True)\n",
        "df3['Median_NC.EC3'].replace(0,100,inplace=True)\n",
        "df3.tail()\n",
        "#df2.drop(['Unnamed: 11','Unnamed: 12','Unnamed: 13'],axis=1, inplace=True)\n"
      ]
    },
    {
      "cell_type": "code",
      "execution_count": 12,
      "metadata": {
        "colab": {
          "base_uri": "https://localhost:8080/"
        },
        "id": "D-lPfDXrpIsj",
        "outputId": "a21d1ab1-44ca-4382-fc0d-58d557bdc581"
      },
      "outputs": [
        {
          "output_type": "execute_result",
          "data": {
            "text/plain": [
              "127"
            ]
          },
          "metadata": {},
          "execution_count": 12
        }
      ],
      "source": [
        "# remove the period (.) character from the column names and\n",
        "# replace multiple consecutive periods with underscores\n",
        "df3.columns = [col.replace(\".\", \"\").replace(\"(\\\\.)+\", \"_\") for col in df3.columns]\n",
        "# Check if all values in cosEuNegCons['Num'] are contained in cosEu['Num']\n",
        "#if all(df3[\"Num\"].isin(df2[\"Num\"])):\n",
        "# Merge the two data frames on the Num column\n",
        "CosEu= pd.merge(df2,df3, on=\"Num\", sort=False)\n",
        "# Replace instances of \"CASRN.x\" in column names with \"CASRN\"\n",
        "CosEu.columns = CosEu.columns.str.replace(\"CASRN.x\", \"CASRN\")\n",
        "CosEu.columns = CosEu.columns.str.replace(\"Median_NCEC3_x\", \"Median_NCEC3\")\n",
        "\n",
        "# Set the row names to the values in the CASRN column\n",
        "CosEu.index = CosEu[\"CASRN\"]\n",
        "CosEu[\"logLLNAthreshold\"]=df1[\"logLLNAthreshold\"]\n",
        "\n",
        "# Create a new column and store the logarithm (base 10) of the values in the Median_NC_EC3 column\n",
        "CosEu['log_Median_NC_EC3'] = np.log10(CosEu[\"Median_NCEC3\"])\n",
        "\n",
        "# Replace missing values in logLLNAthresholdMedNegCons with corresponding values in logLLNAthreshold\n",
        "CosEu[\"log_Median_NC_EC3\"].mask(\n",
        "    CosEu['log_Median_NC_EC3'].isna(),\n",
        "    CosEu[\"logLLNAthreshold\"],\n",
        "    inplace=True,)\n",
        "len(CosEu)"
      ]
    },
    {
      "cell_type": "code",
      "execution_count": 13,
      "metadata": {
        "id": "8eA6DWLLfHJs"
      },
      "outputs": [],
      "source": [
        "##Applying logic to deal with negatives (If all model inputs are negative, prediction is negative)\n",
        "#CosEu['MODEL_PRED1']='Pos'\n",
        "col_list=[\"DPRA.Call\",\"hCLAT.Call\",'KS.Call']\n",
        "CosEu['Pos.Call.DH']=CosEu[col_list].sum(axis=1)\n",
        "CosEu['Model_pred']=CosEu['Pos.Call.DH'].apply(lambda x:'Neg' if x==0 else 'Pos')"
      ]
    },
    {
      "cell_type": "code",
      "execution_count": 14,
      "metadata": {
        "id": "H-UKyolWfMpr"
      },
      "outputs": [],
      "source": [
        "#Replace negatives in hCLAT with CV75\n",
        "CosEu['hCLAT.MIT']=np.where(CosEu['hCLAT.MIT']=='inf',CosEu['hCLAT.MIT'],CosEu['h.CLAT.CV75'])\n",
        "#Convert all h_CLAT Value to log 10 values\n",
        "CosEu['log_hCLAT_MIT']=np.log10(CosEu['hCLAT.MIT'])\n",
        "CosEu['log_KS.Imax']=np.log10(CosEu['KS.Imax'])\n",
        "\n",
        "\n",
        "CosEu['log_hCLAT_MIT'].replace('inf','NA',inplace=True)\n",
        "\n"
      ]
    },
    {
      "cell_type": "code",
      "execution_count": 15,
      "metadata": {
        "colab": {
          "base_uri": "https://localhost:8080/",
          "height": 435
        },
        "id": "ZGpf4VRMf0R-",
        "outputId": "73311f57-529c-4ecc-b84e-08f25285d8fb"
      },
      "outputs": [
        {
          "output_type": "execute_result",
          "data": {
            "text/plain": [
              "            Num                    Chemical_x       CASRN  U-SENS.Call  \\\n",
              "CASRN                                                                    \n",
              "35691-65-7    2  Methyldibromo glutaronitrile  35691-65-7          1.0   \n",
              "149-30-4      3       2-Mercaptobenzothiazole    149-30-4          1.0   \n",
              "104-55-2      4             Cinnamic aldehyde    104-55-2          1.0   \n",
              "137-26-8      5   Tetramethylthiuramdisulfide    137-26-8          1.0   \n",
              "69-72-7       6                Salicylic acid     69-72-7          0.0   \n",
              "\n",
              "           U-SENS.CD86.EC150 U-SENS.CV70  DPRA.Call  DPRA.percCysdep  \\\n",
              "CASRN                                                                  \n",
              "35691-65-7                 3           5        1.0            100.0   \n",
              "149-30-4                  40          80        1.0             97.5   \n",
              "104-55-2                   1           8        1.0             70.6   \n",
              "137-26-8                 0.1           3        1.0             99.5   \n",
              "69-72-7                 >200        >200        1.0              3.5   \n",
              "\n",
              "            DPRA.percLysdep  DPRA.mean  ... humanCall  humanpotency3class  \\\n",
              "CASRN                                   ...                                 \n",
              "35691-65-7             28.6      64.30  ...         1              Strong   \n",
              "149-30-4                0.0      48.75  ...         1                Weak   \n",
              "104-55-2               43.3      56.95  ...         1              Strong   \n",
              "137-26-8                6.9      53.20  ...         1                Weak   \n",
              "69-72-7                21.1      12.30  ...         0                 Non   \n",
              "\n",
              "            humanpotency5class  logLLNAthreshold  log_Median_NC_EC3  \\\n",
              "CASRN                                                                 \n",
              "35691-65-7              Strong           -0.0458          -0.045757   \n",
              "149-30-4              Moderate            0.2304           0.414973   \n",
              "104-55-2                Strong            0.4771           0.060698   \n",
              "137-26-8              Moderate            0.7160           0.466868   \n",
              "69-72-7                    Non               NaN           1.086360   \n",
              "\n",
              "            Pos.Call.DH  Model_pred  log_hCLAT_MIT  log_KS.Imax  log_DPRA_mean  \n",
              "CASRN                                                                           \n",
              "35691-65-7          3.0         Pos       0.995635     0.605305       1.808211  \n",
              "149-30-4            3.0         Pos       2.227887     0.945961       1.687975  \n",
              "104-55-2            3.0         Pos       1.447158     1.210586       1.755494  \n",
              "137-26-8            3.0         Pos       1.000000     0.829304       1.725912  \n",
              "69-72-7             2.0         Pos       3.000000     0.053078       1.089905  \n",
              "\n",
              "[5 rows x 58 columns]"
            ],
            "text/html": [
              "\n",
              "  <div id=\"df-f3452044-7619-477e-ab63-5deaf71eeb93\">\n",
              "    <div class=\"colab-df-container\">\n",
              "      <div>\n",
              "<style scoped>\n",
              "    .dataframe tbody tr th:only-of-type {\n",
              "        vertical-align: middle;\n",
              "    }\n",
              "\n",
              "    .dataframe tbody tr th {\n",
              "        vertical-align: top;\n",
              "    }\n",
              "\n",
              "    .dataframe thead th {\n",
              "        text-align: right;\n",
              "    }\n",
              "</style>\n",
              "<table border=\"1\" class=\"dataframe\">\n",
              "  <thead>\n",
              "    <tr style=\"text-align: right;\">\n",
              "      <th></th>\n",
              "      <th>Num</th>\n",
              "      <th>Chemical_x</th>\n",
              "      <th>CASRN</th>\n",
              "      <th>U-SENS.Call</th>\n",
              "      <th>U-SENS.CD86.EC150</th>\n",
              "      <th>U-SENS.CV70</th>\n",
              "      <th>DPRA.Call</th>\n",
              "      <th>DPRA.percCysdep</th>\n",
              "      <th>DPRA.percLysdep</th>\n",
              "      <th>DPRA.mean</th>\n",
              "      <th>...</th>\n",
              "      <th>humanCall</th>\n",
              "      <th>humanpotency3class</th>\n",
              "      <th>humanpotency5class</th>\n",
              "      <th>logLLNAthreshold</th>\n",
              "      <th>log_Median_NC_EC3</th>\n",
              "      <th>Pos.Call.DH</th>\n",
              "      <th>Model_pred</th>\n",
              "      <th>log_hCLAT_MIT</th>\n",
              "      <th>log_KS.Imax</th>\n",
              "      <th>log_DPRA_mean</th>\n",
              "    </tr>\n",
              "    <tr>\n",
              "      <th>CASRN</th>\n",
              "      <th></th>\n",
              "      <th></th>\n",
              "      <th></th>\n",
              "      <th></th>\n",
              "      <th></th>\n",
              "      <th></th>\n",
              "      <th></th>\n",
              "      <th></th>\n",
              "      <th></th>\n",
              "      <th></th>\n",
              "      <th></th>\n",
              "      <th></th>\n",
              "      <th></th>\n",
              "      <th></th>\n",
              "      <th></th>\n",
              "      <th></th>\n",
              "      <th></th>\n",
              "      <th></th>\n",
              "      <th></th>\n",
              "      <th></th>\n",
              "      <th></th>\n",
              "    </tr>\n",
              "  </thead>\n",
              "  <tbody>\n",
              "    <tr>\n",
              "      <th>35691-65-7</th>\n",
              "      <td>2</td>\n",
              "      <td>Methyldibromo glutaronitrile</td>\n",
              "      <td>35691-65-7</td>\n",
              "      <td>1.0</td>\n",
              "      <td>3</td>\n",
              "      <td>5</td>\n",
              "      <td>1.0</td>\n",
              "      <td>100.0</td>\n",
              "      <td>28.6</td>\n",
              "      <td>64.30</td>\n",
              "      <td>...</td>\n",
              "      <td>1</td>\n",
              "      <td>Strong</td>\n",
              "      <td>Strong</td>\n",
              "      <td>-0.0458</td>\n",
              "      <td>-0.045757</td>\n",
              "      <td>3.0</td>\n",
              "      <td>Pos</td>\n",
              "      <td>0.995635</td>\n",
              "      <td>0.605305</td>\n",
              "      <td>1.808211</td>\n",
              "    </tr>\n",
              "    <tr>\n",
              "      <th>149-30-4</th>\n",
              "      <td>3</td>\n",
              "      <td>2-Mercaptobenzothiazole</td>\n",
              "      <td>149-30-4</td>\n",
              "      <td>1.0</td>\n",
              "      <td>40</td>\n",
              "      <td>80</td>\n",
              "      <td>1.0</td>\n",
              "      <td>97.5</td>\n",
              "      <td>0.0</td>\n",
              "      <td>48.75</td>\n",
              "      <td>...</td>\n",
              "      <td>1</td>\n",
              "      <td>Weak</td>\n",
              "      <td>Moderate</td>\n",
              "      <td>0.2304</td>\n",
              "      <td>0.414973</td>\n",
              "      <td>3.0</td>\n",
              "      <td>Pos</td>\n",
              "      <td>2.227887</td>\n",
              "      <td>0.945961</td>\n",
              "      <td>1.687975</td>\n",
              "    </tr>\n",
              "    <tr>\n",
              "      <th>104-55-2</th>\n",
              "      <td>4</td>\n",
              "      <td>Cinnamic aldehyde</td>\n",
              "      <td>104-55-2</td>\n",
              "      <td>1.0</td>\n",
              "      <td>1</td>\n",
              "      <td>8</td>\n",
              "      <td>1.0</td>\n",
              "      <td>70.6</td>\n",
              "      <td>43.3</td>\n",
              "      <td>56.95</td>\n",
              "      <td>...</td>\n",
              "      <td>1</td>\n",
              "      <td>Strong</td>\n",
              "      <td>Strong</td>\n",
              "      <td>0.4771</td>\n",
              "      <td>0.060698</td>\n",
              "      <td>3.0</td>\n",
              "      <td>Pos</td>\n",
              "      <td>1.447158</td>\n",
              "      <td>1.210586</td>\n",
              "      <td>1.755494</td>\n",
              "    </tr>\n",
              "    <tr>\n",
              "      <th>137-26-8</th>\n",
              "      <td>5</td>\n",
              "      <td>Tetramethylthiuramdisulfide</td>\n",
              "      <td>137-26-8</td>\n",
              "      <td>1.0</td>\n",
              "      <td>0.1</td>\n",
              "      <td>3</td>\n",
              "      <td>1.0</td>\n",
              "      <td>99.5</td>\n",
              "      <td>6.9</td>\n",
              "      <td>53.20</td>\n",
              "      <td>...</td>\n",
              "      <td>1</td>\n",
              "      <td>Weak</td>\n",
              "      <td>Moderate</td>\n",
              "      <td>0.7160</td>\n",
              "      <td>0.466868</td>\n",
              "      <td>3.0</td>\n",
              "      <td>Pos</td>\n",
              "      <td>1.000000</td>\n",
              "      <td>0.829304</td>\n",
              "      <td>1.725912</td>\n",
              "    </tr>\n",
              "    <tr>\n",
              "      <th>69-72-7</th>\n",
              "      <td>6</td>\n",
              "      <td>Salicylic acid</td>\n",
              "      <td>69-72-7</td>\n",
              "      <td>0.0</td>\n",
              "      <td>&gt;200</td>\n",
              "      <td>&gt;200</td>\n",
              "      <td>1.0</td>\n",
              "      <td>3.5</td>\n",
              "      <td>21.1</td>\n",
              "      <td>12.30</td>\n",
              "      <td>...</td>\n",
              "      <td>0</td>\n",
              "      <td>Non</td>\n",
              "      <td>Non</td>\n",
              "      <td>NaN</td>\n",
              "      <td>1.086360</td>\n",
              "      <td>2.0</td>\n",
              "      <td>Pos</td>\n",
              "      <td>3.000000</td>\n",
              "      <td>0.053078</td>\n",
              "      <td>1.089905</td>\n",
              "    </tr>\n",
              "  </tbody>\n",
              "</table>\n",
              "<p>5 rows × 58 columns</p>\n",
              "</div>\n",
              "      <button class=\"colab-df-convert\" onclick=\"convertToInteractive('df-f3452044-7619-477e-ab63-5deaf71eeb93')\"\n",
              "              title=\"Convert this dataframe to an interactive table.\"\n",
              "              style=\"display:none;\">\n",
              "        \n",
              "  <svg xmlns=\"http://www.w3.org/2000/svg\" height=\"24px\"viewBox=\"0 0 24 24\"\n",
              "       width=\"24px\">\n",
              "    <path d=\"M0 0h24v24H0V0z\" fill=\"none\"/>\n",
              "    <path d=\"M18.56 5.44l.94 2.06.94-2.06 2.06-.94-2.06-.94-.94-2.06-.94 2.06-2.06.94zm-11 1L8.5 8.5l.94-2.06 2.06-.94-2.06-.94L8.5 2.5l-.94 2.06-2.06.94zm10 10l.94 2.06.94-2.06 2.06-.94-2.06-.94-.94-2.06-.94 2.06-2.06.94z\"/><path d=\"M17.41 7.96l-1.37-1.37c-.4-.4-.92-.59-1.43-.59-.52 0-1.04.2-1.43.59L10.3 9.45l-7.72 7.72c-.78.78-.78 2.05 0 2.83L4 21.41c.39.39.9.59 1.41.59.51 0 1.02-.2 1.41-.59l7.78-7.78 2.81-2.81c.8-.78.8-2.07 0-2.86zM5.41 20L4 18.59l7.72-7.72 1.47 1.35L5.41 20z\"/>\n",
              "  </svg>\n",
              "      </button>\n",
              "      \n",
              "  <style>\n",
              "    .colab-df-container {\n",
              "      display:flex;\n",
              "      flex-wrap:wrap;\n",
              "      gap: 12px;\n",
              "    }\n",
              "\n",
              "    .colab-df-convert {\n",
              "      background-color: #E8F0FE;\n",
              "      border: none;\n",
              "      border-radius: 50%;\n",
              "      cursor: pointer;\n",
              "      display: none;\n",
              "      fill: #1967D2;\n",
              "      height: 32px;\n",
              "      padding: 0 0 0 0;\n",
              "      width: 32px;\n",
              "    }\n",
              "\n",
              "    .colab-df-convert:hover {\n",
              "      background-color: #E2EBFA;\n",
              "      box-shadow: 0px 1px 2px rgba(60, 64, 67, 0.3), 0px 1px 3px 1px rgba(60, 64, 67, 0.15);\n",
              "      fill: #174EA6;\n",
              "    }\n",
              "\n",
              "    [theme=dark] .colab-df-convert {\n",
              "      background-color: #3B4455;\n",
              "      fill: #D2E3FC;\n",
              "    }\n",
              "\n",
              "    [theme=dark] .colab-df-convert:hover {\n",
              "      background-color: #434B5C;\n",
              "      box-shadow: 0px 1px 3px 1px rgba(0, 0, 0, 0.15);\n",
              "      filter: drop-shadow(0px 1px 2px rgba(0, 0, 0, 0.3));\n",
              "      fill: #FFFFFF;\n",
              "    }\n",
              "  </style>\n",
              "\n",
              "      <script>\n",
              "        const buttonEl =\n",
              "          document.querySelector('#df-f3452044-7619-477e-ab63-5deaf71eeb93 button.colab-df-convert');\n",
              "        buttonEl.style.display =\n",
              "          google.colab.kernel.accessAllowed ? 'block' : 'none';\n",
              "\n",
              "        async function convertToInteractive(key) {\n",
              "          const element = document.querySelector('#df-f3452044-7619-477e-ab63-5deaf71eeb93');\n",
              "          const dataTable =\n",
              "            await google.colab.kernel.invokeFunction('convertToInteractive',\n",
              "                                                     [key], {});\n",
              "          if (!dataTable) return;\n",
              "\n",
              "          const docLinkHtml = 'Like what you see? Visit the ' +\n",
              "            '<a target=\"_blank\" href=https://colab.research.google.com/notebooks/data_table.ipynb>data table notebook</a>'\n",
              "            + ' to learn more about interactive tables.';\n",
              "          element.innerHTML = '';\n",
              "          dataTable['output_type'] = 'display_data';\n",
              "          await google.colab.output.renderOutput(dataTable, element);\n",
              "          const docLink = document.createElement('div');\n",
              "          docLink.innerHTML = docLinkHtml;\n",
              "          element.appendChild(docLink);\n",
              "        }\n",
              "      </script>\n",
              "    </div>\n",
              "  </div>\n",
              "  "
            ]
          },
          "metadata": {},
          "execution_count": 15
        }
      ],
      "source": [
        "#Replace 0 in DPRA with 0.01\n",
        "CosEu['DPRA.mean']=CosEu['DPRA.mean'].clip(lower=0.01)\n",
        "CosEu['log_DPRA_mean']=np.log10(CosEu['DPRA.mean'])\n",
        "CosEu.head()"
      ]
    },
    {
      "cell_type": "code",
      "execution_count": 16,
      "metadata": {
        "colab": {
          "base_uri": "https://localhost:8080/"
        },
        "id": "Xr8ImmOtrdDw",
        "outputId": "bf74f380-60aa-42cf-ecec-d78be4d82831"
      },
      "outputs": [
        {
          "output_type": "execute_result",
          "data": {
            "text/plain": [
              "127"
            ]
          },
          "metadata": {},
          "execution_count": 16
        }
      ],
      "source": [
        "#Checking for intesection between hirotashi dataset and merged invivo, invitro dataset using the CAS column\n",
        "#strip x suffix and prefix\n",
        "CosEu.columns = CosEu.columns.str.rstrip('_x')\n",
        "merge = pd.merge(df1, CosEu, left_index=True, right_index=True,how='right')\n",
        "ex_data=merge[['log_Median_NC_EC3','log_DPRA_mean','log_hCLAT_MIT','log_KS.Ima','Model_pred']]\n",
        "ex_data['log_hCLAT_MIT'].replace('inf','NA',inplace=True)\n",
        "ex_data= ex_data.replace('inf', np.NaN)\n",
        "ex_data.dropna(subset=['log_hCLAT_MIT','log_DPRA_mean'], inplace=True)\n",
        "ex_data.head(98)\n",
        "len(ex_data)\n",
        "\n",
        "#CosEu_1.dropna(subset=['log_DPRA_mean','log_hCLAT_MIT'],inplace=Tr\n",
        "#3len(n_53)\n",
        "#3n_53.head(30)"
      ]
    },
    {
      "cell_type": "code",
      "execution_count": 17,
      "metadata": {
        "colab": {
          "base_uri": "https://localhost:8080/",
          "height": 455
        },
        "id": "clb8kfs6sobh",
        "outputId": "bb436209-49f4-429b-840f-9ffae45cc665"
      },
      "outputs": [
        {
          "output_type": "execute_result",
          "data": {
            "text/plain": [
              "            log_Median_NC_EC3  log_DPRA_mean  log_hCLAT_MIT  log_KS.Ima  \\\n",
              "CASRN                                                                     \n",
              "35691-65-7          -0.045757       1.808211       0.995635    0.605305   \n",
              "149-30-4             0.414973       1.687975       2.227887    0.945961   \n",
              "104-55-2             0.060698       1.755494       1.447158    1.210586   \n",
              "137-26-8             0.466868       1.725912       1.000000    0.829304   \n",
              "69-72-7              1.086360       1.089905       3.000000    0.053078   \n",
              "...                       ...            ...            ...         ...   \n",
              "101-39-3             0.653213       1.292256       2.143015    2.142483   \n",
              "111-80-8             0.397940       1.712650       2.282622    1.519303   \n",
              "93-51-6              0.748188       0.759668       2.447158    0.008600   \n",
              "122-78-1             0.672098       1.619771       1.431364    1.052694   \n",
              "17369-59-4           0.531479       1.351216       2.053078    0.041393   \n",
              "\n",
              "           Model_pred  \n",
              "CASRN                  \n",
              "35691-65-7        Pos  \n",
              "149-30-4          Pos  \n",
              "104-55-2          Pos  \n",
              "137-26-8          Pos  \n",
              "69-72-7           Pos  \n",
              "...               ...  \n",
              "101-39-3          Pos  \n",
              "111-80-8          Pos  \n",
              "93-51-6           Pos  \n",
              "122-78-1          Pos  \n",
              "17369-59-4        Pos  \n",
              "\n",
              "[127 rows x 5 columns]"
            ],
            "text/html": [
              "\n",
              "  <div id=\"df-c4bcf923-969b-40a1-9bf9-360ef1e9d814\">\n",
              "    <div class=\"colab-df-container\">\n",
              "      <div>\n",
              "<style scoped>\n",
              "    .dataframe tbody tr th:only-of-type {\n",
              "        vertical-align: middle;\n",
              "    }\n",
              "\n",
              "    .dataframe tbody tr th {\n",
              "        vertical-align: top;\n",
              "    }\n",
              "\n",
              "    .dataframe thead th {\n",
              "        text-align: right;\n",
              "    }\n",
              "</style>\n",
              "<table border=\"1\" class=\"dataframe\">\n",
              "  <thead>\n",
              "    <tr style=\"text-align: right;\">\n",
              "      <th></th>\n",
              "      <th>log_Median_NC_EC3</th>\n",
              "      <th>log_DPRA_mean</th>\n",
              "      <th>log_hCLAT_MIT</th>\n",
              "      <th>log_KS.Ima</th>\n",
              "      <th>Model_pred</th>\n",
              "    </tr>\n",
              "    <tr>\n",
              "      <th>CASRN</th>\n",
              "      <th></th>\n",
              "      <th></th>\n",
              "      <th></th>\n",
              "      <th></th>\n",
              "      <th></th>\n",
              "    </tr>\n",
              "  </thead>\n",
              "  <tbody>\n",
              "    <tr>\n",
              "      <th>35691-65-7</th>\n",
              "      <td>-0.045757</td>\n",
              "      <td>1.808211</td>\n",
              "      <td>0.995635</td>\n",
              "      <td>0.605305</td>\n",
              "      <td>Pos</td>\n",
              "    </tr>\n",
              "    <tr>\n",
              "      <th>149-30-4</th>\n",
              "      <td>0.414973</td>\n",
              "      <td>1.687975</td>\n",
              "      <td>2.227887</td>\n",
              "      <td>0.945961</td>\n",
              "      <td>Pos</td>\n",
              "    </tr>\n",
              "    <tr>\n",
              "      <th>104-55-2</th>\n",
              "      <td>0.060698</td>\n",
              "      <td>1.755494</td>\n",
              "      <td>1.447158</td>\n",
              "      <td>1.210586</td>\n",
              "      <td>Pos</td>\n",
              "    </tr>\n",
              "    <tr>\n",
              "      <th>137-26-8</th>\n",
              "      <td>0.466868</td>\n",
              "      <td>1.725912</td>\n",
              "      <td>1.000000</td>\n",
              "      <td>0.829304</td>\n",
              "      <td>Pos</td>\n",
              "    </tr>\n",
              "    <tr>\n",
              "      <th>69-72-7</th>\n",
              "      <td>1.086360</td>\n",
              "      <td>1.089905</td>\n",
              "      <td>3.000000</td>\n",
              "      <td>0.053078</td>\n",
              "      <td>Pos</td>\n",
              "    </tr>\n",
              "    <tr>\n",
              "      <th>...</th>\n",
              "      <td>...</td>\n",
              "      <td>...</td>\n",
              "      <td>...</td>\n",
              "      <td>...</td>\n",
              "      <td>...</td>\n",
              "    </tr>\n",
              "    <tr>\n",
              "      <th>101-39-3</th>\n",
              "      <td>0.653213</td>\n",
              "      <td>1.292256</td>\n",
              "      <td>2.143015</td>\n",
              "      <td>2.142483</td>\n",
              "      <td>Pos</td>\n",
              "    </tr>\n",
              "    <tr>\n",
              "      <th>111-80-8</th>\n",
              "      <td>0.397940</td>\n",
              "      <td>1.712650</td>\n",
              "      <td>2.282622</td>\n",
              "      <td>1.519303</td>\n",
              "      <td>Pos</td>\n",
              "    </tr>\n",
              "    <tr>\n",
              "      <th>93-51-6</th>\n",
              "      <td>0.748188</td>\n",
              "      <td>0.759668</td>\n",
              "      <td>2.447158</td>\n",
              "      <td>0.008600</td>\n",
              "      <td>Pos</td>\n",
              "    </tr>\n",
              "    <tr>\n",
              "      <th>122-78-1</th>\n",
              "      <td>0.672098</td>\n",
              "      <td>1.619771</td>\n",
              "      <td>1.431364</td>\n",
              "      <td>1.052694</td>\n",
              "      <td>Pos</td>\n",
              "    </tr>\n",
              "    <tr>\n",
              "      <th>17369-59-4</th>\n",
              "      <td>0.531479</td>\n",
              "      <td>1.351216</td>\n",
              "      <td>2.053078</td>\n",
              "      <td>0.041393</td>\n",
              "      <td>Pos</td>\n",
              "    </tr>\n",
              "  </tbody>\n",
              "</table>\n",
              "<p>127 rows × 5 columns</p>\n",
              "</div>\n",
              "      <button class=\"colab-df-convert\" onclick=\"convertToInteractive('df-c4bcf923-969b-40a1-9bf9-360ef1e9d814')\"\n",
              "              title=\"Convert this dataframe to an interactive table.\"\n",
              "              style=\"display:none;\">\n",
              "        \n",
              "  <svg xmlns=\"http://www.w3.org/2000/svg\" height=\"24px\"viewBox=\"0 0 24 24\"\n",
              "       width=\"24px\">\n",
              "    <path d=\"M0 0h24v24H0V0z\" fill=\"none\"/>\n",
              "    <path d=\"M18.56 5.44l.94 2.06.94-2.06 2.06-.94-2.06-.94-.94-2.06-.94 2.06-2.06.94zm-11 1L8.5 8.5l.94-2.06 2.06-.94-2.06-.94L8.5 2.5l-.94 2.06-2.06.94zm10 10l.94 2.06.94-2.06 2.06-.94-2.06-.94-.94-2.06-.94 2.06-2.06.94z\"/><path d=\"M17.41 7.96l-1.37-1.37c-.4-.4-.92-.59-1.43-.59-.52 0-1.04.2-1.43.59L10.3 9.45l-7.72 7.72c-.78.78-.78 2.05 0 2.83L4 21.41c.39.39.9.59 1.41.59.51 0 1.02-.2 1.41-.59l7.78-7.78 2.81-2.81c.8-.78.8-2.07 0-2.86zM5.41 20L4 18.59l7.72-7.72 1.47 1.35L5.41 20z\"/>\n",
              "  </svg>\n",
              "      </button>\n",
              "      \n",
              "  <style>\n",
              "    .colab-df-container {\n",
              "      display:flex;\n",
              "      flex-wrap:wrap;\n",
              "      gap: 12px;\n",
              "    }\n",
              "\n",
              "    .colab-df-convert {\n",
              "      background-color: #E8F0FE;\n",
              "      border: none;\n",
              "      border-radius: 50%;\n",
              "      cursor: pointer;\n",
              "      display: none;\n",
              "      fill: #1967D2;\n",
              "      height: 32px;\n",
              "      padding: 0 0 0 0;\n",
              "      width: 32px;\n",
              "    }\n",
              "\n",
              "    .colab-df-convert:hover {\n",
              "      background-color: #E2EBFA;\n",
              "      box-shadow: 0px 1px 2px rgba(60, 64, 67, 0.3), 0px 1px 3px 1px rgba(60, 64, 67, 0.15);\n",
              "      fill: #174EA6;\n",
              "    }\n",
              "\n",
              "    [theme=dark] .colab-df-convert {\n",
              "      background-color: #3B4455;\n",
              "      fill: #D2E3FC;\n",
              "    }\n",
              "\n",
              "    [theme=dark] .colab-df-convert:hover {\n",
              "      background-color: #434B5C;\n",
              "      box-shadow: 0px 1px 3px 1px rgba(0, 0, 0, 0.15);\n",
              "      filter: drop-shadow(0px 1px 2px rgba(0, 0, 0, 0.3));\n",
              "      fill: #FFFFFF;\n",
              "    }\n",
              "  </style>\n",
              "\n",
              "      <script>\n",
              "        const buttonEl =\n",
              "          document.querySelector('#df-c4bcf923-969b-40a1-9bf9-360ef1e9d814 button.colab-df-convert');\n",
              "        buttonEl.style.display =\n",
              "          google.colab.kernel.accessAllowed ? 'block' : 'none';\n",
              "\n",
              "        async function convertToInteractive(key) {\n",
              "          const element = document.querySelector('#df-c4bcf923-969b-40a1-9bf9-360ef1e9d814');\n",
              "          const dataTable =\n",
              "            await google.colab.kernel.invokeFunction('convertToInteractive',\n",
              "                                                     [key], {});\n",
              "          if (!dataTable) return;\n",
              "\n",
              "          const docLinkHtml = 'Like what you see? Visit the ' +\n",
              "            '<a target=\"_blank\" href=https://colab.research.google.com/notebooks/data_table.ipynb>data table notebook</a>'\n",
              "            + ' to learn more about interactive tables.';\n",
              "          element.innerHTML = '';\n",
              "          dataTable['output_type'] = 'display_data';\n",
              "          await google.colab.output.renderOutput(dataTable, element);\n",
              "          const docLink = document.createElement('div');\n",
              "          docLink.innerHTML = docLinkHtml;\n",
              "          element.appendChild(docLink);\n",
              "        }\n",
              "      </script>\n",
              "    </div>\n",
              "  </div>\n",
              "  "
            ]
          },
          "metadata": {},
          "execution_count": 17
        }
      ],
      "source": [
        "ex_data"
      ]
    },
    {
      "cell_type": "code",
      "execution_count": 18,
      "metadata": {
        "colab": {
          "base_uri": "https://localhost:8080/"
        },
        "id": "pK5gb-uOcFaH",
        "outputId": "54e9d4c9-e8bb-4717-f55b-14bc4df914ca"
      },
      "outputs": [
        {
          "output_type": "execute_result",
          "data": {
            "text/plain": [
              "log_DPRA_mean    0\n",
              "log_hCLAT_MIT    0\n",
              "dtype: int64"
            ]
          },
          "metadata": {},
          "execution_count": 18
        }
      ],
      "source": [
        "CosEu1=ex_data[ex_data['Model_pred']!='Neg']\n",
        "CosEu1.dropna()\n",
        "len(CosEu1)\n",
        "CosEu1['log_Median_NC_EC3'].isna().sum()\n",
        "CosEu1[['log_DPRA_mean','log_hCLAT_MIT']].isna().sum()"
      ]
    },
    {
      "cell_type": "code",
      "execution_count": 19,
      "metadata": {
        "colab": {
          "base_uri": "https://localhost:8080/",
          "height": 455
        },
        "id": "E0k-qZtpttkr",
        "outputId": "346ffb86-c2fe-4067-dfbf-d7fae8e35f85"
      },
      "outputs": [
        {
          "output_type": "execute_result",
          "data": {
            "text/plain": [
              "            log_Median_NC_EC3  log_DPRA_mean  log_hCLAT_MIT  log_KS.Ima\n",
              "CASRN                                                                  \n",
              "35691-65-7          -0.045757       1.808211       0.995635    0.605305\n",
              "149-30-4             0.414973       1.687975       2.227887    0.945961\n",
              "104-55-2             0.060698       1.755494       1.447158    1.210586\n",
              "137-26-8             0.466868       1.725912       1.000000    0.829304\n",
              "69-72-7              1.086360       1.089905       3.000000    0.053078\n",
              "...                       ...            ...            ...         ...\n",
              "101-39-3             0.653213       1.292256       2.143015    2.142483\n",
              "111-80-8             0.397940       1.712650       2.282622    1.519303\n",
              "93-51-6              0.748188       0.759668       2.447158    0.008600\n",
              "122-78-1             0.672098       1.619771       1.431364    1.052694\n",
              "17369-59-4           0.531479       1.351216       2.053078    0.041393\n",
              "\n",
              "[115 rows x 4 columns]"
            ],
            "text/html": [
              "\n",
              "  <div id=\"df-34c216c5-13a6-4b19-b7d2-ee24769d35aa\">\n",
              "    <div class=\"colab-df-container\">\n",
              "      <div>\n",
              "<style scoped>\n",
              "    .dataframe tbody tr th:only-of-type {\n",
              "        vertical-align: middle;\n",
              "    }\n",
              "\n",
              "    .dataframe tbody tr th {\n",
              "        vertical-align: top;\n",
              "    }\n",
              "\n",
              "    .dataframe thead th {\n",
              "        text-align: right;\n",
              "    }\n",
              "</style>\n",
              "<table border=\"1\" class=\"dataframe\">\n",
              "  <thead>\n",
              "    <tr style=\"text-align: right;\">\n",
              "      <th></th>\n",
              "      <th>log_Median_NC_EC3</th>\n",
              "      <th>log_DPRA_mean</th>\n",
              "      <th>log_hCLAT_MIT</th>\n",
              "      <th>log_KS.Ima</th>\n",
              "    </tr>\n",
              "    <tr>\n",
              "      <th>CASRN</th>\n",
              "      <th></th>\n",
              "      <th></th>\n",
              "      <th></th>\n",
              "      <th></th>\n",
              "    </tr>\n",
              "  </thead>\n",
              "  <tbody>\n",
              "    <tr>\n",
              "      <th>35691-65-7</th>\n",
              "      <td>-0.045757</td>\n",
              "      <td>1.808211</td>\n",
              "      <td>0.995635</td>\n",
              "      <td>0.605305</td>\n",
              "    </tr>\n",
              "    <tr>\n",
              "      <th>149-30-4</th>\n",
              "      <td>0.414973</td>\n",
              "      <td>1.687975</td>\n",
              "      <td>2.227887</td>\n",
              "      <td>0.945961</td>\n",
              "    </tr>\n",
              "    <tr>\n",
              "      <th>104-55-2</th>\n",
              "      <td>0.060698</td>\n",
              "      <td>1.755494</td>\n",
              "      <td>1.447158</td>\n",
              "      <td>1.210586</td>\n",
              "    </tr>\n",
              "    <tr>\n",
              "      <th>137-26-8</th>\n",
              "      <td>0.466868</td>\n",
              "      <td>1.725912</td>\n",
              "      <td>1.000000</td>\n",
              "      <td>0.829304</td>\n",
              "    </tr>\n",
              "    <tr>\n",
              "      <th>69-72-7</th>\n",
              "      <td>1.086360</td>\n",
              "      <td>1.089905</td>\n",
              "      <td>3.000000</td>\n",
              "      <td>0.053078</td>\n",
              "    </tr>\n",
              "    <tr>\n",
              "      <th>...</th>\n",
              "      <td>...</td>\n",
              "      <td>...</td>\n",
              "      <td>...</td>\n",
              "      <td>...</td>\n",
              "    </tr>\n",
              "    <tr>\n",
              "      <th>101-39-3</th>\n",
              "      <td>0.653213</td>\n",
              "      <td>1.292256</td>\n",
              "      <td>2.143015</td>\n",
              "      <td>2.142483</td>\n",
              "    </tr>\n",
              "    <tr>\n",
              "      <th>111-80-8</th>\n",
              "      <td>0.397940</td>\n",
              "      <td>1.712650</td>\n",
              "      <td>2.282622</td>\n",
              "      <td>1.519303</td>\n",
              "    </tr>\n",
              "    <tr>\n",
              "      <th>93-51-6</th>\n",
              "      <td>0.748188</td>\n",
              "      <td>0.759668</td>\n",
              "      <td>2.447158</td>\n",
              "      <td>0.008600</td>\n",
              "    </tr>\n",
              "    <tr>\n",
              "      <th>122-78-1</th>\n",
              "      <td>0.672098</td>\n",
              "      <td>1.619771</td>\n",
              "      <td>1.431364</td>\n",
              "      <td>1.052694</td>\n",
              "    </tr>\n",
              "    <tr>\n",
              "      <th>17369-59-4</th>\n",
              "      <td>0.531479</td>\n",
              "      <td>1.351216</td>\n",
              "      <td>2.053078</td>\n",
              "      <td>0.041393</td>\n",
              "    </tr>\n",
              "  </tbody>\n",
              "</table>\n",
              "<p>115 rows × 4 columns</p>\n",
              "</div>\n",
              "      <button class=\"colab-df-convert\" onclick=\"convertToInteractive('df-34c216c5-13a6-4b19-b7d2-ee24769d35aa')\"\n",
              "              title=\"Convert this dataframe to an interactive table.\"\n",
              "              style=\"display:none;\">\n",
              "        \n",
              "  <svg xmlns=\"http://www.w3.org/2000/svg\" height=\"24px\"viewBox=\"0 0 24 24\"\n",
              "       width=\"24px\">\n",
              "    <path d=\"M0 0h24v24H0V0z\" fill=\"none\"/>\n",
              "    <path d=\"M18.56 5.44l.94 2.06.94-2.06 2.06-.94-2.06-.94-.94-2.06-.94 2.06-2.06.94zm-11 1L8.5 8.5l.94-2.06 2.06-.94-2.06-.94L8.5 2.5l-.94 2.06-2.06.94zm10 10l.94 2.06.94-2.06 2.06-.94-2.06-.94-.94-2.06-.94 2.06-2.06.94z\"/><path d=\"M17.41 7.96l-1.37-1.37c-.4-.4-.92-.59-1.43-.59-.52 0-1.04.2-1.43.59L10.3 9.45l-7.72 7.72c-.78.78-.78 2.05 0 2.83L4 21.41c.39.39.9.59 1.41.59.51 0 1.02-.2 1.41-.59l7.78-7.78 2.81-2.81c.8-.78.8-2.07 0-2.86zM5.41 20L4 18.59l7.72-7.72 1.47 1.35L5.41 20z\"/>\n",
              "  </svg>\n",
              "      </button>\n",
              "      \n",
              "  <style>\n",
              "    .colab-df-container {\n",
              "      display:flex;\n",
              "      flex-wrap:wrap;\n",
              "      gap: 12px;\n",
              "    }\n",
              "\n",
              "    .colab-df-convert {\n",
              "      background-color: #E8F0FE;\n",
              "      border: none;\n",
              "      border-radius: 50%;\n",
              "      cursor: pointer;\n",
              "      display: none;\n",
              "      fill: #1967D2;\n",
              "      height: 32px;\n",
              "      padding: 0 0 0 0;\n",
              "      width: 32px;\n",
              "    }\n",
              "\n",
              "    .colab-df-convert:hover {\n",
              "      background-color: #E2EBFA;\n",
              "      box-shadow: 0px 1px 2px rgba(60, 64, 67, 0.3), 0px 1px 3px 1px rgba(60, 64, 67, 0.15);\n",
              "      fill: #174EA6;\n",
              "    }\n",
              "\n",
              "    [theme=dark] .colab-df-convert {\n",
              "      background-color: #3B4455;\n",
              "      fill: #D2E3FC;\n",
              "    }\n",
              "\n",
              "    [theme=dark] .colab-df-convert:hover {\n",
              "      background-color: #434B5C;\n",
              "      box-shadow: 0px 1px 3px 1px rgba(0, 0, 0, 0.15);\n",
              "      filter: drop-shadow(0px 1px 2px rgba(0, 0, 0, 0.3));\n",
              "      fill: #FFFFFF;\n",
              "    }\n",
              "  </style>\n",
              "\n",
              "      <script>\n",
              "        const buttonEl =\n",
              "          document.querySelector('#df-34c216c5-13a6-4b19-b7d2-ee24769d35aa button.colab-df-convert');\n",
              "        buttonEl.style.display =\n",
              "          google.colab.kernel.accessAllowed ? 'block' : 'none';\n",
              "\n",
              "        async function convertToInteractive(key) {\n",
              "          const element = document.querySelector('#df-34c216c5-13a6-4b19-b7d2-ee24769d35aa');\n",
              "          const dataTable =\n",
              "            await google.colab.kernel.invokeFunction('convertToInteractive',\n",
              "                                                     [key], {});\n",
              "          if (!dataTable) return;\n",
              "\n",
              "          const docLinkHtml = 'Like what you see? Visit the ' +\n",
              "            '<a target=\"_blank\" href=https://colab.research.google.com/notebooks/data_table.ipynb>data table notebook</a>'\n",
              "            + ' to learn more about interactive tables.';\n",
              "          element.innerHTML = '';\n",
              "          dataTable['output_type'] = 'display_data';\n",
              "          await google.colab.output.renderOutput(dataTable, element);\n",
              "          const docLink = document.createElement('div');\n",
              "          docLink.innerHTML = docLinkHtml;\n",
              "          element.appendChild(docLink);\n",
              "        }\n",
              "      </script>\n",
              "    </div>\n",
              "  </div>\n",
              "  "
            ]
          },
          "metadata": {},
          "execution_count": 19
        }
      ],
      "source": [
        "CosEu1 [['log_Median_NC_EC3','log_DPRA_mean','log_hCLAT_MIT','log_KS.Ima']]"
      ]
    },
    {
      "cell_type": "code",
      "execution_count": 20,
      "metadata": {
        "colab": {
          "base_uri": "https://localhost:8080/"
        },
        "id": "rQ7GiAdzCgCM",
        "outputId": "4338f7cf-b649-4ad3-97ab-3b01eb48d480"
      },
      "outputs": [
        {
          "output_type": "execute_result",
          "data": {
            "text/plain": [
              "(115, 1)"
            ]
          },
          "metadata": {},
          "execution_count": 20
        }
      ],
      "source": [
        "TargetVariable=['log_Median_NC_EC3']\n",
        "Predictors=['log_hCLAT_MIT','log_DPRA_mean','log_KS.Ima']\n",
        "X=CosEu1[Predictors]\n",
        "y=CosEu1[TargetVariable]\n",
        "PredictorScalerFit=PredictorScaler.fit(X)\n",
        "TargetVarScalerFit=TargetVarScaler.fit(y)\n",
        "# Generating the standardized values of X and y\n",
        "ex_x=PredictorScalerFit.transform(X)\n",
        "ex_y=TargetVarScalerFit.transform(y)\n",
        "ex_y.shape"
      ]
    },
    {
      "cell_type": "code",
      "execution_count": 21,
      "metadata": {
        "colab": {
          "base_uri": "https://localhost:8080/"
        },
        "id": "yuhaCigYt-Q8",
        "outputId": "8f67d3c6-1b5c-4cc5-f619-b1f0cdc02f97"
      },
      "outputs": [
        {
          "output_type": "stream",
          "name": "stdout",
          "text": [
            "train-score 0.5879282259289398\n",
            "test_score 0.7295123261341553\n"
          ]
        }
      ],
      "source": [
        "reg = MLPRegressor(hidden_layer_sizes=(5,2),activation='relu',random_state=42, learning_rate_init=0.02,momentum=0.7, max_iter=500,solver='lbfgs').fit(X_train, y_train)\n",
        "y_pred=reg.predict(X_test)\n",
        "train_score=reg.score(X_train, y_train)\n",
        "test_score=reg.score(X_test, y_test)\n",
        "print('train-score',train_score)\n",
        "print('test_score',test_score)"
      ]
    },
    {
      "cell_type": "code",
      "execution_count": 22,
      "metadata": {
        "colab": {
          "base_uri": "https://localhost:8080/"
        },
        "id": "XhuoomoYuHwj",
        "outputId": "fbce2018-2e39-4d59-dddd-4580f9935f9a"
      },
      "outputs": [
        {
          "output_type": "stream",
          "name": "stdout",
          "text": [
            "The Score with  0.6977714334125467\n",
            "The Score with  0.007175913725386493\n"
          ]
        }
      ],
      "source": [
        "print(\"The Score with \",(r2_score(y_pred, y_test)))\n",
        "print(\"The Score with \",(mean_squared_error(y_pred, y_test)))\n"
      ]
    },
    {
      "cell_type": "code",
      "execution_count": 23,
      "metadata": {
        "colab": {
          "base_uri": "https://localhost:8080/",
          "height": 393
        },
        "id": "pAJyQcMkH1Fs",
        "outputId": "7711bbdf-96eb-4031-f22a-693dabc6cc7b"
      },
      "outputs": [
        {
          "output_type": "display_data",
          "data": {
            "text/plain": [
              "<Figure size 576x396 with 1 Axes>"
            ],
            "image/png": "[encoded data removed]"
          },
          "metadata": {}
        },
        {
          "output_type": "execute_result",
          "data": {
            "text/plain": [
              "<matplotlib.axes._subplots.AxesSubplot at 0x7f69f4531dc0>"
            ]
          },
          "metadata": {},
          "execution_count": 23
        }
      ],
      "source": [
        "import yellowbrick\n",
        "from yellowbrick.model_selection import LearningCurve\n",
        "cv = KFold(n_splits=5, random_state=42, shuffle=True)#\n",
        "# Create the learning curve visualizer\n",
        "visualizer = LearningCurve(reg, cv=cv,scoring='r2')\n",
        "\n",
        "# Fit the visualizer and display the learning curve\n",
        "visualizer.fit(X_train, y_train)\n",
        "visualizer.show()"
      ]
    },
    {
      "cell_type": "code",
      "execution_count": null,
      "metadata": {
        "colab": {
          "base_uri": "https://localhost:8080/",
          "height": 480
        },
        "id": "7KrmsolzJ9jq",
        "outputId": "192e3683-0ccb-4ed5-99a3-1a1a4bc9a866"
      },
      "outputs": [
        {
          "data": {
            "image/png": "[encoded data removed]",
            "text/plain": [
              "<Figure size 576x396 with 1 Axes>"
            ]
          },
          "metadata": {},
          "output_type": "display_data"
        },
        {
          "data": {
            "text/plain": [
              "CVScores(ax=<matplotlib.axes._subplots.AxesSubplot object at 0x7f2906340970>,\n",
              "         cv=KFold(n_splits=5, random_state=0, shuffle=True),\n",
              "         estimator=MLPRegressor(hidden_layer_sizes=(5, 2),\n",
              "                                learning_rate_init=0.02, max_iter=500,\n",
              "                                momentum=0.7, random_state=42, solver='lbfgs'),\n",
              "         scoring='r2')"
            ]
          },
          "execution_count": 25,
          "metadata": {},
          "output_type": "execute_result"
        }
      ],
      "source": [
        "\n",
        "cv = KFold(n_splits=5, random_state=0, shuffle=True)\n",
        "#validation score for cv=\n",
        "from yellowbrick.model_selection import cv_scores\n",
        "cv_scores(\n",
        "    reg,\n",
        "    X_train,\n",
        "    y_train,\n",
        "    cv=cv,\n",
        "    n_jobs=-1,\n",
        "    scoring='r2',\n",
        "    random_state=42)"
      ]
    },
    {
      "cell_type": "code",
      "execution_count": null,
      "metadata": {
        "colab": {
          "base_uri": "https://localhost:8080/",
          "height": 480
        },
        "id": "W2nql8ziKPSl",
        "outputId": "4967734c-5671-459a-d88f-b97a4d7cd203"
      },
      "outputs": [
        {
          "data": {
            "image/png": "[encoded data removed]",
            "text/plain": [
              "<Figure size 576x396 with 1 Axes>"
            ]
          },
          "metadata": {},
          "output_type": "display_data"
        },
        {
          "data": {
            "text/plain": [
              "CVScores(ax=<matplotlib.axes._subplots.AxesSubplot object at 0x7f290365c280>,\n",
              "         cv=KFold(n_splits=10, random_state=42, shuffle=True),\n",
              "         estimator=MLPRegressor(hidden_layer_sizes=(5, 2),\n",
              "                                learning_rate_init=0.02, max_iter=500,\n",
              "                                momentum=0.7, random_state=42, solver='lbfgs'),\n",
              "         scoring='r2')"
            ]
          },
          "execution_count": 26,
          "metadata": {},
          "output_type": "execute_result"
        }
      ],
      "source": [
        "cv = KFold(n_splits=10, random_state=42, shuffle=True)\n",
        "# validation score for cv=10\n",
        "from yellowbrick.model_selection import cv_scores\n",
        "cv_scores(\n",
        "    reg,\n",
        "    X_train,\n",
        "    y_train,\n",
        "    cv=cv,\n",
        "    n_jobs=-1,\n",
        "    scoring='r2',\n",
        "    random_state=0)"
      ]
    },
    {
      "cell_type": "markdown",
      "metadata": {
        "id": "WOCBuD8pVN7l"
      },
      "source": [
        "5-FOLD CROSS VALIDATION"
      ]
    },
    {
      "cell_type": "code",
      "execution_count": null,
      "metadata": {
        "colab": {
          "base_uri": "https://localhost:8080/"
        },
        "id": "9QMwgch0Fot3",
        "outputId": "181eb0a0-16df-4205-fbbd-8624cc096227"
      },
      "outputs": [
        {
          "data": {
            "text/plain": [
              "0.4652426517957234"
            ]
          },
          "execution_count": 27,
          "metadata": {},
          "output_type": "execute_result"
        }
      ],
      "source": [
        "#implementing the 5 fold cross validation for r2 score on train set\n",
        "cv = KFold(n_splits=5, random_state=28, shuffle=True)\n",
        "#scoring=['neg_mean_squared_error']\n",
        "scores = cross_val_score(reg, X_train,y_train, scoring='r2', cv=cv)\n",
        "scores.mean()"
      ]
    },
    {
      "cell_type": "code",
      "execution_count": null,
      "metadata": {
        "colab": {
          "base_uri": "https://localhost:8080/"
        },
        "id": "EGx2Jgi_F1zN",
        "outputId": "665c6bcc-06bd-4505-a40b-7407bea20a11"
      },
      "outputs": [
        {
          "name": "stdout",
          "output_type": "stream",
          "text": [
            "the root mean squared erro 0.19454176654266905\n",
            "the mean squared error 0.03784649892954235\n"
          ]
        }
      ],
      "source": [
        "#implementing the 5 fold cross validation for MSE & RMSE on train set\n",
        "cv = KFold(n_splits=5, random_state=0, shuffle=True)\n",
        "#scoring=['neg_mean_squared_error']\n",
        "scores = cross_val_score(reg, X_train, y_train, scoring='neg_mean_squared_error', cv=cv)\n",
        "RMSE=sqrt(mean(absolute(scores)))\n",
        "MSE=(mean(absolute(scores)))\n",
        "print('the root mean squared erro',RMSE)\n",
        "print('the mean squared error',MSE)\n"
      ]
    },
    {
      "cell_type": "code",
      "execution_count": null,
      "metadata": {
        "colab": {
          "base_uri": "https://localhost:8080/"
        },
        "id": "eq2yh711XWRe",
        "outputId": "fc55d364-7057-4568-818c-4844471d212b"
      },
      "outputs": [
        {
          "name": "stdout",
          "output_type": "stream",
          "text": [
            "r2 after CV 0.5215884752192148\n",
            "MSE AFTER CV: 0.03784649892954234\n",
            "RMSE AFTER CV: 0.19454176654266903\n"
          ]
        }
      ],
      "source": [
        "#model performance for predicted outcomes after 5-fold cross validation\n",
        "pred = cross_val_predict(reg, X_train, y_train, cv=cv)\n",
        "\n",
        "R2 = metrics.r2_score(y_train, pred)\n",
        "MSE=metrics.mean_squared_error(y_train, pred)\n",
        "RMSE=sqrt(MSE)\n",
        "print('r2 after CV',R2)\n",
        "print ('MSE AFTER CV:', MSE)\n",
        "print('RMSE AFTER CV:',RMSE)"
      ]
    },
    {
      "cell_type": "markdown",
      "metadata": {
        "id": "ENyQDrblWsa6"
      },
      "source": [
        "5 FOLD CROSS VALIDATION FOR TEST SET"
      ]
    },
    {
      "cell_type": "code",
      "execution_count": null,
      "metadata": {
        "colab": {
          "base_uri": "https://localhost:8080/"
        },
        "id": "5pjioySjW6Nw",
        "outputId": "c605ca2e-497f-48db-8167-4c9768f51693"
      },
      "outputs": [
        {
          "data": {
            "text/plain": [
              "-1.0148343350994435"
            ]
          },
          "execution_count": 33,
          "metadata": {},
          "output_type": "execute_result"
        }
      ],
      "source": [
        "#implementing the 5 fold cross validation for r2 score on test set\n",
        "cv = KFold(n_splits=5, random_state=0, shuffle=True)\n",
        "scores = cross_val_score(reg, X_test,y_test, scoring='r2', cv=cv)\n",
        "scores.mean()"
      ]
    },
    {
      "cell_type": "code",
      "execution_count": null,
      "metadata": {
        "colab": {
          "base_uri": "https://localhost:8080/"
        },
        "id": "O5AQ_-Hg3oFR",
        "outputId": "9dde0148-e3f8-4204-ee0c-8527809a676a"
      },
      "outputs": [
        {
          "name": "stdout",
          "output_type": "stream",
          "text": [
            "the root mean squared erro 0.14780428926312894\n",
            "the mean squared error 0.021846107924578695\n"
          ]
        }
      ],
      "source": [
        "#implementing the 5 fold cross validation for MSE & RMSE on test set\n",
        "cv = KFold(n_splits=5, random_state=28, shuffle=True)\n",
        "#scoring=['neg_mean_squared_error']\n",
        "scores = cross_val_score(reg, X_test, y_test, scoring='neg_mean_squared_error', cv=cv)\n",
        "RMSE=sqrt(mean(absolute(scores)))\n",
        "MSE=(mean(absolute(scores)))\n",
        "print('the root mean squared erro',RMSE)\n",
        "print('the mean squared error',MSE)"
      ]
    },
    {
      "cell_type": "code",
      "execution_count": null,
      "metadata": {
        "colab": {
          "base_uri": "https://localhost:8080/"
        },
        "id": "K93B8-wD3ybm",
        "outputId": "fb3f8cec-5323-43a4-bdc5-e338653aac1c"
      },
      "outputs": [
        {
          "name": "stdout",
          "output_type": "stream",
          "text": [
            "r2 after CV 0.1192693541220643\n",
            "MSE AFTER CV: 0.023365379426711245\n",
            "RMSE AFTER CV: 0.15285738263725193\n"
          ]
        }
      ],
      "source": [
        "#model performance for predicted outcomes after 5-fold cross validation\n",
        "pred = cross_val_predict(reg, X_test, y_test, cv=cv)\n",
        "R2 = metrics.r2_score(y_test, pred)\n",
        "MSE=metrics.mean_squared_error(y_test, pred)\n",
        "RMSE=sqrt(MSE)\n",
        "print('r2 after CV',R2)\n",
        "print ('MSE AFTER CV:', MSE)\n",
        "print('RMSE AFTER CV:',RMSE)"
      ]
    },
    {
      "cell_type": "markdown",
      "metadata": {
        "id": "ElQxr2mHYhgs"
      },
      "source": [
        "TEN FOLD CROSS VALIDATION TRAIN SET"
      ]
    },
    {
      "cell_type": "code",
      "execution_count": null,
      "metadata": {
        "colab": {
          "base_uri": "https://localhost:8080/"
        },
        "id": "wsu_hWY44a_f",
        "outputId": "de7c9c8b-9774-4984-aca2-f51da4e65618"
      },
      "outputs": [
        {
          "data": {
            "text/plain": [
              "0.34124312923124067"
            ]
          },
          "execution_count": 30,
          "metadata": {},
          "output_type": "execute_result"
        }
      ],
      "source": [
        "#implementing the 10 fold cross validation for r2 score on  train set\n",
        "cv = KFold(n_splits=10, random_state=42, shuffle=True)\n",
        "#scoring=['neg_mean_squared_error']\n",
        "scores = cross_val_score(reg, X_train,y_train, scoring='r2', cv=cv)\n",
        "scores.mean()"
      ]
    },
    {
      "cell_type": "code",
      "execution_count": null,
      "metadata": {
        "colab": {
          "base_uri": "https://localhost:8080/"
        },
        "id": "laoNfdmE5Brk",
        "outputId": "ce17ae41-2256-4bce-a9ac-9f64dbe68355"
      },
      "outputs": [
        {
          "name": "stdout",
          "output_type": "stream",
          "text": [
            "the root mean squared erro 0.18906890627355857\n",
            "the mean squared error 0.035747051319479674\n"
          ]
        }
      ],
      "source": [
        "#implementing the 10 fold cross validation for RMSE & MSE on train set\n",
        "cv = KFold(n_splits=10, random_state=4, shuffle=True)\n",
        "#scoring=['neg_mean_squared_error']\n",
        "pred_cv1 = cross_val_score(reg, X_train, y_train, scoring='neg_mean_squared_error', cv=cv)\n",
        "RMSE=sqrt(mean(absolute(pred_cv1)))\n",
        "MSE=(absolute(mean(pred_cv1)))\n",
        "print('the root mean squared erro',RMSE)\n",
        "print('the mean squared error',MSE)"
      ]
    },
    {
      "cell_type": "code",
      "execution_count": null,
      "metadata": {
        "colab": {
          "base_uri": "https://localhost:8080/"
        },
        "id": "vAdAVFlf5Vi_",
        "outputId": "6b02ecf4-0685-4f82-a626-1f8c7548d20d"
      },
      "outputs": [
        {
          "name": "stdout",
          "output_type": "stream",
          "text": [
            "r2 after CV 0.5305250133240156\n",
            "MSE AFTER CV: 0.037139541295166514\n",
            "RMSE AFTER CV: 0.19271621959546248\n"
          ]
        }
      ],
      "source": [
        "pred = cross_val_predict(reg, X_train, y_train, cv=cv)\n",
        "\n",
        "R2 = metrics.r2_score(y_train, pred)\n",
        "MSE=metrics.mean_squared_error(y_train, pred)\n",
        "RMSE=sqrt(MSE)\n",
        "print('r2 after CV',R2)\n",
        "print ('MSE AFTER CV:', MSE)\n",
        "print('RMSE AFTER CV:',RMSE)"
      ]
    },
    {
      "cell_type": "markdown",
      "metadata": {
        "id": "v3MGun9LZQF8"
      },
      "source": [
        "TEN FOLD CROSS VALIDATION TEST SET"
      ]
    },
    {
      "cell_type": "code",
      "execution_count": null,
      "metadata": {
        "colab": {
          "base_uri": "https://localhost:8080/"
        },
        "id": "yHUHAfGpZe7q",
        "outputId": "0544337a-bae1-4811-f79f-d31a55f91b67"
      },
      "outputs": [
        {
          "data": {
            "text/plain": [
              "0.34124312923124067"
            ]
          },
          "execution_count": 33,
          "metadata": {},
          "output_type": "execute_result"
        }
      ],
      "source": [
        "#implementing the 10 fold cross validation for r2 score on  train set\n",
        "cv = KFold(n_splits=10, random_state=42, shuffle=True)\n",
        "#scoring=['neg_mean_squared_error']\n",
        "scores = cross_val_score(reg, X_train,y_train, scoring='r2', cv=cv)\n",
        "scores.mean()"
      ]
    },
    {
      "cell_type": "code",
      "execution_count": null,
      "metadata": {
        "colab": {
          "base_uri": "https://localhost:8080/"
        },
        "id": "qpKO3M7-ZJDw",
        "outputId": "fd40107d-ec8a-4a93-d961-83ecd94724e8"
      },
      "outputs": [
        {
          "name": "stdout",
          "output_type": "stream",
          "text": [
            "the root mean squared erro 0.15677231025655694\n",
            "the mean squared error 0.024577557263178153\n"
          ]
        }
      ],
      "source": [
        "#implementing the 10 fold cross validation for RMSE & MSE score the model for test set\n",
        "cv = KFold(n_splits=10, random_state=0, shuffle=True)\n",
        "#scoring=['neg_mean_squared_error']\n",
        "scores = cross_val_score(reg, X_test,y_test, scoring='neg_mean_squared_error', cv=cv)\n",
        "RMSE=sqrt(mean(absolute(scores)))\n",
        "MSE=(absolute(mean(scores)))\n",
        "print('the root mean squared erro',RMSE)\n",
        "print('the mean squared error',MSE)"
      ]
    },
    {
      "cell_type": "code",
      "execution_count": null,
      "metadata": {
        "colab": {
          "base_uri": "https://localhost:8080/"
        },
        "id": "CRllifgENIgF",
        "outputId": "902f221f-1272-4252-9450-e8f904308e28"
      },
      "outputs": [
        {
          "name": "stdout",
          "output_type": "stream",
          "text": [
            "r2 after CV -0.06564883299410473\n",
            "MSE AFTER CV: 0.02827117397932603\n",
            "RMSE AFTER CV: 0.1681403401308741\n"
          ]
        }
      ],
      "source": [
        "pred = cross_val_predict(reg, X_test, y_test, cv=cv)\n",
        "\n",
        "R2 = metrics.r2_score(y_test, pred)\n",
        "MSE=metrics.mean_squared_error(y_test, pred)\n",
        "RMSE=sqrt(MSE)\n",
        "print('r2 after CV',R2)\n",
        "print ('MSE AFTER CV:', MSE)\n",
        "print('RMSE AFTER CV:',RMSE)"
      ]
    },
    {
      "cell_type": "markdown",
      "metadata": {
        "id": "0lrIO27geXbn"
      },
      "source": [
        "LEAVE OUT ONE CROSS VALIDATION TRAIN SET\n"
      ]
    },
    {
      "cell_type": "code",
      "execution_count": null,
      "metadata": {
        "colab": {
          "base_uri": "https://localhost:8080/"
        },
        "id": "ZMrZJ81N5eEg",
        "outputId": "91809525-c4d8-4113-d644-babbb13d27e3"
      },
      "outputs": [
        {
          "name": "stdout",
          "output_type": "stream",
          "text": [
            "the root mean squared erro 0.20368901645007875\n",
            "the mean squared error 0.04148921542240045\n"
          ]
        }
      ],
      "source": [
        "#EVALUATING THE MODEL WITH LEAVE ONE OUT On train set\n",
        "cv=LeaveOneOut()\n",
        "\n",
        "scores = cross_val_score(reg,X_train, y_train, scoring='neg_mean_squared_error',\n",
        "                         cv=cv)\n",
        "RMSE=sqrt(mean(absolute(scores)))\n",
        "MSE=(absolute(mean(scores)))\n",
        "print('the root mean squared erro',RMSE)\n",
        "print('the mean squared error',MSE)"
      ]
    },
    {
      "cell_type": "code",
      "execution_count": null,
      "metadata": {
        "colab": {
          "base_uri": "https://localhost:8080/"
        },
        "id": "1d8o5-WzcCBD",
        "outputId": "195707fc-7c8b-4b3c-c324-594103569719"
      },
      "outputs": [
        {
          "name": "stdout",
          "output_type": "stream",
          "text": [
            "r2 after CV 0.4755414800946004\n",
            "MSE AFTER CV: 0.04148921542240045\n",
            "RMSE AFTER CV: 0.20368901645007875\n"
          ]
        }
      ],
      "source": [
        "cv=LeaveOneOut()\n",
        "pred = cross_val_predict(reg, X_train, y_train, cv=cv)\n",
        "\n",
        "R2 = metrics.r2_score(y_train, pred)\n",
        "MSE=metrics.mean_squared_error(y_train, pred)\n",
        "RMSE=sqrt(MSE)\n",
        "print('r2 after CV',R2)\n",
        "print ('MSE AFTER CV:', MSE)\n",
        "print('RMSE AFTER CV:',RMSE)"
      ]
    },
    {
      "cell_type": "code",
      "execution_count": null,
      "metadata": {
        "colab": {
          "base_uri": "https://localhost:8080/"
        },
        "id": "7ZfMgf79Zux0",
        "outputId": "e4d1d03a-476b-412d-bd59-1d2c3102501c"
      },
      "outputs": [
        {
          "name": "stdout",
          "output_type": "stream",
          "text": [
            "0.12379092719939067\n"
          ]
        }
      ],
      "source": [
        "cv=LeaveOneOut()\n",
        "y_pred = cross_val_predict(reg, X_train, y_train, cv=cv)\n",
        "r2_loocv= r2_score(y_pred,y_train)\n",
        "print(r2_loocv)"
      ]
    },
    {
      "cell_type": "markdown",
      "metadata": {
        "id": "YJ8gPEAPZwAO"
      },
      "source": [
        "LEAVE OUT ONE CROSS VALIDATION TEST SET"
      ]
    },
    {
      "cell_type": "code",
      "execution_count": null,
      "metadata": {
        "colab": {
          "base_uri": "https://localhost:8080/"
        },
        "id": "UTO_TLLfyZ9P",
        "outputId": "a5939538-5321-4497-d51d-cf5c4e824390"
      },
      "outputs": [
        {
          "name": "stdout",
          "output_type": "stream",
          "text": [
            "the root mean squared erro 0.16576577108080487\n",
            "the mean squared error 0.027478290862013803\n"
          ]
        }
      ],
      "source": [
        "cv=LeaveOneOut()\n",
        "\n",
        "scores = cross_val_score(reg,X_test, y_test, scoring='neg_mean_squared_error',\n",
        "                         cv=cv)\n",
        "RMSE=sqrt(mean(absolute(scores)))\n",
        "MSE=(absolute(mean(scores)))\n",
        "print('the root mean squared erro',RMSE)\n",
        "print('the mean squared error',MSE)"
      ]
    },
    {
      "cell_type": "code",
      "execution_count": null,
      "metadata": {
        "colab": {
          "base_uri": "https://localhost:8080/"
        },
        "id": "Ad0-pLAvbFEB",
        "outputId": "f0d5b9a1-6041-405c-a722-73f1eb3bc38c"
      },
      "outputs": [
        {
          "name": "stdout",
          "output_type": "stream",
          "text": [
            "r2 after CV -0.03576203136066769\n",
            "MSE AFTER CV: 0.027478290862013803\n",
            "RMSE AFTER CV: 0.16576577108080487\n"
          ]
        }
      ],
      "source": [
        "cv=LeaveOneOut()\n",
        "pred = cross_val_predict(reg, X_test, y_test, cv=cv)\n",
        "\n",
        "R2 = metrics.r2_score(y_test, pred)\n",
        "MSE=metrics.mean_squared_error(y_test, pred)\n",
        "RMSE=sqrt(MSE)\n",
        "print('r2 after CV',R2)\n",
        "print ('MSE AFTER CV:', MSE)\n",
        "print('RMSE AFTER CV:',RMSE)"
      ]
    },
    {
      "cell_type": "code",
      "execution_count": null,
      "metadata": {
        "colab": {
          "base_uri": "https://localhost:8080/"
        },
        "id": "Kehpesb0cWDy",
        "outputId": "d9f089dc-f385-4c55-e00d-2fbbbbdb80e7"
      },
      "outputs": [
        {
          "name": "stdout",
          "output_type": "stream",
          "text": [
            "0.12379092719939067\n"
          ]
        }
      ],
      "source": [
        "cv=LeaveOneOut()\n",
        "y_pred = cross_val_predict(reg, X_train, y_train, cv=cv)\n",
        "r2_loocv= r2_score(y_pred,y_train)\n",
        "print(r2_loocv)"
      ]
    },
    {
      "cell_type": "markdown",
      "metadata": {
        "id": "uec0zH6paCjq"
      },
      "source": [
        "GRID SEARCH CROSS VALIDATION WITH RFE MODEL WITH ALL THREE FEATRURE TO SEE TRAIN AND TEST SCORE FOR CV"
      ]
    },
    {
      "cell_type": "code",
      "execution_count": null,
      "metadata": {
        "id": "DYMY8poaF8wh"
      },
      "outputs": [],
      "source": [
        "#performing hyperperemeter tuning with grid sreach cross validation\n",
        "#o=(len(X_train.columns))\n",
        "folds = KFold(n_splits = 10, shuffle = True, random_state = 0)\n",
        "hyper_params = [{'n_features_to_select': list(range(3,4))}]\n",
        "# step-3: perform grid search\n",
        "model_G =model_CV\n",
        "lm = model_CV\n",
        "lm.fit(X_train, y_train)\n",
        "rfe = RFE(lm) \n",
        "model_cv = GridSearchCV(estimator = rfe, \n",
        "                        param_grid= hyper_params,\n",
        "                        scoring= 'r2', \n",
        "                        cv = folds, \n",
        "                        verbose = 1,\n",
        "                        return_train_score=True)      \n",
        "model_cv.fit(X_train, y_train) "
      ]
    },
    {
      "cell_type": "code",
      "execution_count": null,
      "metadata": {
        "id": "RNe2du66He0V"
      },
      "outputs": [],
      "source": [
        "cv_results = pd.DataFrame(model_cv.cv_results_)\n",
        "cv_results"
      ]
    },
    {
      "cell_type": "markdown",
      "metadata": {
        "id": "jzd2jZrraY6k"
      },
      "source": [
        "GRID SERACH CV FOR SELECTING BEST OPTIMIZER AND ACTIVATION FUNCTION"
      ]
    },
    {
      "cell_type": "code",
      "execution_count": null,
      "metadata": {
        "id": "J1b1m7P26cyF"
      },
      "outputs": [],
      "source": [
        "cv=KFold(n_splits=5,shuffle=True,random_state=9)"
      ]
    },
    {
      "cell_type": "code",
      "execution_count": null,
      "metadata": {
        "colab": {
          "base_uri": "https://localhost:8080/"
        },
        "id": "9oP5tJTyC3-S",
        "outputId": "97b1f184-7acd-4eef-bc39-140f1d62f0b8"
      },
      "outputs": [
        {
          "name": "stdout",
          "output_type": "stream",
          "text": [
            "Best Score: 0.16089290052788677\n",
            "Best Hyperparameters: {'solver': 'sgd'}\n"
          ]
        }
      ],
      "source": [
        "#performing Gridsearch for TESTING DIFFERENT OPTIMIZER\n",
        "# define the grid search parameters\n",
        "model=reg\n",
        "param = {\n",
        "    'solver':['adam','sgd','ibfgs']}\n",
        "search = GridSearchCV(model, param, scoring='r2', n_jobs=-1, cv=cv)\n",
        "# execute search\n",
        "result = search.fit(X_train, y_train)\n",
        "print('Best Score: %s' % result.best_score_)\n",
        "print('Best Hyperparameters: %s' % result.best_params_)"
      ]
    },
    {
      "cell_type": "code",
      "execution_count": null,
      "metadata": {
        "colab": {
          "base_uri": "https://localhost:8080/"
        },
        "id": "7LFOfVkWTaRM",
        "outputId": "e6221e02-243a-4c14-a100-a151f9b148a0"
      },
      "outputs": [
        {
          "name": "stdout",
          "output_type": "stream",
          "text": [
            "Best Score: 0.004222466071692965\n",
            "Best Hyperparameters: {'activation': 'identity'}\n"
          ]
        }
      ],
      "source": [
        "#Grid search for the best activation function\n",
        "model=reg\n",
        "param = {\n",
        "    'activation':['relu','tahn','identity','softmax','logistics']}\n",
        "search = GridSearchCV(model, param, scoring='r2', n_jobs=-1, cv=cv)\n",
        "# execute search\n",
        "result = search.fit(X_train, y_train)\n",
        "print('Best Score: %s' % result.best_score_)\n",
        "print('Best Hyperparameters: %s' % result.best_params_)"
      ]
    },
    {
      "cell_type": "markdown",
      "metadata": {
        "id": "BQqeYJViHr-U"
      },
      "source": [
        "FINAL MODEL\n"
      ]
    },
    {
      "cell_type": "code",
      "execution_count": 24,
      "metadata": {
        "colab": {
          "base_uri": "https://localhost:8080/"
        },
        "id": "KZrJDDECxCDY",
        "outputId": "58ebbaf0-46e1-4b1f-9fe9-962694cf46e4"
      },
      "outputs": [
        {
          "output_type": "stream",
          "name": "stdout",
          "text": [
            "0.45403460432935516\n",
            "0.03853620267650807\n",
            "0.19630639998866076\n"
          ]
        },
        {
          "output_type": "execute_result",
          "data": {
            "text/plain": [
              "115"
            ]
          },
          "metadata": {},
          "execution_count": 24
        }
      ],
      "source": [
        "pred = reg.predict(ex_x)\n",
        "r2 =r2_score(ex_y, pred)\n",
        "MSE=mean_squared_error(ex_y, pred )\n",
        "print(r2)\n",
        "print(MSE)\n",
        "RMSE=sqrt(MSE)\n",
        "print(RMSE)\n",
        "len(pred)"
      ]
    },
    {
      "cell_type": "code",
      "execution_count": 25,
      "metadata": {
        "colab": {
          "base_uri": "https://localhost:8080/"
        },
        "id": "kE8mhRZetCM0",
        "outputId": "f2e97ba2-12b7-4f87-cd5c-695b295cb4fb"
      },
      "outputs": [
        {
          "output_type": "stream",
          "name": "stdout",
          "text": [
            "(14, 1)\n"
          ]
        }
      ],
      "source": [
        "print(y_test.shape)"
      ]
    },
    {
      "cell_type": "markdown",
      "metadata": {
        "id": "psjYs8HQgDuW"
      },
      "source": [
        "CORRELATION METRICS FOR TEST AND PREDICTED OUTCOME"
      ]
    },
    {
      "cell_type": "code",
      "execution_count": 26,
      "metadata": {
        "colab": {
          "base_uri": "https://localhost:8080/",
          "height": 432
        },
        "id": "Kxe5l65fgFjh",
        "outputId": "e13c6300-e647-40e5-dcb6-822e2169e892"
      },
      "outputs": [
        {
          "output_type": "error",
          "ename": "ValueError",
          "evalue": "ignored",
          "traceback": [
            "\u001b[0;31m---------------------------------------------------------------------------\u001b[0m",
            "\u001b[0;31mValueError\u001b[0m                                Traceback (most recent call last)",
            "\u001b[0;32m<ipython-input-26-be1020e04f5c>\u001b[0m in \u001b[0;36m<module>\u001b[0;34m\u001b[0m\n\u001b[0;32m----> 1\u001b[0;31m \u001b[0mcorr_1\u001b[0m\u001b[0;34m=\u001b[0m\u001b[0mnp\u001b[0m\u001b[0;34m.\u001b[0m\u001b[0mcorrcoef\u001b[0m\u001b[0;34m(\u001b[0m\u001b[0my_test\u001b[0m\u001b[0;34m,\u001b[0m \u001b[0my_pred\u001b[0m\u001b[0;34m)\u001b[0m\u001b[0;34m\u001b[0m\u001b[0;34m\u001b[0m\u001b[0m\n\u001b[0m\u001b[1;32m      2\u001b[0m \u001b[0mcorr_1\u001b[0m\u001b[0;34m\u001b[0m\u001b[0;34m\u001b[0m\u001b[0m\n",
            "\u001b[0;32m<__array_function__ internals>\u001b[0m in \u001b[0;36mcorrcoef\u001b[0;34m(*args, **kwargs)\u001b[0m\n",
            "\u001b[0;32m/usr/local/lib/python3.8/dist-packages/numpy/lib/function_base.py\u001b[0m in \u001b[0;36mcorrcoef\u001b[0;34m(x, y, rowvar, bias, ddof, dtype)\u001b[0m\n\u001b[1;32m   2681\u001b[0m         warnings.warn('bias and ddof have no effect and are deprecated',\n\u001b[1;32m   2682\u001b[0m                       DeprecationWarning, stacklevel=3)\n\u001b[0;32m-> 2683\u001b[0;31m     \u001b[0mc\u001b[0m \u001b[0;34m=\u001b[0m \u001b[0mcov\u001b[0m\u001b[0;34m(\u001b[0m\u001b[0mx\u001b[0m\u001b[0;34m,\u001b[0m \u001b[0my\u001b[0m\u001b[0;34m,\u001b[0m \u001b[0mrowvar\u001b[0m\u001b[0;34m,\u001b[0m \u001b[0mdtype\u001b[0m\u001b[0;34m=\u001b[0m\u001b[0mdtype\u001b[0m\u001b[0;34m)\u001b[0m\u001b[0;34m\u001b[0m\u001b[0;34m\u001b[0m\u001b[0m\n\u001b[0m\u001b[1;32m   2684\u001b[0m     \u001b[0;32mtry\u001b[0m\u001b[0;34m:\u001b[0m\u001b[0;34m\u001b[0m\u001b[0;34m\u001b[0m\u001b[0m\n\u001b[1;32m   2685\u001b[0m         \u001b[0md\u001b[0m \u001b[0;34m=\u001b[0m \u001b[0mdiag\u001b[0m\u001b[0;34m(\u001b[0m\u001b[0mc\u001b[0m\u001b[0;34m)\u001b[0m\u001b[0;34m\u001b[0m\u001b[0;34m\u001b[0m\u001b[0m\n",
            "\u001b[0;32m<__array_function__ internals>\u001b[0m in \u001b[0;36mcov\u001b[0;34m(*args, **kwargs)\u001b[0m\n",
            "\u001b[0;32m/usr/local/lib/python3.8/dist-packages/numpy/lib/function_base.py\u001b[0m in \u001b[0;36mcov\u001b[0;34m(m, y, rowvar, bias, ddof, fweights, aweights, dtype)\u001b[0m\n\u001b[1;32m   2475\u001b[0m         \u001b[0;32mif\u001b[0m \u001b[0;32mnot\u001b[0m \u001b[0mrowvar\u001b[0m \u001b[0;32mand\u001b[0m \u001b[0my\u001b[0m\u001b[0;34m.\u001b[0m\u001b[0mshape\u001b[0m\u001b[0;34m[\u001b[0m\u001b[0;36m0\u001b[0m\u001b[0;34m]\u001b[0m \u001b[0;34m!=\u001b[0m \u001b[0;36m1\u001b[0m\u001b[0;34m:\u001b[0m\u001b[0;34m\u001b[0m\u001b[0;34m\u001b[0m\u001b[0m\n\u001b[1;32m   2476\u001b[0m             \u001b[0my\u001b[0m \u001b[0;34m=\u001b[0m \u001b[0my\u001b[0m\u001b[0;34m.\u001b[0m\u001b[0mT\u001b[0m\u001b[0;34m\u001b[0m\u001b[0;34m\u001b[0m\u001b[0m\n\u001b[0;32m-> 2477\u001b[0;31m         \u001b[0mX\u001b[0m \u001b[0;34m=\u001b[0m \u001b[0mnp\u001b[0m\u001b[0;34m.\u001b[0m\u001b[0mconcatenate\u001b[0m\u001b[0;34m(\u001b[0m\u001b[0;34m(\u001b[0m\u001b[0mX\u001b[0m\u001b[0;34m,\u001b[0m \u001b[0my\u001b[0m\u001b[0;34m)\u001b[0m\u001b[0;34m,\u001b[0m \u001b[0maxis\u001b[0m\u001b[0;34m=\u001b[0m\u001b[0;36m0\u001b[0m\u001b[0;34m)\u001b[0m\u001b[0;34m\u001b[0m\u001b[0;34m\u001b[0m\u001b[0m\n\u001b[0m\u001b[1;32m   2478\u001b[0m \u001b[0;34m\u001b[0m\u001b[0m\n\u001b[1;32m   2479\u001b[0m     \u001b[0;32mif\u001b[0m \u001b[0mddof\u001b[0m \u001b[0;32mis\u001b[0m \u001b[0;32mNone\u001b[0m\u001b[0;34m:\u001b[0m\u001b[0;34m\u001b[0m\u001b[0;34m\u001b[0m\u001b[0m\n",
            "\u001b[0;32m<__array_function__ internals>\u001b[0m in \u001b[0;36mconcatenate\u001b[0;34m(*args, **kwargs)\u001b[0m\n",
            "\u001b[0;31mValueError\u001b[0m: all the input array dimensions for the concatenation axis must match exactly, but along dimension 1, the array at index 0 has size 1 and the array at index 1 has size 14"
          ]
        }
      ],
      "source": [
        "corr_1=np.corrcoef(y_test, y_pred)\n",
        "corr_1"
      ]
    },
    {
      "cell_type": "code",
      "execution_count": null,
      "metadata": {
        "colab": {
          "base_uri": "https://localhost:8080/"
        },
        "id": "UaH6MxAMiK2c",
        "outputId": "6cfe071e-49d2-4443-ea54-994bc33a5087"
      },
      "outputs": [
        {
          "data": {
            "text/plain": [
              "array([[0.02857027, 0.02300217],\n",
              "       [0.02300217, 0.02514183]])"
            ]
          },
          "execution_count": 48,
          "metadata": {},
          "output_type": "execute_result"
        }
      ],
      "source": [
        "#COVARIANCE FOR TEST and PREDICTED OUTCOME\n",
        "Cov=np.cov(y_test, y_pred)\n",
        "Cov"
      ]
    },
    {
      "cell_type": "markdown",
      "metadata": {
        "id": "05Y1J6Ujikre"
      },
      "source": [
        "PREDICTING WITH THE EXTERNAL DATASET"
      ]
    },
    {
      "cell_type": "code",
      "execution_count": null,
      "metadata": {
        "colab": {
          "base_uri": "https://localhost:8080/"
        },
        "id": "ezsKWbaMyCDy",
        "outputId": "3843b88b-815b-45a6-f98d-3d53a06c2a00"
      },
      "outputs": [
        {
          "data": {
            "text/plain": [
              "127"
            ]
          },
          "execution_count": 103,
          "metadata": {},
          "output_type": "execute_result"
        }
      ],
      "source": []
    },
    {
      "cell_type": "code",
      "execution_count": null,
      "metadata": {
        "colab": {
          "base_uri": "https://localhost:8080/",
          "height": 378
        },
        "id": "aVxqD-SDi3up",
        "outputId": "2dd6eeb3-be51-4985-fb4b-c71b145c1f9a"
      },
      "outputs": [
        {
          "data": {
            "text/plain": [
              "Text(0, 0.5, 'predictions')"
            ]
          },
          "execution_count": 62,
          "metadata": {},
          "output_type": "execute_result"
        },
        {
          "data": {
            "image/png": "[encoded data removed]",
            "text/plain": [
              "<Figure size 576x396 with 1 Axes>"
            ]
          },
          "metadata": {},
          "output_type": "display_data"
        }
      ],
      "source": [
        "plt.scatter(ex_y, pred)\n",
        "plt.xlabel('true values')\n",
        "plt.ylabel('predictions')"
      ]
    },
    {
      "cell_type": "markdown",
      "metadata": {
        "id": "I9Myo0IcjAth"
      },
      "source": [
        "CORRELATION METRICS for EXTERNAL DATA SET"
      ]
    },
    {
      "cell_type": "code",
      "execution_count": null,
      "metadata": {
        "colab": {
          "base_uri": "https://localhost:8080/"
        },
        "id": "nk5cqrq7jMj7",
        "outputId": "2bf2cb09-1d66-4c2a-fd15-40edf9f5dda7"
      },
      "outputs": [
        {
          "name": "stdout",
          "output_type": "stream",
          "text": [
            "(115, 3)\n",
            "(115, 1)\n"
          ]
        }
      ],
      "source": [
        "print(ex_x.shape)\n",
        "print(ex_y.shape)"
      ]
    },
    {
      "cell_type": "code",
      "execution_count": null,
      "metadata": {
        "id": "ytfBAkJujnZF"
      },
      "outputs": [],
      "source": [
        "ex_y.shape=(115,)#cHANGE SHAPE AND DIMENSION"
      ]
    },
    {
      "cell_type": "code",
      "execution_count": null,
      "metadata": {
        "colab": {
          "base_uri": "https://localhost:8080/"
        },
        "id": "0t4fMaw0jTe1",
        "outputId": "29535047-aafb-40f9-d97c-9812cf15fa55"
      },
      "outputs": [
        {
          "data": {
            "text/plain": [
              "array([[0.07120275, 0.0366926 ],\n",
              "       [0.0366926 , 0.04057187]])"
            ]
          },
          "execution_count": 66,
          "metadata": {},
          "output_type": "execute_result"
        }
      ],
      "source": [
        "#COVARIANCE DATASET\n",
        "Cov=np.cov(ex_y, pred )\n",
        "Cov"
      ]
    },
    {
      "cell_type": "code",
      "execution_count": null,
      "metadata": {
        "colab": {
          "base_uri": "https://localhost:8080/"
        },
        "id": "mZ5N19GujvNp",
        "outputId": "9e151bad-e0d8-45d7-8bd0-e93c411293cb"
      },
      "outputs": [
        {
          "data": {
            "text/plain": [
              "array([[1.        , 0.68268069],\n",
              "       [0.68268069, 1.        ]])"
            ]
          },
          "execution_count": 67,
          "metadata": {},
          "output_type": "execute_result"
        }
      ],
      "source": [
        "#PEARSON CORRELATION  FOR EXTERNAL DATASET\n",
        "corr_1=np.corrcoef(ex_y, pred )\n",
        "corr_1"
      ]
    },
    {
      "cell_type": "code",
      "execution_count": null,
      "metadata": {
        "id": "ZeY8-vW5wqp9"
      },
      "outputs": [],
      "source": [
        "def inverse_transform(y_pred, min_max_values):\n",
        "  min_value = min_max_values[0]\n",
        "  max_value = min_max_values[1]\n",
        "  return (y_pred * (max_value - min_value)) + min_value"
      ]
    },
    {
      "cell_type": "code",
      "execution_count": null,
      "metadata": {
        "id": "6NmXbr0Sw1HU"
      },
      "outputs": [],
      "source": [
        "#fUNCTION TO rescale Predicted EC3 values to original value\n",
        "y_pred=pred\n",
        "min_max_values=(0,1)\n",
        "inverse_transformed_value = inverse_transform(y_pred, min_max_values)\n",
        "inverse_pred=inverse_transformed_value"
      ]
    },
    {
      "cell_type": "code",
      "execution_count": null,
      "metadata": {
        "id": "AepZfdtexyoI"
      },
      "outputs": [],
      "source": [
        "#fUNCTION TO rescale orginal prediction EC3 values to original value\n",
        "y_pred=ex_y\n",
        "min_max_values=(0,1)\n",
        "inverse_extransformed_value = inverse_transform(y_pred, min_max_values)\n",
        "inverse_expred=inverse_extransformed_value"
      ]
    },
    {
      "cell_type": "code",
      "execution_count": null,
      "metadata": {
        "id": "RpkP_UmlxYLM"
      },
      "outputs": [],
      "source": [
        "#Convert to dataframe\n",
        "iv=pd.DataFrame(inverse_pred)\n",
        "ip=pd.DataFrame(inverse_expred)"
      ]
    },
    {
      "cell_type": "code",
      "execution_count": null,
      "metadata": {
        "colab": {
          "base_uri": "https://localhost:8080/",
          "height": 455
        },
        "id": "n8WrJndOyBSo",
        "outputId": "26a35f40-c49d-4729-81eb-7ace69343b61"
      },
      "outputs": [
        {
          "data": {
            "text/html": [
              "\n",
              "  <div id=\"df-d8e2b8ad-9c95-4138-9a68-7c627234a7f5\">\n",
              "    <div class=\"colab-df-container\">\n",
              "      <div>\n",
              "<style scoped>\n",
              "    .dataframe tbody tr th:only-of-type {\n",
              "        vertical-align: middle;\n",
              "    }\n",
              "\n",
              "    .dataframe tbody tr th {\n",
              "        vertical-align: top;\n",
              "    }\n",
              "\n",
              "    .dataframe thead th {\n",
              "        text-align: right;\n",
              "    }\n",
              "</style>\n",
              "<table border=\"1\" class=\"dataframe\">\n",
              "  <thead>\n",
              "    <tr style=\"text-align: right;\">\n",
              "      <th></th>\n",
              "      <th>log_DPRA_mean</th>\n",
              "      <th>log_hCLAT_MIT</th>\n",
              "      <th>log_KS.Ima</th>\n",
              "      <th>ANNmodel1_Set</th>\n",
              "      <th>test_pred</th>\n",
              "      <th>Original_pred</th>\n",
              "    </tr>\n",
              "    <tr>\n",
              "      <th>CASRN</th>\n",
              "      <th></th>\n",
              "      <th></th>\n",
              "      <th></th>\n",
              "      <th></th>\n",
              "      <th></th>\n",
              "      <th></th>\n",
              "    </tr>\n",
              "  </thead>\n",
              "  <tbody>\n",
              "    <tr>\n",
              "      <th>35691-65-7</th>\n",
              "      <td>1.808211</td>\n",
              "      <td>0.995635</td>\n",
              "      <td>0.605305</td>\n",
              "      <td>Test</td>\n",
              "      <td>0.338620</td>\n",
              "      <td>0.397942</td>\n",
              "    </tr>\n",
              "    <tr>\n",
              "      <th>149-30-4</th>\n",
              "      <td>1.687975</td>\n",
              "      <td>2.227887</td>\n",
              "      <td>0.945961</td>\n",
              "      <td>Test</td>\n",
              "      <td>0.633464</td>\n",
              "      <td>0.533533</td>\n",
              "    </tr>\n",
              "    <tr>\n",
              "      <th>104-55-2</th>\n",
              "      <td>1.755494</td>\n",
              "      <td>1.447158</td>\n",
              "      <td>1.210586</td>\n",
              "      <td>Test</td>\n",
              "      <td>0.434545</td>\n",
              "      <td>0.429271</td>\n",
              "    </tr>\n",
              "    <tr>\n",
              "      <th>137-26-8</th>\n",
              "      <td>1.725912</td>\n",
              "      <td>1.000000</td>\n",
              "      <td>0.829304</td>\n",
              "      <td>Test</td>\n",
              "      <td>0.338022</td>\n",
              "      <td>0.548805</td>\n",
              "    </tr>\n",
              "    <tr>\n",
              "      <th>69-72-7</th>\n",
              "      <td>1.089905</td>\n",
              "      <td>3.000000</td>\n",
              "      <td>0.053078</td>\n",
              "      <td>Test</td>\n",
              "      <td>0.873800</td>\n",
              "      <td>0.731119</td>\n",
              "    </tr>\n",
              "    <tr>\n",
              "      <th>...</th>\n",
              "      <td>...</td>\n",
              "      <td>...</td>\n",
              "      <td>...</td>\n",
              "      <td>...</td>\n",
              "      <td>...</td>\n",
              "      <td>...</td>\n",
              "    </tr>\n",
              "    <tr>\n",
              "      <th>101-39-3</th>\n",
              "      <td>1.292256</td>\n",
              "      <td>2.143015</td>\n",
              "      <td>2.142483</td>\n",
              "      <td>Test</td>\n",
              "      <td>0.601899</td>\n",
              "      <td>0.603646</td>\n",
              "    </tr>\n",
              "    <tr>\n",
              "      <th>111-80-8</th>\n",
              "      <td>1.712650</td>\n",
              "      <td>2.282622</td>\n",
              "      <td>1.519303</td>\n",
              "      <td>Test</td>\n",
              "      <td>0.630442</td>\n",
              "      <td>0.528520</td>\n",
              "    </tr>\n",
              "    <tr>\n",
              "      <th>93-51-6</th>\n",
              "      <td>0.759668</td>\n",
              "      <td>2.447158</td>\n",
              "      <td>0.008600</td>\n",
              "      <td>Test</td>\n",
              "      <td>0.758299</td>\n",
              "      <td>0.631597</td>\n",
              "    </tr>\n",
              "    <tr>\n",
              "      <th>122-78-1</th>\n",
              "      <td>1.619771</td>\n",
              "      <td>1.431364</td>\n",
              "      <td>1.052694</td>\n",
              "      <td>Test</td>\n",
              "      <td>0.441784</td>\n",
              "      <td>0.609204</td>\n",
              "    </tr>\n",
              "    <tr>\n",
              "      <th>17369-59-4</th>\n",
              "      <td>1.351216</td>\n",
              "      <td>2.053078</td>\n",
              "      <td>0.041393</td>\n",
              "      <td>Test</td>\n",
              "      <td>0.632071</td>\n",
              "      <td>0.567820</td>\n",
              "    </tr>\n",
              "  </tbody>\n",
              "</table>\n",
              "<p>115 rows × 6 columns</p>\n",
              "</div>\n",
              "      <button class=\"colab-df-convert\" onclick=\"convertToInteractive('df-d8e2b8ad-9c95-4138-9a68-7c627234a7f5')\"\n",
              "              title=\"Convert this dataframe to an interactive table.\"\n",
              "              style=\"display:none;\">\n",
              "        \n",
              "  <svg xmlns=\"http://www.w3.org/2000/svg\" height=\"24px\"viewBox=\"0 0 24 24\"\n",
              "       width=\"24px\">\n",
              "    <path d=\"M0 0h24v24H0V0z\" fill=\"none\"/>\n",
              "    <path d=\"M18.56 5.44l.94 2.06.94-2.06 2.06-.94-2.06-.94-.94-2.06-.94 2.06-2.06.94zm-11 1L8.5 8.5l.94-2.06 2.06-.94-2.06-.94L8.5 2.5l-.94 2.06-2.06.94zm10 10l.94 2.06.94-2.06 2.06-.94-2.06-.94-.94-2.06-.94 2.06-2.06.94z\"/><path d=\"M17.41 7.96l-1.37-1.37c-.4-.4-.92-.59-1.43-.59-.52 0-1.04.2-1.43.59L10.3 9.45l-7.72 7.72c-.78.78-.78 2.05 0 2.83L4 21.41c.39.39.9.59 1.41.59.51 0 1.02-.2 1.41-.59l7.78-7.78 2.81-2.81c.8-.78.8-2.07 0-2.86zM5.41 20L4 18.59l7.72-7.72 1.47 1.35L5.41 20z\"/>\n",
              "  </svg>\n",
              "      </button>\n",
              "      \n",
              "  <style>\n",
              "    .colab-df-container {\n",
              "      display:flex;\n",
              "      flex-wrap:wrap;\n",
              "      gap: 12px;\n",
              "    }\n",
              "\n",
              "    .colab-df-convert {\n",
              "      background-color: #E8F0FE;\n",
              "      border: none;\n",
              "      border-radius: 50%;\n",
              "      cursor: pointer;\n",
              "      display: none;\n",
              "      fill: #1967D2;\n",
              "      height: 32px;\n",
              "      padding: 0 0 0 0;\n",
              "      width: 32px;\n",
              "    }\n",
              "\n",
              "    .colab-df-convert:hover {\n",
              "      background-color: #E2EBFA;\n",
              "      box-shadow: 0px 1px 2px rgba(60, 64, 67, 0.3), 0px 1px 3px 1px rgba(60, 64, 67, 0.15);\n",
              "      fill: #174EA6;\n",
              "    }\n",
              "\n",
              "    [theme=dark] .colab-df-convert {\n",
              "      background-color: #3B4455;\n",
              "      fill: #D2E3FC;\n",
              "    }\n",
              "\n",
              "    [theme=dark] .colab-df-convert:hover {\n",
              "      background-color: #434B5C;\n",
              "      box-shadow: 0px 1px 3px 1px rgba(0, 0, 0, 0.15);\n",
              "      filter: drop-shadow(0px 1px 2px rgba(0, 0, 0, 0.3));\n",
              "      fill: #FFFFFF;\n",
              "    }\n",
              "  </style>\n",
              "\n",
              "      <script>\n",
              "        const buttonEl =\n",
              "          document.querySelector('#df-d8e2b8ad-9c95-4138-9a68-7c627234a7f5 button.colab-df-convert');\n",
              "        buttonEl.style.display =\n",
              "          google.colab.kernel.accessAllowed ? 'block' : 'none';\n",
              "\n",
              "        async function convertToInteractive(key) {\n",
              "          const element = document.querySelector('#df-d8e2b8ad-9c95-4138-9a68-7c627234a7f5');\n",
              "          const dataTable =\n",
              "            await google.colab.kernel.invokeFunction('convertToInteractive',\n",
              "                                                     [key], {});\n",
              "          if (!dataTable) return;\n",
              "\n",
              "          const docLinkHtml = 'Like what you see? Visit the ' +\n",
              "            '<a target=\"_blank\" href=https://colab.research.google.com/notebooks/data_table.ipynb>data table notebook</a>'\n",
              "            + ' to learn more about interactive tables.';\n",
              "          element.innerHTML = '';\n",
              "          dataTable['output_type'] = 'display_data';\n",
              "          await google.colab.output.renderOutput(dataTable, element);\n",
              "          const docLink = document.createElement('div');\n",
              "          docLink.innerHTML = docLinkHtml;\n",
              "          element.appendChild(docLink);\n",
              "        }\n",
              "      </script>\n",
              "    </div>\n",
              "  </div>\n",
              "  "
            ],
            "text/plain": [
              "            log_DPRA_mean  log_hCLAT_MIT  log_KS.Ima ANNmodel1_Set  test_pred  \\\n",
              "CASRN                                                                           \n",
              "35691-65-7       1.808211       0.995635    0.605305          Test   0.338620   \n",
              "149-30-4         1.687975       2.227887    0.945961          Test   0.633464   \n",
              "104-55-2         1.755494       1.447158    1.210586          Test   0.434545   \n",
              "137-26-8         1.725912       1.000000    0.829304          Test   0.338022   \n",
              "69-72-7          1.089905       3.000000    0.053078          Test   0.873800   \n",
              "...                   ...            ...         ...           ...        ...   \n",
              "101-39-3         1.292256       2.143015    2.142483          Test   0.601899   \n",
              "111-80-8         1.712650       2.282622    1.519303          Test   0.630442   \n",
              "93-51-6          0.759668       2.447158    0.008600          Test   0.758299   \n",
              "122-78-1         1.619771       1.431364    1.052694          Test   0.441784   \n",
              "17369-59-4       1.351216       2.053078    0.041393          Test   0.632071   \n",
              "\n",
              "            Original_pred  \n",
              "CASRN                      \n",
              "35691-65-7       0.397942  \n",
              "149-30-4         0.533533  \n",
              "104-55-2         0.429271  \n",
              "137-26-8         0.548805  \n",
              "69-72-7          0.731119  \n",
              "...                   ...  \n",
              "101-39-3         0.603646  \n",
              "111-80-8         0.528520  \n",
              "93-51-6          0.631597  \n",
              "122-78-1         0.609204  \n",
              "17369-59-4       0.567820  \n",
              "\n",
              "[115 rows x 6 columns]"
            ]
          },
          "execution_count": 72,
          "metadata": {},
          "output_type": "execute_result"
        }
      ],
      "source": [
        "ANN_MODEL1=CosEu1[['log_DPRA_mean','log_hCLAT_MIT','log_KS.Ima']]\n",
        "ANN_MODEL1['ANNmodel1_Set']=\"Test\"\n",
        "ANN_MODEL1=ANN_MODEL1.reset_index()\n",
        "ANN_MODEL1['test_pred']=iv\n",
        "ANN_MODEL1['Original_pred']=ip\n",
        "ANN_MODEL1=ANN_MODEL1.set_index('CASRN')\n",
        "ANN_MODEL1"
      ]
    },
    {
      "cell_type": "code",
      "execution_count": null,
      "metadata": {
        "colab": {
          "base_uri": "https://localhost:8080/",
          "height": 455
        },
        "id": "WxqJ_OegymXF",
        "outputId": "e7a4f099-1419-4db5-ca69-4a939ed9c1db"
      },
      "outputs": [
        {
          "data": {
            "text/html": [
              "\n",
              "  <div id=\"df-7c9dbbd7-f46a-4fbe-b56b-9d7e0cab3e8d\">\n",
              "    <div class=\"colab-df-container\">\n",
              "      <div>\n",
              "<style scoped>\n",
              "    .dataframe tbody tr th:only-of-type {\n",
              "        vertical-align: middle;\n",
              "    }\n",
              "\n",
              "    .dataframe tbody tr th {\n",
              "        vertical-align: top;\n",
              "    }\n",
              "\n",
              "    .dataframe thead th {\n",
              "        text-align: right;\n",
              "    }\n",
              "</style>\n",
              "<table border=\"1\" class=\"dataframe\">\n",
              "  <thead>\n",
              "    <tr style=\"text-align: right;\">\n",
              "      <th></th>\n",
              "      <th>log_DPRA_mean</th>\n",
              "      <th>log_hCLAT_MIT</th>\n",
              "      <th>log_KS.Ima</th>\n",
              "      <th>ANNmodel1_Set</th>\n",
              "      <th>test_pred</th>\n",
              "      <th>Original_pred</th>\n",
              "      <th>Res</th>\n",
              "    </tr>\n",
              "    <tr>\n",
              "      <th>CASRN</th>\n",
              "      <th></th>\n",
              "      <th></th>\n",
              "      <th></th>\n",
              "      <th></th>\n",
              "      <th></th>\n",
              "      <th></th>\n",
              "      <th></th>\n",
              "    </tr>\n",
              "  </thead>\n",
              "  <tbody>\n",
              "    <tr>\n",
              "      <th>35691-65-7</th>\n",
              "      <td>1.808211</td>\n",
              "      <td>0.995635</td>\n",
              "      <td>0.605305</td>\n",
              "      <td>Test</td>\n",
              "      <td>0.703335</td>\n",
              "      <td>0.547689</td>\n",
              "      <td>0.024226</td>\n",
              "    </tr>\n",
              "    <tr>\n",
              "      <th>149-30-4</th>\n",
              "      <td>1.687975</td>\n",
              "      <td>2.227887</td>\n",
              "      <td>0.945961</td>\n",
              "      <td>Test</td>\n",
              "      <td>0.604774</td>\n",
              "      <td>0.649555</td>\n",
              "      <td>0.002005</td>\n",
              "    </tr>\n",
              "    <tr>\n",
              "      <th>104-55-2</th>\n",
              "      <td>1.755494</td>\n",
              "      <td>1.447158</td>\n",
              "      <td>1.210586</td>\n",
              "      <td>Test</td>\n",
              "      <td>0.666074</td>\n",
              "      <td>0.571226</td>\n",
              "      <td>0.008996</td>\n",
              "    </tr>\n",
              "    <tr>\n",
              "      <th>137-26-8</th>\n",
              "      <td>1.725912</td>\n",
              "      <td>1.000000</td>\n",
              "      <td>0.829304</td>\n",
              "      <td>Test</td>\n",
              "      <td>0.689189</td>\n",
              "      <td>0.661029</td>\n",
              "      <td>0.000793</td>\n",
              "    </tr>\n",
              "    <tr>\n",
              "      <th>69-72-7</th>\n",
              "      <td>1.089905</td>\n",
              "      <td>3.000000</td>\n",
              "      <td>0.053078</td>\n",
              "      <td>Test</td>\n",
              "      <td>0.409879</td>\n",
              "      <td>0.797997</td>\n",
              "      <td>0.150635</td>\n",
              "    </tr>\n",
              "    <tr>\n",
              "      <th>...</th>\n",
              "      <td>...</td>\n",
              "      <td>...</td>\n",
              "      <td>...</td>\n",
              "      <td>...</td>\n",
              "      <td>...</td>\n",
              "      <td>...</td>\n",
              "      <td>...</td>\n",
              "    </tr>\n",
              "    <tr>\n",
              "      <th>101-39-3</th>\n",
              "      <td>1.292256</td>\n",
              "      <td>2.143015</td>\n",
              "      <td>2.142483</td>\n",
              "      <td>Test</td>\n",
              "      <td>0.518263</td>\n",
              "      <td>0.702229</td>\n",
              "      <td>0.033844</td>\n",
              "    </tr>\n",
              "    <tr>\n",
              "      <th>111-80-8</th>\n",
              "      <td>1.712650</td>\n",
              "      <td>2.282622</td>\n",
              "      <td>1.519303</td>\n",
              "      <td>Test</td>\n",
              "      <td>0.602529</td>\n",
              "      <td>0.645789</td>\n",
              "      <td>0.001871</td>\n",
              "    </tr>\n",
              "    <tr>\n",
              "      <th>93-51-6</th>\n",
              "      <td>0.759668</td>\n",
              "      <td>2.447158</td>\n",
              "      <td>0.008600</td>\n",
              "      <td>Test</td>\n",
              "      <td>0.372922</td>\n",
              "      <td>0.723228</td>\n",
              "      <td>0.122715</td>\n",
              "    </tr>\n",
              "    <tr>\n",
              "      <th>122-78-1</th>\n",
              "      <td>1.619771</td>\n",
              "      <td>1.431364</td>\n",
              "      <td>1.052694</td>\n",
              "      <td>Test</td>\n",
              "      <td>0.643947</td>\n",
              "      <td>0.706405</td>\n",
              "      <td>0.003901</td>\n",
              "    </tr>\n",
              "    <tr>\n",
              "      <th>17369-59-4</th>\n",
              "      <td>1.351216</td>\n",
              "      <td>2.053078</td>\n",
              "      <td>0.041393</td>\n",
              "      <td>Test</td>\n",
              "      <td>0.551328</td>\n",
              "      <td>0.675314</td>\n",
              "      <td>0.015373</td>\n",
              "    </tr>\n",
              "  </tbody>\n",
              "</table>\n",
              "<p>115 rows × 7 columns</p>\n",
              "</div>\n",
              "      <button class=\"colab-df-convert\" onclick=\"convertToInteractive('df-7c9dbbd7-f46a-4fbe-b56b-9d7e0cab3e8d')\"\n",
              "              title=\"Convert this dataframe to an interactive table.\"\n",
              "              style=\"display:none;\">\n",
              "        \n",
              "  <svg xmlns=\"http://www.w3.org/2000/svg\" height=\"24px\"viewBox=\"0 0 24 24\"\n",
              "       width=\"24px\">\n",
              "    <path d=\"M0 0h24v24H0V0z\" fill=\"none\"/>\n",
              "    <path d=\"M18.56 5.44l.94 2.06.94-2.06 2.06-.94-2.06-.94-.94-2.06-.94 2.06-2.06.94zm-11 1L8.5 8.5l.94-2.06 2.06-.94-2.06-.94L8.5 2.5l-.94 2.06-2.06.94zm10 10l.94 2.06.94-2.06 2.06-.94-2.06-.94-.94-2.06-.94 2.06-2.06.94z\"/><path d=\"M17.41 7.96l-1.37-1.37c-.4-.4-.92-.59-1.43-.59-.52 0-1.04.2-1.43.59L10.3 9.45l-7.72 7.72c-.78.78-.78 2.05 0 2.83L4 21.41c.39.39.9.59 1.41.59.51 0 1.02-.2 1.41-.59l7.78-7.78 2.81-2.81c.8-.78.8-2.07 0-2.86zM5.41 20L4 18.59l7.72-7.72 1.47 1.35L5.41 20z\"/>\n",
              "  </svg>\n",
              "      </button>\n",
              "      \n",
              "  <style>\n",
              "    .colab-df-container {\n",
              "      display:flex;\n",
              "      flex-wrap:wrap;\n",
              "      gap: 12px;\n",
              "    }\n",
              "\n",
              "    .colab-df-convert {\n",
              "      background-color: #E8F0FE;\n",
              "      border: none;\n",
              "      border-radius: 50%;\n",
              "      cursor: pointer;\n",
              "      display: none;\n",
              "      fill: #1967D2;\n",
              "      height: 32px;\n",
              "      padding: 0 0 0 0;\n",
              "      width: 32px;\n",
              "    }\n",
              "\n",
              "    .colab-df-convert:hover {\n",
              "      background-color: #E2EBFA;\n",
              "      box-shadow: 0px 1px 2px rgba(60, 64, 67, 0.3), 0px 1px 3px 1px rgba(60, 64, 67, 0.15);\n",
              "      fill: #174EA6;\n",
              "    }\n",
              "\n",
              "    [theme=dark] .colab-df-convert {\n",
              "      background-color: #3B4455;\n",
              "      fill: #D2E3FC;\n",
              "    }\n",
              "\n",
              "    [theme=dark] .colab-df-convert:hover {\n",
              "      background-color: #434B5C;\n",
              "      box-shadow: 0px 1px 3px 1px rgba(0, 0, 0, 0.15);\n",
              "      filter: drop-shadow(0px 1px 2px rgba(0, 0, 0, 0.3));\n",
              "      fill: #FFFFFF;\n",
              "    }\n",
              "  </style>\n",
              "\n",
              "      <script>\n",
              "        const buttonEl =\n",
              "          document.querySelector('#df-7c9dbbd7-f46a-4fbe-b56b-9d7e0cab3e8d button.colab-df-convert');\n",
              "        buttonEl.style.display =\n",
              "          google.colab.kernel.accessAllowed ? 'block' : 'none';\n",
              "\n",
              "        async function convertToInteractive(key) {\n",
              "          const element = document.querySelector('#df-7c9dbbd7-f46a-4fbe-b56b-9d7e0cab3e8d');\n",
              "          const dataTable =\n",
              "            await google.colab.kernel.invokeFunction('convertToInteractive',\n",
              "                                                     [key], {});\n",
              "          if (!dataTable) return;\n",
              "\n",
              "          const docLinkHtml = 'Like what you see? Visit the ' +\n",
              "            '<a target=\"_blank\" href=https://colab.research.google.com/notebooks/data_table.ipynb>data table notebook</a>'\n",
              "            + ' to learn more about interactive tables.';\n",
              "          element.innerHTML = '';\n",
              "          dataTable['output_type'] = 'display_data';\n",
              "          await google.colab.output.renderOutput(dataTable, element);\n",
              "          const docLink = document.createElement('div');\n",
              "          docLink.innerHTML = docLinkHtml;\n",
              "          element.appendChild(docLink);\n",
              "        }\n",
              "      </script>\n",
              "    </div>\n",
              "  </div>\n",
              "  "
            ],
            "text/plain": [
              "            log_DPRA_mean  log_hCLAT_MIT  log_KS.Ima ANNmodel1_Set  test_pred  \\\n",
              "CASRN                                                                           \n",
              "35691-65-7       1.808211       0.995635    0.605305          Test   0.703335   \n",
              "149-30-4         1.687975       2.227887    0.945961          Test   0.604774   \n",
              "104-55-2         1.755494       1.447158    1.210586          Test   0.666074   \n",
              "137-26-8         1.725912       1.000000    0.829304          Test   0.689189   \n",
              "69-72-7          1.089905       3.000000    0.053078          Test   0.409879   \n",
              "...                   ...            ...         ...           ...        ...   \n",
              "101-39-3         1.292256       2.143015    2.142483          Test   0.518263   \n",
              "111-80-8         1.712650       2.282622    1.519303          Test   0.602529   \n",
              "93-51-6          0.759668       2.447158    0.008600          Test   0.372922   \n",
              "122-78-1         1.619771       1.431364    1.052694          Test   0.643947   \n",
              "17369-59-4       1.351216       2.053078    0.041393          Test   0.551328   \n",
              "\n",
              "            Original_pred       Res  \n",
              "CASRN                                \n",
              "35691-65-7       0.547689  0.024226  \n",
              "149-30-4         0.649555  0.002005  \n",
              "104-55-2         0.571226  0.008996  \n",
              "137-26-8         0.661029  0.000793  \n",
              "69-72-7          0.797997  0.150635  \n",
              "...                   ...       ...  \n",
              "101-39-3         0.702229  0.033844  \n",
              "111-80-8         0.645789  0.001871  \n",
              "93-51-6          0.723228  0.122715  \n",
              "122-78-1         0.706405  0.003901  \n",
              "17369-59-4       0.675314  0.015373  \n",
              "\n",
              "[115 rows x 7 columns]"
            ]
          },
          "execution_count": 98,
          "metadata": {},
          "output_type": "execute_result"
        }
      ],
      "source": [
        "# Define a function that takes two DataFrame arguments and returns the sum of their values\n",
        "def my_calculation(df1, df2):\n",
        "    return (df1 - df2)**2\n",
        "\n",
        "ANN_MODEL1['Res'] = ANN_MODEL1.apply(lambda row: my_calculation(row['Original_pred'], row['test_pred']), axis=1)\n",
        "# Print the result\n",
        "ANN_MODEL1"
      ]
    },
    {
      "cell_type": "code",
      "execution_count": null,
      "metadata": {
        "colab": {
          "base_uri": "https://localhost:8080/"
        },
        "id": "bq5bkPV1yy6m",
        "outputId": "6cf39a55-e866-4766-ba0c-cbf26e912854"
      },
      "outputs": [
        {
          "data": {
            "text/plain": [
              "9"
            ]
          },
          "execution_count": 32,
          "metadata": {},
          "output_type": "execute_result"
        }
      ],
      "source": [
        "RES=ANN_MODEL1[ANN_MODEL1['Res'] > 0.5]\n",
        "len(RES)"
      ]
    },
    {
      "cell_type": "code",
      "execution_count": null,
      "metadata": {
        "id": "W8m0Jy6-y1xw"
      },
      "outputs": [],
      "source": [
        "#Add predictions to main merged dataset\n",
        "merge['Ewc_model_pred']=ANN_MODEL1['test_pred']\n",
        "merge['Ewc_model_pred']=merge['Ewc_model_pred'].replace(np.nan,'Neg')"
      ]
    },
    {
      "cell_type": "code",
      "execution_count": null,
      "metadata": {
        "id": "kl3oNXCgy7KA"
      },
      "outputs": [],
      "source": [
        "merge[\"EWC_Model1_Potency_Pred\"] =np.nan\n",
        "merge[\"EWC_Model1_Potency_Pred.3class\"] = np.nan\n",
        "merge['Ewc_model_pred'] = pd.to_numeric(merge['Ewc_model_pred'],errors='coerce')\n"
      ]
    },
    {
      "cell_type": "code",
      "execution_count": null,
      "metadata": {
        "id": "3BJTDkrfzapv"
      },
      "outputs": [],
      "source": [
        "# apply the conditions and labels\n",
        "merge.loc[merge['Ewc_model_pred'] < (-1), \"EWC_Model1_Potency_Pred\" ] = 'Extreme'\n",
        "merge.loc[(merge['Ewc_model_pred'] >= (-1)) & (merge['Ewc_model_pred'] < 0), \"EWC_Model1_Potency_Pred\"] = 'Strong'\n",
        "merge.loc[(merge['Ewc_model_pred'] >= 0) & (merge['Ewc_model_pred'] < 1), \"EWC_Model1_Potency_Pred\"] = 'Moderate'\n",
        "merge.loc[merge['Ewc_model_pred'] >= 1, \"EWC_Model1_Potency_Pred\"] = 'Weak'\n",
        "merge.loc[merge['Ewc_model_pred'] >=np.nan, \"EWC_Model1_Potency_Pred\"] = 'Non'"
      ]
    },
    {
      "cell_type": "code",
      "execution_count": null,
      "metadata": {
        "id": "_78CmfvBzhiH"
      },
      "outputs": [],
      "source": [
        "# create the new column and set the initial values\n",
        "merge[\"EWC_Model1_Potency_Pred.3class\"] = merge[\"EWC_Model1_Potency_Pred\"]\n",
        "# apply the conditions and labels\n",
        "merge.loc[merge[\"EWC_Model1_Potency_Pred\"] == \"Extreme\", \"EWC_Model1_Potency_Pred.3class\"] = \"Strong\"\n",
        "merge.loc[merge[\"EWC_Model1_Potency_Pred\"] == \"Moderate\", \"EWC_Model1_Potency_Pred.3class\"] = \"Weak\"\n",
        "\n",
        "# convert the column to a categorical variable with the specified levels\n",
        "merge[\"EWC_Model1_Potency_Pred.3class\"] = pd.Categorical(merge[\"EWC_Model1_Potency_Pred.3class\"], categories=[\"Non\", \"Weak\", \"Strong\"])"
      ]
    },
    {
      "cell_type": "code",
      "execution_count": null,
      "metadata": {
        "id": "aZKlJuZ2zrgP"
      },
      "outputs": [],
      "source": [
        "# create the new column and set the initial values\n",
        "merge['EWC_Model1_Call'] = pd.NA\n",
        "# apply the conditions and labels\n",
        "merge.loc[merge[\"EWC_Model1_Potency_Pred\"].notnull(), 'EWC_Model1_Call'] = 1\n",
        "merge.loc[merge[\"EWC_Model1_Potency_Pred\"].isnull(), 'EWC_Model1_Call'] = 0"
      ]
    },
    {
      "cell_type": "code",
      "execution_count": null,
      "metadata": {
        "colab": {
          "base_uri": "https://localhost:8080/"
        },
        "id": "gBpr7HcEe07w",
        "outputId": "561b4d08-9c59-4b75-fe34-3b775312e3e1"
      },
      "outputs": [
        {
          "data": {
            "text/plain": [
              "array(['Moderate', nan], dtype=object)"
            ]
          },
          "execution_count": 118,
          "metadata": {},
          "output_type": "execute_result"
        }
      ],
      "source": [
        "merge[\"EWC_Model1_Potency_Pred\"].unique()"
      ]
    },
    {
      "cell_type": "code",
      "execution_count": null,
      "metadata": {
        "colab": {
          "base_uri": "https://localhost:8080/"
        },
        "id": "Tnj_zVFSfJ42",
        "outputId": "f6a162d1-9ee5-4dcd-d3aa-b6022a6c5451"
      },
      "outputs": [
        {
          "data": {
            "text/plain": [
              "array([1, 0], dtype=object)"
            ]
          },
          "execution_count": 119,
          "metadata": {},
          "output_type": "execute_result"
        }
      ],
      "source": [
        "merge['EWC_Model1_Call'].unique()"
      ]
    },
    {
      "cell_type": "code",
      "execution_count": null,
      "metadata": {
        "colab": {
          "base_uri": "https://localhost:8080/",
          "height": 237
        },
        "id": "1e36Ofk2eVml",
        "outputId": "0ca4e6e4-f989-4bf6-80c4-3e99edb70b2b"
      },
      "outputs": [
        {
          "data": {
            "text/html": [
              "\n",
              "  <div id=\"df-960ffab1-ae6d-4f23-b242-26a2712847f5\">\n",
              "    <div class=\"colab-df-container\">\n",
              "      <div>\n",
              "<style scoped>\n",
              "    .dataframe tbody tr th:only-of-type {\n",
              "        vertical-align: middle;\n",
              "    }\n",
              "\n",
              "    .dataframe tbody tr th {\n",
              "        vertical-align: top;\n",
              "    }\n",
              "\n",
              "    .dataframe thead th {\n",
              "        text-align: right;\n",
              "    }\n",
              "</style>\n",
              "<table border=\"1\" class=\"dataframe\">\n",
              "  <thead>\n",
              "    <tr style=\"text-align: right;\">\n",
              "      <th></th>\n",
              "      <th>EWC_Model1_Potency_Pred</th>\n",
              "      <th>EWC_Model1_Call</th>\n",
              "    </tr>\n",
              "    <tr>\n",
              "      <th>CASRN</th>\n",
              "      <th></th>\n",
              "      <th></th>\n",
              "    </tr>\n",
              "  </thead>\n",
              "  <tbody>\n",
              "    <tr>\n",
              "      <th>35691-65-7</th>\n",
              "      <td>Moderate</td>\n",
              "      <td>1</td>\n",
              "    </tr>\n",
              "    <tr>\n",
              "      <th>149-30-4</th>\n",
              "      <td>Moderate</td>\n",
              "      <td>1</td>\n",
              "    </tr>\n",
              "    <tr>\n",
              "      <th>104-55-2</th>\n",
              "      <td>Moderate</td>\n",
              "      <td>1</td>\n",
              "    </tr>\n",
              "    <tr>\n",
              "      <th>137-26-8</th>\n",
              "      <td>Moderate</td>\n",
              "      <td>1</td>\n",
              "    </tr>\n",
              "    <tr>\n",
              "      <th>69-72-7</th>\n",
              "      <td>Moderate</td>\n",
              "      <td>1</td>\n",
              "    </tr>\n",
              "  </tbody>\n",
              "</table>\n",
              "</div>\n",
              "      <button class=\"colab-df-convert\" onclick=\"convertToInteractive('df-960ffab1-ae6d-4f23-b242-26a2712847f5')\"\n",
              "              title=\"Convert this dataframe to an interactive table.\"\n",
              "              style=\"display:none;\">\n",
              "        \n",
              "  <svg xmlns=\"http://www.w3.org/2000/svg\" height=\"24px\"viewBox=\"0 0 24 24\"\n",
              "       width=\"24px\">\n",
              "    <path d=\"M0 0h24v24H0V0z\" fill=\"none\"/>\n",
              "    <path d=\"M18.56 5.44l.94 2.06.94-2.06 2.06-.94-2.06-.94-.94-2.06-.94 2.06-2.06.94zm-11 1L8.5 8.5l.94-2.06 2.06-.94-2.06-.94L8.5 2.5l-.94 2.06-2.06.94zm10 10l.94 2.06.94-2.06 2.06-.94-2.06-.94-.94-2.06-.94 2.06-2.06.94z\"/><path d=\"M17.41 7.96l-1.37-1.37c-.4-.4-.92-.59-1.43-.59-.52 0-1.04.2-1.43.59L10.3 9.45l-7.72 7.72c-.78.78-.78 2.05 0 2.83L4 21.41c.39.39.9.59 1.41.59.51 0 1.02-.2 1.41-.59l7.78-7.78 2.81-2.81c.8-.78.8-2.07 0-2.86zM5.41 20L4 18.59l7.72-7.72 1.47 1.35L5.41 20z\"/>\n",
              "  </svg>\n",
              "      </button>\n",
              "      \n",
              "  <style>\n",
              "    .colab-df-container {\n",
              "      display:flex;\n",
              "      flex-wrap:wrap;\n",
              "      gap: 12px;\n",
              "    }\n",
              "\n",
              "    .colab-df-convert {\n",
              "      background-color: #E8F0FE;\n",
              "      border: none;\n",
              "      border-radius: 50%;\n",
              "      cursor: pointer;\n",
              "      display: none;\n",
              "      fill: #1967D2;\n",
              "      height: 32px;\n",
              "      padding: 0 0 0 0;\n",
              "      width: 32px;\n",
              "    }\n",
              "\n",
              "    .colab-df-convert:hover {\n",
              "      background-color: #E2EBFA;\n",
              "      box-shadow: 0px 1px 2px rgba(60, 64, 67, 0.3), 0px 1px 3px 1px rgba(60, 64, 67, 0.15);\n",
              "      fill: #174EA6;\n",
              "    }\n",
              "\n",
              "    [theme=dark] .colab-df-convert {\n",
              "      background-color: #3B4455;\n",
              "      fill: #D2E3FC;\n",
              "    }\n",
              "\n",
              "    [theme=dark] .colab-df-convert:hover {\n",
              "      background-color: #434B5C;\n",
              "      box-shadow: 0px 1px 3px 1px rgba(0, 0, 0, 0.15);\n",
              "      filter: drop-shadow(0px 1px 2px rgba(0, 0, 0, 0.3));\n",
              "      fill: #FFFFFF;\n",
              "    }\n",
              "  </style>\n",
              "\n",
              "      <script>\n",
              "        const buttonEl =\n",
              "          document.querySelector('#df-960ffab1-ae6d-4f23-b242-26a2712847f5 button.colab-df-convert');\n",
              "        buttonEl.style.display =\n",
              "          google.colab.kernel.accessAllowed ? 'block' : 'none';\n",
              "\n",
              "        async function convertToInteractive(key) {\n",
              "          const element = document.querySelector('#df-960ffab1-ae6d-4f23-b242-26a2712847f5');\n",
              "          const dataTable =\n",
              "            await google.colab.kernel.invokeFunction('convertToInteractive',\n",
              "                                                     [key], {});\n",
              "          if (!dataTable) return;\n",
              "\n",
              "          const docLinkHtml = 'Like what you see? Visit the ' +\n",
              "            '<a target=\"_blank\" href=https://colab.research.google.com/notebooks/data_table.ipynb>data table notebook</a>'\n",
              "            + ' to learn more about interactive tables.';\n",
              "          element.innerHTML = '';\n",
              "          dataTable['output_type'] = 'display_data';\n",
              "          await google.colab.output.renderOutput(dataTable, element);\n",
              "          const docLink = document.createElement('div');\n",
              "          docLink.innerHTML = docLinkHtml;\n",
              "          element.appendChild(docLink);\n",
              "        }\n",
              "      </script>\n",
              "    </div>\n",
              "  </div>\n",
              "  "
            ],
            "text/plain": [
              "           EWC_Model1_Potency_Pred EWC_Model1_Call\n",
              "CASRN                                             \n",
              "35691-65-7                Moderate               1\n",
              "149-30-4                  Moderate               1\n",
              "104-55-2                  Moderate               1\n",
              "137-26-8                  Moderate               1\n",
              "69-72-7                   Moderate               1"
            ]
          },
          "execution_count": 120,
          "metadata": {},
          "output_type": "execute_result"
        }
      ],
      "source": [
        "merge[[\"EWC_Model1_Potency_Pred\",'EWC_Model1_Call']].head()"
      ]
    },
    {
      "cell_type": "code",
      "execution_count": null,
      "metadata": {
        "id": "3-_GKHNwz0RL"
      },
      "outputs": [],
      "source": [
        "#merge['EWC_Model1_Call'] = pd.factorize(merge['EWC_Model1_Call'])[0]"
      ]
    },
    {
      "cell_type": "code",
      "execution_count": null,
      "metadata": {
        "colab": {
          "base_uri": "https://localhost:8080/",
          "height": 455
        },
        "id": "hlHjuQkTdN1D",
        "outputId": "e4d1fe13-f010-4599-eba4-03707426c2d9"
      },
      "outputs": [
        {
          "data": {
            "text/html": [
              "\n",
              "  <div id=\"df-c0affe87-48c6-4b60-a030-5f6bbf474fa7\">\n",
              "    <div class=\"colab-df-container\">\n",
              "      <div>\n",
              "<style scoped>\n",
              "    .dataframe tbody tr th:only-of-type {\n",
              "        vertical-align: middle;\n",
              "    }\n",
              "\n",
              "    .dataframe tbody tr th {\n",
              "        vertical-align: top;\n",
              "    }\n",
              "\n",
              "    .dataframe thead th {\n",
              "        text-align: right;\n",
              "    }\n",
              "</style>\n",
              "<table border=\"1\" class=\"dataframe\">\n",
              "  <thead>\n",
              "    <tr style=\"text-align: right;\">\n",
              "      <th></th>\n",
              "      <th>Ewc_model_pred</th>\n",
              "      <th>EWC_Model1_Potency_Pred</th>\n",
              "    </tr>\n",
              "    <tr>\n",
              "      <th>CASRN</th>\n",
              "      <th></th>\n",
              "      <th></th>\n",
              "    </tr>\n",
              "  </thead>\n",
              "  <tbody>\n",
              "    <tr>\n",
              "      <th>35691-65-7</th>\n",
              "      <td>0.338620</td>\n",
              "      <td>Moderate</td>\n",
              "    </tr>\n",
              "    <tr>\n",
              "      <th>149-30-4</th>\n",
              "      <td>0.633464</td>\n",
              "      <td>Moderate</td>\n",
              "    </tr>\n",
              "    <tr>\n",
              "      <th>104-55-2</th>\n",
              "      <td>0.434545</td>\n",
              "      <td>Moderate</td>\n",
              "    </tr>\n",
              "    <tr>\n",
              "      <th>137-26-8</th>\n",
              "      <td>0.338022</td>\n",
              "      <td>Moderate</td>\n",
              "    </tr>\n",
              "    <tr>\n",
              "      <th>69-72-7</th>\n",
              "      <td>0.873800</td>\n",
              "      <td>Moderate</td>\n",
              "    </tr>\n",
              "    <tr>\n",
              "      <th>...</th>\n",
              "      <td>...</td>\n",
              "      <td>...</td>\n",
              "    </tr>\n",
              "    <tr>\n",
              "      <th>101-39-3</th>\n",
              "      <td>0.601899</td>\n",
              "      <td>Moderate</td>\n",
              "    </tr>\n",
              "    <tr>\n",
              "      <th>111-80-8</th>\n",
              "      <td>0.630442</td>\n",
              "      <td>Moderate</td>\n",
              "    </tr>\n",
              "    <tr>\n",
              "      <th>93-51-6</th>\n",
              "      <td>0.758299</td>\n",
              "      <td>Moderate</td>\n",
              "    </tr>\n",
              "    <tr>\n",
              "      <th>122-78-1</th>\n",
              "      <td>0.441784</td>\n",
              "      <td>Moderate</td>\n",
              "    </tr>\n",
              "    <tr>\n",
              "      <th>17369-59-4</th>\n",
              "      <td>0.632071</td>\n",
              "      <td>Moderate</td>\n",
              "    </tr>\n",
              "  </tbody>\n",
              "</table>\n",
              "<p>127 rows × 2 columns</p>\n",
              "</div>\n",
              "      <button class=\"colab-df-convert\" onclick=\"convertToInteractive('df-c0affe87-48c6-4b60-a030-5f6bbf474fa7')\"\n",
              "              title=\"Convert this dataframe to an interactive table.\"\n",
              "              style=\"display:none;\">\n",
              "        \n",
              "  <svg xmlns=\"http://www.w3.org/2000/svg\" height=\"24px\"viewBox=\"0 0 24 24\"\n",
              "       width=\"24px\">\n",
              "    <path d=\"M0 0h24v24H0V0z\" fill=\"none\"/>\n",
              "    <path d=\"M18.56 5.44l.94 2.06.94-2.06 2.06-.94-2.06-.94-.94-2.06-.94 2.06-2.06.94zm-11 1L8.5 8.5l.94-2.06 2.06-.94-2.06-.94L8.5 2.5l-.94 2.06-2.06.94zm10 10l.94 2.06.94-2.06 2.06-.94-2.06-.94-.94-2.06-.94 2.06-2.06.94z\"/><path d=\"M17.41 7.96l-1.37-1.37c-.4-.4-.92-.59-1.43-.59-.52 0-1.04.2-1.43.59L10.3 9.45l-7.72 7.72c-.78.78-.78 2.05 0 2.83L4 21.41c.39.39.9.59 1.41.59.51 0 1.02-.2 1.41-.59l7.78-7.78 2.81-2.81c.8-.78.8-2.07 0-2.86zM5.41 20L4 18.59l7.72-7.72 1.47 1.35L5.41 20z\"/>\n",
              "  </svg>\n",
              "      </button>\n",
              "      \n",
              "  <style>\n",
              "    .colab-df-container {\n",
              "      display:flex;\n",
              "      flex-wrap:wrap;\n",
              "      gap: 12px;\n",
              "    }\n",
              "\n",
              "    .colab-df-convert {\n",
              "      background-color: #E8F0FE;\n",
              "      border: none;\n",
              "      border-radius: 50%;\n",
              "      cursor: pointer;\n",
              "      display: none;\n",
              "      fill: #1967D2;\n",
              "      height: 32px;\n",
              "      padding: 0 0 0 0;\n",
              "      width: 32px;\n",
              "    }\n",
              "\n",
              "    .colab-df-convert:hover {\n",
              "      background-color: #E2EBFA;\n",
              "      box-shadow: 0px 1px 2px rgba(60, 64, 67, 0.3), 0px 1px 3px 1px rgba(60, 64, 67, 0.15);\n",
              "      fill: #174EA6;\n",
              "    }\n",
              "\n",
              "    [theme=dark] .colab-df-convert {\n",
              "      background-color: #3B4455;\n",
              "      fill: #D2E3FC;\n",
              "    }\n",
              "\n",
              "    [theme=dark] .colab-df-convert:hover {\n",
              "      background-color: #434B5C;\n",
              "      box-shadow: 0px 1px 3px 1px rgba(0, 0, 0, 0.15);\n",
              "      filter: drop-shadow(0px 1px 2px rgba(0, 0, 0, 0.3));\n",
              "      fill: #FFFFFF;\n",
              "    }\n",
              "  </style>\n",
              "\n",
              "      <script>\n",
              "        const buttonEl =\n",
              "          document.querySelector('#df-c0affe87-48c6-4b60-a030-5f6bbf474fa7 button.colab-df-convert');\n",
              "        buttonEl.style.display =\n",
              "          google.colab.kernel.accessAllowed ? 'block' : 'none';\n",
              "\n",
              "        async function convertToInteractive(key) {\n",
              "          const element = document.querySelector('#df-c0affe87-48c6-4b60-a030-5f6bbf474fa7');\n",
              "          const dataTable =\n",
              "            await google.colab.kernel.invokeFunction('convertToInteractive',\n",
              "                                                     [key], {});\n",
              "          if (!dataTable) return;\n",
              "\n",
              "          const docLinkHtml = 'Like what you see? Visit the ' +\n",
              "            '<a target=\"_blank\" href=https://colab.research.google.com/notebooks/data_table.ipynb>data table notebook</a>'\n",
              "            + ' to learn more about interactive tables.';\n",
              "          element.innerHTML = '';\n",
              "          dataTable['output_type'] = 'display_data';\n",
              "          await google.colab.output.renderOutput(dataTable, element);\n",
              "          const docLink = document.createElement('div');\n",
              "          docLink.innerHTML = docLinkHtml;\n",
              "          element.appendChild(docLink);\n",
              "        }\n",
              "      </script>\n",
              "    </div>\n",
              "  </div>\n",
              "  "
            ],
            "text/plain": [
              "            Ewc_model_pred EWC_Model1_Potency_Pred\n",
              "CASRN                                             \n",
              "35691-65-7        0.338620                Moderate\n",
              "149-30-4          0.633464                Moderate\n",
              "104-55-2          0.434545                Moderate\n",
              "137-26-8          0.338022                Moderate\n",
              "69-72-7           0.873800                Moderate\n",
              "...                    ...                     ...\n",
              "101-39-3          0.601899                Moderate\n",
              "111-80-8          0.630442                Moderate\n",
              "93-51-6           0.758299                Moderate\n",
              "122-78-1          0.441784                Moderate\n",
              "17369-59-4        0.632071                Moderate\n",
              "\n",
              "[127 rows x 2 columns]"
            ]
          },
          "execution_count": 121,
          "metadata": {},
          "output_type": "execute_result"
        }
      ],
      "source": [
        "merge[['Ewc_model_pred',\"EWC_Model1_Potency_Pred\"]]"
      ]
    },
    {
      "cell_type": "code",
      "execution_count": null,
      "metadata": {
        "id": "09otzXQ1z5zl"
      },
      "outputs": [],
      "source": [
        "merge['EWC_Model1_Potency_Pred.3class']=merge['EWC_Model1_Potency_Pred.3class'].fillna('Non')"
      ]
    },
    {
      "cell_type": "code",
      "execution_count": null,
      "metadata": {
        "colab": {
          "base_uri": "https://localhost:8080/"
        },
        "id": "0UtSnVlBftMm",
        "outputId": "712aa037-20c5-40bf-e216-f12abf77b688"
      },
      "outputs": [
        {
          "data": {
            "text/plain": [
              "CASRN\n",
              "35691-65-7    1\n",
              "149-30-4      1\n",
              "104-55-2      1\n",
              "137-26-8      1\n",
              "69-72-7       1\n",
              "Name: EWC_Model1_Call, dtype: object"
            ]
          },
          "execution_count": 122,
          "metadata": {},
          "output_type": "execute_result"
        }
      ],
      "source": [
        "merge['EWC_Model1_Call'].head()"
      ]
    },
    {
      "cell_type": "code",
      "execution_count": null,
      "metadata": {
        "id": "qK6Z64Ubd9yi"
      },
      "outputs": [],
      "source": [
        "merge['EWC_Model1_Call'] = merge['EWC_Model1_Call'].astype('int64')"
      ]
    },
    {
      "cell_type": "code",
      "execution_count": null,
      "metadata": {
        "colab": {
          "base_uri": "https://localhost:8080/",
          "height": 364
        },
        "id": "xlBDe_XKz_-X",
        "outputId": "b35b7c55-5912-4be8-a254-e576dcd00b05"
      },
      "outputs": [
        {
          "data": {
            "text/plain": [
              "<matplotlib.axes._subplots.AxesSubplot at 0x7f59e8c661f0>"
            ]
          },
          "execution_count": 124,
          "metadata": {},
          "output_type": "execute_result"
        },
        {
          "data": {
            "image/png": "[encoded data removed]",
            "text/plain": [
              "<Figure size 576x396 with 2 Axes>"
            ]
          },
          "metadata": {},
          "output_type": "display_data"
        }
      ],
      "source": [
        "import pandas as pd\n",
        "from sklearn.metrics import confusion_matrix\n",
        "# create the confusion matrix for LLNA harzard\n",
        "cm=confusion_matrix(merge['EWC_Model1_Call'], merge['LLNACallMNC'], labels=[1,0])\n",
        "import seaborn as sns\n",
        "sns.heatmap(cm, annot=True, fmt='d')"
      ]
    },
    {
      "cell_type": "code",
      "execution_count": null,
      "metadata": {
        "colab": {
          "base_uri": "https://localhost:8080/",
          "height": 364
        },
        "id": "hffOHCTK_hcN",
        "outputId": "ac27c73f-aa9d-4dfa-eef0-6393e1cc7953"
      },
      "outputs": [
        {
          "data": {
            "text/plain": [
              "<matplotlib.axes._subplots.AxesSubplot at 0x7f59ed153a30>"
            ]
          },
          "execution_count": 125,
          "metadata": {},
          "output_type": "execute_result"
        },
        {
          "data": {
            "image/png": "[encoded data removed]",
            "text/plain": [
              "<Figure size 576x396 with 2 Axes>"
            ]
          },
          "metadata": {},
          "output_type": "display_data"
        }
      ],
      "source": [
        "# Binary Class accuracy usisng human data\n",
        "hm=confusion_matrix(merge['EWC_Model1_Call'], merge['humanCall'], labels=[1,0])\n",
        "sns.heatmap(hm, annot=True, fmt='d')"
      ]
    },
    {
      "cell_type": "code",
      "execution_count": null,
      "metadata": {
        "colab": {
          "base_uri": "https://localhost:8080/",
          "height": 364
        },
        "id": "NT8Sam350Q5K",
        "outputId": "115c76f3-6445-46a4-cc16-29de2ab451aa"
      },
      "outputs": [
        {
          "data": {
            "text/plain": [
              "<matplotlib.axes._subplots.AxesSubplot at 0x7f59ed1535b0>"
            ]
          },
          "execution_count": 126,
          "metadata": {},
          "output_type": "execute_result"
        },
        {
          "data": {
            "image/png": "[encoded data removed]",
            "text/plain": [
              "<Figure size 576x396 with 2 Axes>"
            ]
          },
          "metadata": {},
          "output_type": "display_data"
        }
      ],
      "source": [
        "# convert the columns to categorical variables with the specified levels\n",
        "merge['LLNApotency3classMNC'] = pd.Categorical(merge['LLNApotency3classMNC'], categories=[\"Non\", \"Weak\", \"Strong\"])\n",
        "merge['EWC_Model1_Potency_Pred.3class'] = pd.Categorical(merge['EWC_Model1_Potency_Pred.3class'], categories=[\"Non\", \"Weak\", \"Strong\"])\n",
        "# create the confusion matrix\n",
        "llna_3c=confusion_matrix(merge['EWC_Model1_Potency_Pred.3class'], merge['LLNApotency3classMNC'], labels=[\"Non\", \"Weak\", \"Strong\"])\n",
        "sns.heatmap(llna_3c, annot=True, fmt='d')"
      ]
    },
    {
      "cell_type": "code",
      "execution_count": null,
      "metadata": {
        "colab": {
          "base_uri": "https://localhost:8080/",
          "height": 364
        },
        "id": "2W9f6ml1ASdI",
        "outputId": "23561007-9bfc-4c15-93a9-b9acad93c93a"
      },
      "outputs": [
        {
          "data": {
            "text/plain": [
              "<matplotlib.axes._subplots.AxesSubplot at 0x7f59ed5b29d0>"
            ]
          },
          "execution_count": 127,
          "metadata": {},
          "output_type": "execute_result"
        },
        {
          "data": {
            "image/png": "[encoded data removed]",
            "text/plain": [
              "<Figure size 576x396 with 2 Axes>"
            ]
          },
          "metadata": {},
          "output_type": "display_data"
        }
      ],
      "source": [
        "# create the confusion matrix for 3 class potency and human data \n",
        "hu_3c=confusion_matrix(merge['EWC_Model1_Potency_Pred.3class'], merge['humanpotency3class'], labels=[\"Non\", \"Weak\", \"Strong\"])\n",
        "sns.heatmap(hu_3c, annot=True, fmt='d')"
      ]
    },
    {
      "cell_type": "code",
      "execution_count": null,
      "metadata": {
        "id": "QK8BjQ1Scabq"
      },
      "outputs": [],
      "source": [
        "data_to_excel=pd.ExcelWriter('New(Imax)_CosEUdata.xlsx')\n",
        "CosEu.to_excel(data_to_excel)\n",
        "data_to_excel.save()"
      ]
    },
    {
      "cell_type": "code",
      "execution_count": 27,
      "metadata": {
        "id": "Z4eDXFUGdLCH"
      },
      "outputs": [],
      "source": [
        "import pickle"
      ]
    },
    {
      "cell_type": "code",
      "execution_count": 29,
      "metadata": {
        "id": "2CjK44vCdq_2"
      },
      "outputs": [],
      "source": [
        "#collect the model object file\n",
        "filename ='EWC_2.pkl' \n",
        "pickle.dump(reg,open(filename,'wb'))"
      ]
    },
    {
      "cell_type": "code",
      "execution_count": 30,
      "metadata": {
        "colab": {
          "base_uri": "https://localhost:8080/"
        },
        "id": "5D8znD8ydzZ-",
        "outputId": "7d68c838-5d9e-40aa-bff0-446e24dcf70f"
      },
      "outputs": [
        {
          "output_type": "execute_result",
          "data": {
            "text/plain": [
              "array([0.79784195, 0.74724789, 0.85407619, 0.90048852, 0.94440321,\n",
              "       0.80509218, 0.30056083, 0.91948157, 0.85100469, 0.8187002 ,\n",
              "       0.7931046 , 0.62644152, 0.84089026, 0.80276724])"
            ]
          },
          "metadata": {},
          "execution_count": 30
        }
      ],
      "source": [
        "model = pickle.load(open(filename,'rb'))\n",
        "model.predict(X_test)"
      ]
    },
    {
      "cell_type": "code",
      "execution_count": null,
      "metadata": {
        "colab": {
          "base_uri": "https://localhost:8080/"
        },
        "id": "BWe4I52ieBYa",
        "outputId": "f9f0c971-d781-4951-e2d4-5568d61fe55c"
      },
      "outputs": [
        {
          "name": "stdout",
          "output_type": "stream",
          "text": [
            "\u001b[2K     \u001b[90m━━━━━━━━━━━━━━━━━━━━━━━━━━━━━━━━━━━━━━━━\u001b[0m \u001b[32m9.3/9.3 MB\u001b[0m \u001b[31m116.2 MB/s\u001b[0m eta \u001b[36m0:00:00\u001b[0m\n",
            "\u001b[2K     \u001b[90m━━━━━━━━━━━━━━━━━━━━━━━━━━━━━━━━━━━━━━\u001b[0m \u001b[32m164.8/164.8 KB\u001b[0m \u001b[31m24.2 MB/s\u001b[0m eta \u001b[36m0:00:00\u001b[0m\n",
            "\u001b[2K     \u001b[90m━━━━━━━━━━━━━━━━━━━━━━━━━━━━━━━━━━━━━━━━\u001b[0m \u001b[32m4.7/4.7 MB\u001b[0m \u001b[31m126.5 MB/s\u001b[0m eta \u001b[36m0:00:00\u001b[0m\n",
            "\u001b[2K     \u001b[90m━━━━━━━━━━━━━━━━━━━━━━━━━━━━━━━━━━━━━━━━\u001b[0m \u001b[32m79.0/79.0 KB\u001b[0m \u001b[31m10.7 MB/s\u001b[0m eta \u001b[36m0:00:00\u001b[0m\n",
            "\u001b[?25h  Preparing metadata (setup.py) ... \u001b[?25l\u001b[?25hdone\n",
            "\u001b[2K     \u001b[90m━━━━━━━━━━━━━━━━━━━━━━━━━━━━━━━━━━━━━━\u001b[0m \u001b[32m239.0/239.0 KB\u001b[0m \u001b[31m27.2 MB/s\u001b[0m eta \u001b[36m0:00:00\u001b[0m\n",
            "\u001b[2K     \u001b[90m━━━━━━━━━━━━━━━━━━━━━━━━━━━━━━━━━━━━━━\u001b[0m \u001b[32m184.0/184.0 KB\u001b[0m \u001b[31m25.2 MB/s\u001b[0m eta \u001b[36m0:00:00\u001b[0m\n",
            "\u001b[2K     \u001b[90m━━━━━━━━━━━━━━━━━━━━━━━━━━━━━━━━━━━━━━━━\u001b[0m \u001b[32m62.7/62.7 KB\u001b[0m \u001b[31m8.1 MB/s\u001b[0m eta \u001b[36m0:00:00\u001b[0m\n",
            "\u001b[2K     \u001b[90m━━━━━━━━━━━━━━━━━━━━━━━━━━━━━━━━━━━━━━━━\u001b[0m \u001b[32m1.1/1.1 MB\u001b[0m \u001b[31m81.6 MB/s\u001b[0m eta \u001b[36m0:00:00\u001b[0m\n",
            "\u001b[2K     \u001b[90m━━━━━━━━━━━━━━━━━━━━━━━━━━━━━━━━━━━━━━━━\u001b[0m \u001b[32m84.5/84.5 KB\u001b[0m \u001b[31m10.6 MB/s\u001b[0m eta \u001b[36m0:00:00\u001b[0m\n",
            "\u001b[?25h  Building wheel for validators (setup.py) ... \u001b[?25l\u001b[?25hdone\n",
            "\u001b[31mERROR: pip's dependency resolver does not currently take into account all the packages that are installed. This behaviour is the source of the following dependency conflicts.\n",
            "ipython 7.9.0 requires jedi>=0.10, which is not installed.\u001b[0m\u001b[31m\n",
            "\u001b[K\u001b[?25h/tools/node/bin/lt -> /tools/node/lib/node_modules/localtunnel/bin/lt.js\n",
            "+ localtunnel@2.0.2\n",
            "added 22 packages from 22 contributors in 1.217s\n"
          ]
        }
      ],
      "source": [
        "!pip install streamlit --quiet\n",
        "!npm install -g localtunnel"
      ]
    },
    {
      "cell_type": "code",
      "execution_count": null,
      "metadata": {
        "colab": {
          "base_uri": "https://localhost:8080/"
        },
        "id": "5-RoM9YfdML1",
        "outputId": "987e6360-5d5a-46ae-9b48-a5ace0d24426"
      },
      "outputs": [
        {
          "name": "stdout",
          "output_type": "stream",
          "text": [
            "Writing app.py\n"
          ]
        }
      ],
      "source": [
        "\n",
        "import numpy as np\n",
        "import cloudpickle as cp\n",
        "from urllib.request import urlopen\n",
        "from sklearn.preprocessing import MinMaxScaler\n",
        "import pickle\n",
        "import pandas as pd\n",
        "import streamlit as st \n",
        "from PIL import Image\n",
        "#collect the model object file\n",
        "filename ='EWC_2' \n",
        "model = pickle.load(open(filename,'rb'))\n",
        "\n",
        "def welcome():\n",
        "    return \"Welcome All\"\n",
        "def inverse_transform(y_pred, min_max_values):\n",
        "  min_value = min_max_values[0]\n",
        "  max_value = min_max_values[1]\n",
        "  return (y_pred * (max_value - min_value)) + min_value\n",
        "\n",
        "def prediction_LOGEC3(log_DPRA_mean, log_hCLAT_MIT,log_KSIma, scaler, model):\n",
        "    # Scale the input\n",
        "    scaled_input = scaler.transform([[log_DPRA_mean, log_hCLAT_MIT,log_KSIma]])\n",
        "    prediction = model.predict(scaled_input)\n",
        "    return prediction\n",
        "\n",
        "def main():\n",
        "    st.title(\"'EDELWEISS CONNECT ITS SKIN SENSITIZATION SOLUTION'\")\n",
        "    st.markdown('An Artificial Neural Network Regression model Utilizing invitro and inchemo(h-CLAT,DPRA,KSIma) Descriptors for predicting skin Sensitization')\n",
        "    html_temp = \"\"\"\n",
        "    EWC_1 SKIN SENSITIZATION PREDICTION App \n",
        "    \"\"\"\n",
        "    st.markdown(html_temp, unsafe_allow_html=True)\n",
        "    log_DPRA_mean = st.number_input(\"DPRA\",min_value=None, max_value=None, value=0.0, step=None)\n",
        "    log_hCLAT_MIT = st.number_input(\"hCLAT\",min_value=None, max_value=None, value=0.0, step=None)\n",
        "    log_KSIma=st.number_input(\"KSIma\",min_value=None, max_value=None, value=0.0, step=None)\n",
        "    \n",
        "    prediction_type = st.selectbox(\"Select prediction type:\", [\"Two-class\", \"Three-class\"])\n",
        "    if st.button(\"Predict\"):\n",
        "    # Scale the input\n",
        "      scaler = MinMaxScaler()\n",
        "      scaler.fit([[log_DPRA_mean, log_hCLAT_MIT,log_KSIma]])\n",
        "    # Call the prediction function\n",
        "      result = prediction_LOGEC3(log_DPRA_mean, log_hCLAT_MIT,log_KSIma, scaler, model)\n",
        "    # Convert the prediction back to the original scale\n",
        "      min_max_values=(0,1)\n",
        "      result = inverse_transform(result,min_max_values)#scaler.inverse_transform(result,min_max_values)\n",
        "      #result=result.reshape(1,1)\n",
        "      if result is not None:\n",
        "        if prediction_type == \"Three-class\":\n",
        "            if float(result) < (-1):\n",
        "                result = 'Strong'\n",
        "            elif float(result) >= (-1) and float(result) < 0:\n",
        "                result = 'Strong'\n",
        "            elif float(result) >= 0 and float(result) < 1:\n",
        "                result = 'Moderate'\n",
        "            elif float(result) >= 1:\n",
        "                result = 'Moderate'\n",
        "            else:\n",
        "                result = 'Non'\n",
        "        else:\n",
        "            if float(result) < (-1):\n",
        "                result = 'Positive'\n",
        "            elif float(result) >= (-1) and float(result) < 0:\n",
        "                result = 'Positive'\n",
        "            elif float(result) >= 0 and float(result) < 1:\n",
        "                result = 'Positive'\n",
        "            elif float(result) >= 1:\n",
        "                result = 'Positive'\n",
        "            else:\n",
        "                result = 'Negative'\n",
        "        st.success(f'The chemical Potency is {result}')\n",
        "    else:\n",
        "        st.warning(\"Prediction failed, please check your inputs and try again.\")\n",
        "    \n",
        "if __name__=='__main__':\n",
        "    main()\n",
        "      "
      ]
    },
    {
      "cell_type": "code",
      "execution_count": null,
      "metadata": {
        "colab": {
          "background_save": true,
          "base_uri": "https://localhost:8080/"
        },
        "id": "3uQNU0FMe6AT",
        "outputId": "7fc49513-76af-48d6-fc01-1b1594b777ca"
      },
      "outputs": [
        {
          "name": "stdout",
          "output_type": "stream",
          "text": [
            "\u001b[K\u001b[?25hnpx: installed 22 in 1.994s\n",
            "your url is: https://fluffy-radios-lick-35-230-175-211.loca.lt\n",
            "\n",
            "Collecting usage statistics. To deactivate, set browser.gatherUsageStats to False.\n",
            "\u001b[0m\n",
            "\u001b[0m\n",
            "\u001b[34m\u001b[1m  You can now view your Streamlit app in your browser.\u001b[0m\n",
            "\u001b[0m\n",
            "\u001b[34m  Network URL: \u001b[0m\u001b[1mhttp://172.28.0.12:8501\u001b[0m\n",
            "\u001b[34m  External URL: \u001b[0m\u001b[1mhttp://35.230.175.211:8501\u001b[0m\n",
            "\u001b[0m\n"
          ]
        }
      ],
      "source": [
        "!streamlit run app.py & npx localtunnel --port 8501"
      ]
    }
  ],
  "metadata": {
    "colab": {
      "provenance": [],
      "authorship_tag": "ABX9TyNzyWQTy5yU+v7RBLUGRDYS",
      "include_colab_link": true
    },
    "kernelspec": {
      "display_name": "Python 3",
      "name": "python3"
    },
    "language_info": {
      "name": "python"
    }
  },
  "nbformat": 4,
  "nbformat_minor": 0
}